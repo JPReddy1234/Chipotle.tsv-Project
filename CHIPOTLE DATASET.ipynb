{
 "cells": [
  {
   "cell_type": "code",
   "execution_count": 1,
   "id": "185faf05",
   "metadata": {},
   "outputs": [],
   "source": [
    "import numpy as np \n",
    "import pandas as pd\n",
    "\n",
    "import re"
   ]
  },
  {
   "cell_type": "code",
   "execution_count": 2,
   "id": "a95ad98e",
   "metadata": {},
   "outputs": [],
   "source": [
    "data = pd.read_csv(\"C:\\\\Users\\\\payas\\\\Downloads\\\\Data-cleaning-for-beginners-using-pandas.csv\")"
   ]
  },
  {
   "cell_type": "code",
   "execution_count": 3,
   "id": "f9f56ac2",
   "metadata": {},
   "outputs": [
    {
     "data": {
      "text/html": [
       "<div>\n",
       "<style scoped>\n",
       "    .dataframe tbody tr th:only-of-type {\n",
       "        vertical-align: middle;\n",
       "    }\n",
       "\n",
       "    .dataframe tbody tr th {\n",
       "        vertical-align: top;\n",
       "    }\n",
       "\n",
       "    .dataframe thead th {\n",
       "        text-align: right;\n",
       "    }\n",
       "</style>\n",
       "<table border=\"1\" class=\"dataframe\">\n",
       "  <thead>\n",
       "    <tr style=\"text-align: right;\">\n",
       "      <th></th>\n",
       "      <th>Index</th>\n",
       "      <th>Age</th>\n",
       "      <th>Salary</th>\n",
       "      <th>Rating</th>\n",
       "      <th>Location</th>\n",
       "      <th>Established</th>\n",
       "      <th>Easy Apply</th>\n",
       "    </tr>\n",
       "  </thead>\n",
       "  <tbody>\n",
       "    <tr>\n",
       "      <th>0</th>\n",
       "      <td>0</td>\n",
       "      <td>44.0</td>\n",
       "      <td>$44k-$99k</td>\n",
       "      <td>5.4</td>\n",
       "      <td>India,In</td>\n",
       "      <td>1999</td>\n",
       "      <td>TRUE</td>\n",
       "    </tr>\n",
       "    <tr>\n",
       "      <th>1</th>\n",
       "      <td>1</td>\n",
       "      <td>66.0</td>\n",
       "      <td>$55k-$66k</td>\n",
       "      <td>3.5</td>\n",
       "      <td>New York,Ny</td>\n",
       "      <td>2002</td>\n",
       "      <td>TRUE</td>\n",
       "    </tr>\n",
       "    <tr>\n",
       "      <th>2</th>\n",
       "      <td>2</td>\n",
       "      <td>NaN</td>\n",
       "      <td>$77k-$89k</td>\n",
       "      <td>-1.0</td>\n",
       "      <td>New York,Ny</td>\n",
       "      <td>-1</td>\n",
       "      <td>-1</td>\n",
       "    </tr>\n",
       "    <tr>\n",
       "      <th>3</th>\n",
       "      <td>3</td>\n",
       "      <td>64.0</td>\n",
       "      <td>$44k-$99k</td>\n",
       "      <td>4.4</td>\n",
       "      <td>India In</td>\n",
       "      <td>1988</td>\n",
       "      <td>-1</td>\n",
       "    </tr>\n",
       "    <tr>\n",
       "      <th>4</th>\n",
       "      <td>4</td>\n",
       "      <td>25.0</td>\n",
       "      <td>$44k-$99k</td>\n",
       "      <td>6.4</td>\n",
       "      <td>Australia Aus</td>\n",
       "      <td>2002</td>\n",
       "      <td>-1</td>\n",
       "    </tr>\n",
       "    <tr>\n",
       "      <th>5</th>\n",
       "      <td>5</td>\n",
       "      <td>44.0</td>\n",
       "      <td>$77k-$89k</td>\n",
       "      <td>1.4</td>\n",
       "      <td>India,In</td>\n",
       "      <td>1999</td>\n",
       "      <td>TRUE</td>\n",
       "    </tr>\n",
       "    <tr>\n",
       "      <th>6</th>\n",
       "      <td>6</td>\n",
       "      <td>21.0</td>\n",
       "      <td>$44k-$99k</td>\n",
       "      <td>0.0</td>\n",
       "      <td>New York,Ny</td>\n",
       "      <td>-1</td>\n",
       "      <td>-1</td>\n",
       "    </tr>\n",
       "    <tr>\n",
       "      <th>7</th>\n",
       "      <td>7</td>\n",
       "      <td>44.0</td>\n",
       "      <td>$44k-$99k</td>\n",
       "      <td>-1.0</td>\n",
       "      <td>Australia Aus</td>\n",
       "      <td>-1</td>\n",
       "      <td>-1</td>\n",
       "    </tr>\n",
       "    <tr>\n",
       "      <th>8</th>\n",
       "      <td>8</td>\n",
       "      <td>35.0</td>\n",
       "      <td>$44k-$99k</td>\n",
       "      <td>5.4</td>\n",
       "      <td>New York,Ny</td>\n",
       "      <td>-1</td>\n",
       "      <td>-1</td>\n",
       "    </tr>\n",
       "    <tr>\n",
       "      <th>9</th>\n",
       "      <td>9</td>\n",
       "      <td>22.0</td>\n",
       "      <td>$44k-$99k</td>\n",
       "      <td>7.7</td>\n",
       "      <td>India,In</td>\n",
       "      <td>-1</td>\n",
       "      <td>TRUE</td>\n",
       "    </tr>\n",
       "    <tr>\n",
       "      <th>10</th>\n",
       "      <td>10</td>\n",
       "      <td>55.0</td>\n",
       "      <td>$10k-$49k</td>\n",
       "      <td>5.4</td>\n",
       "      <td>India,In</td>\n",
       "      <td>2008</td>\n",
       "      <td>TRUE</td>\n",
       "    </tr>\n",
       "    <tr>\n",
       "      <th>11</th>\n",
       "      <td>11</td>\n",
       "      <td>44.0</td>\n",
       "      <td>$10k-$49k</td>\n",
       "      <td>6.7</td>\n",
       "      <td>India,In</td>\n",
       "      <td>2009</td>\n",
       "      <td>-1</td>\n",
       "    </tr>\n",
       "    <tr>\n",
       "      <th>12</th>\n",
       "      <td>12</td>\n",
       "      <td>NaN</td>\n",
       "      <td>$44k-$99k</td>\n",
       "      <td>0.0</td>\n",
       "      <td>India,In</td>\n",
       "      <td>1999</td>\n",
       "      <td>-1</td>\n",
       "    </tr>\n",
       "    <tr>\n",
       "      <th>13</th>\n",
       "      <td>13</td>\n",
       "      <td>25.0</td>\n",
       "      <td>$44k-$99k</td>\n",
       "      <td>-1.0</td>\n",
       "      <td>Australia Aus</td>\n",
       "      <td>2019</td>\n",
       "      <td>TRUE</td>\n",
       "    </tr>\n",
       "    <tr>\n",
       "      <th>14</th>\n",
       "      <td>14</td>\n",
       "      <td>66.0</td>\n",
       "      <td>$44k-$99k</td>\n",
       "      <td>4.0</td>\n",
       "      <td>Australia Aus</td>\n",
       "      <td>2020</td>\n",
       "      <td>TRUE</td>\n",
       "    </tr>\n",
       "    <tr>\n",
       "      <th>15</th>\n",
       "      <td>15</td>\n",
       "      <td>44.0</td>\n",
       "      <td>$88k-$101k</td>\n",
       "      <td>3.0</td>\n",
       "      <td>Australia Aus</td>\n",
       "      <td>1999</td>\n",
       "      <td>-1</td>\n",
       "    </tr>\n",
       "    <tr>\n",
       "      <th>16</th>\n",
       "      <td>16</td>\n",
       "      <td>19.0</td>\n",
       "      <td>$19k-$40k</td>\n",
       "      <td>4.5</td>\n",
       "      <td>India,In</td>\n",
       "      <td>1984</td>\n",
       "      <td>-1</td>\n",
       "    </tr>\n",
       "    <tr>\n",
       "      <th>17</th>\n",
       "      <td>17</td>\n",
       "      <td>NaN</td>\n",
       "      <td>$44k-$99k</td>\n",
       "      <td>5.3</td>\n",
       "      <td>New York,Ny</td>\n",
       "      <td>1943</td>\n",
       "      <td>TRUE</td>\n",
       "    </tr>\n",
       "    <tr>\n",
       "      <th>18</th>\n",
       "      <td>18</td>\n",
       "      <td>35.0</td>\n",
       "      <td>$44k-$99k</td>\n",
       "      <td>6.7</td>\n",
       "      <td>New York,Ny</td>\n",
       "      <td>1954</td>\n",
       "      <td>TRUE</td>\n",
       "    </tr>\n",
       "    <tr>\n",
       "      <th>19</th>\n",
       "      <td>19</td>\n",
       "      <td>32.0</td>\n",
       "      <td>$44k-$99k</td>\n",
       "      <td>3.3</td>\n",
       "      <td>New York,Ny</td>\n",
       "      <td>1955</td>\n",
       "      <td>TRUE</td>\n",
       "    </tr>\n",
       "    <tr>\n",
       "      <th>20</th>\n",
       "      <td>20</td>\n",
       "      <td>NaN</td>\n",
       "      <td>$44k-$99k</td>\n",
       "      <td>5.7</td>\n",
       "      <td>New York,Ny</td>\n",
       "      <td>1944</td>\n",
       "      <td>TRUE</td>\n",
       "    </tr>\n",
       "    <tr>\n",
       "      <th>21</th>\n",
       "      <td>21</td>\n",
       "      <td>35.0</td>\n",
       "      <td>$44k-$99k</td>\n",
       "      <td>5.0</td>\n",
       "      <td>New York,Ny</td>\n",
       "      <td>1946</td>\n",
       "      <td>-1</td>\n",
       "    </tr>\n",
       "    <tr>\n",
       "      <th>22</th>\n",
       "      <td>22</td>\n",
       "      <td>19.0</td>\n",
       "      <td>$55k-$66k</td>\n",
       "      <td>7.8</td>\n",
       "      <td>New York,Ny</td>\n",
       "      <td>1988</td>\n",
       "      <td>TRUE</td>\n",
       "    </tr>\n",
       "    <tr>\n",
       "      <th>23</th>\n",
       "      <td>23</td>\n",
       "      <td>NaN</td>\n",
       "      <td>$44k-$99k</td>\n",
       "      <td>2.4</td>\n",
       "      <td>New York,Ny</td>\n",
       "      <td>1999</td>\n",
       "      <td>TRUE</td>\n",
       "    </tr>\n",
       "    <tr>\n",
       "      <th>24</th>\n",
       "      <td>24</td>\n",
       "      <td>13.0</td>\n",
       "      <td>$44k-$99k</td>\n",
       "      <td>-1.0</td>\n",
       "      <td>New York,Ny</td>\n",
       "      <td>1987</td>\n",
       "      <td>-1</td>\n",
       "    </tr>\n",
       "    <tr>\n",
       "      <th>25</th>\n",
       "      <td>25</td>\n",
       "      <td>55.0</td>\n",
       "      <td>$44k-$99k</td>\n",
       "      <td>0.0</td>\n",
       "      <td>Australia Aus</td>\n",
       "      <td>1980</td>\n",
       "      <td>TRUE</td>\n",
       "    </tr>\n",
       "    <tr>\n",
       "      <th>26</th>\n",
       "      <td>26</td>\n",
       "      <td>NaN</td>\n",
       "      <td>$55k-$66k</td>\n",
       "      <td>NaN</td>\n",
       "      <td>India,In</td>\n",
       "      <td>1934</td>\n",
       "      <td>TRUE</td>\n",
       "    </tr>\n",
       "    <tr>\n",
       "      <th>27</th>\n",
       "      <td>27</td>\n",
       "      <td>52.0</td>\n",
       "      <td>$44k-$99k</td>\n",
       "      <td>5.4</td>\n",
       "      <td>India,In</td>\n",
       "      <td>1935</td>\n",
       "      <td>-1</td>\n",
       "    </tr>\n",
       "    <tr>\n",
       "      <th>28</th>\n",
       "      <td>28</td>\n",
       "      <td>NaN</td>\n",
       "      <td>$39k-$88k</td>\n",
       "      <td>3.4</td>\n",
       "      <td>Australia Aus</td>\n",
       "      <td>1932</td>\n",
       "      <td>-1</td>\n",
       "    </tr>\n",
       "  </tbody>\n",
       "</table>\n",
       "</div>"
      ],
      "text/plain": [
       "    Index   Age      Salary  Rating       Location  Established Easy Apply\n",
       "0       0  44.0   $44k-$99k     5.4       India,In         1999       TRUE\n",
       "1       1  66.0   $55k-$66k     3.5    New York,Ny         2002       TRUE\n",
       "2       2   NaN   $77k-$89k    -1.0    New York,Ny           -1         -1\n",
       "3       3  64.0   $44k-$99k     4.4       India In         1988         -1\n",
       "4       4  25.0   $44k-$99k     6.4  Australia Aus         2002         -1\n",
       "5       5  44.0   $77k-$89k     1.4       India,In         1999       TRUE\n",
       "6       6  21.0   $44k-$99k     0.0    New York,Ny           -1         -1\n",
       "7       7  44.0   $44k-$99k    -1.0  Australia Aus           -1         -1\n",
       "8       8  35.0   $44k-$99k     5.4    New York,Ny           -1         -1\n",
       "9       9  22.0   $44k-$99k     7.7       India,In           -1       TRUE\n",
       "10     10  55.0   $10k-$49k     5.4       India,In         2008       TRUE\n",
       "11     11  44.0   $10k-$49k     6.7       India,In         2009         -1\n",
       "12     12   NaN   $44k-$99k     0.0       India,In         1999         -1\n",
       "13     13  25.0   $44k-$99k    -1.0  Australia Aus         2019       TRUE\n",
       "14     14  66.0   $44k-$99k     4.0  Australia Aus         2020       TRUE\n",
       "15     15  44.0  $88k-$101k     3.0  Australia Aus         1999         -1\n",
       "16     16  19.0   $19k-$40k     4.5       India,In         1984         -1\n",
       "17     17   NaN   $44k-$99k     5.3    New York,Ny         1943       TRUE\n",
       "18     18  35.0   $44k-$99k     6.7    New York,Ny         1954       TRUE\n",
       "19     19  32.0   $44k-$99k     3.3    New York,Ny         1955       TRUE\n",
       "20     20   NaN   $44k-$99k     5.7    New York,Ny         1944       TRUE\n",
       "21     21  35.0   $44k-$99k     5.0    New York,Ny         1946         -1\n",
       "22     22  19.0   $55k-$66k     7.8    New York,Ny         1988       TRUE\n",
       "23     23   NaN   $44k-$99k     2.4    New York,Ny         1999       TRUE\n",
       "24     24  13.0   $44k-$99k    -1.0    New York,Ny         1987         -1\n",
       "25     25  55.0   $44k-$99k     0.0  Australia Aus         1980       TRUE\n",
       "26     26   NaN   $55k-$66k     NaN       India,In         1934       TRUE\n",
       "27     27  52.0   $44k-$99k     5.4       India,In         1935         -1\n",
       "28     28   NaN   $39k-$88k     3.4  Australia Aus         1932         -1"
      ]
     },
     "execution_count": 3,
     "metadata": {},
     "output_type": "execute_result"
    }
   ],
   "source": [
    "data"
   ]
  },
  {
   "cell_type": "code",
   "execution_count": 4,
   "id": "dfd06a7b",
   "metadata": {},
   "outputs": [
    {
     "data": {
      "text/html": [
       "<div>\n",
       "<style scoped>\n",
       "    .dataframe tbody tr th:only-of-type {\n",
       "        vertical-align: middle;\n",
       "    }\n",
       "\n",
       "    .dataframe tbody tr th {\n",
       "        vertical-align: top;\n",
       "    }\n",
       "\n",
       "    .dataframe thead th {\n",
       "        text-align: right;\n",
       "    }\n",
       "</style>\n",
       "<table border=\"1\" class=\"dataframe\">\n",
       "  <thead>\n",
       "    <tr style=\"text-align: right;\">\n",
       "      <th></th>\n",
       "      <th>Index</th>\n",
       "      <th>Age</th>\n",
       "      <th>Salary</th>\n",
       "      <th>Rating</th>\n",
       "      <th>Location</th>\n",
       "      <th>Established</th>\n",
       "      <th>Easy Apply</th>\n",
       "    </tr>\n",
       "  </thead>\n",
       "  <tbody>\n",
       "    <tr>\n",
       "      <th>0</th>\n",
       "      <td>0</td>\n",
       "      <td>44.0</td>\n",
       "      <td>$44k-$99k</td>\n",
       "      <td>5.4</td>\n",
       "      <td>India,In</td>\n",
       "      <td>1999</td>\n",
       "      <td>TRUE</td>\n",
       "    </tr>\n",
       "    <tr>\n",
       "      <th>1</th>\n",
       "      <td>1</td>\n",
       "      <td>66.0</td>\n",
       "      <td>$55k-$66k</td>\n",
       "      <td>3.5</td>\n",
       "      <td>New York,Ny</td>\n",
       "      <td>2002</td>\n",
       "      <td>TRUE</td>\n",
       "    </tr>\n",
       "    <tr>\n",
       "      <th>2</th>\n",
       "      <td>2</td>\n",
       "      <td>NaN</td>\n",
       "      <td>$77k-$89k</td>\n",
       "      <td>-1.0</td>\n",
       "      <td>New York,Ny</td>\n",
       "      <td>-1</td>\n",
       "      <td>-1</td>\n",
       "    </tr>\n",
       "    <tr>\n",
       "      <th>3</th>\n",
       "      <td>3</td>\n",
       "      <td>64.0</td>\n",
       "      <td>$44k-$99k</td>\n",
       "      <td>4.4</td>\n",
       "      <td>India In</td>\n",
       "      <td>1988</td>\n",
       "      <td>-1</td>\n",
       "    </tr>\n",
       "    <tr>\n",
       "      <th>4</th>\n",
       "      <td>4</td>\n",
       "      <td>25.0</td>\n",
       "      <td>$44k-$99k</td>\n",
       "      <td>6.4</td>\n",
       "      <td>Australia Aus</td>\n",
       "      <td>2002</td>\n",
       "      <td>-1</td>\n",
       "    </tr>\n",
       "  </tbody>\n",
       "</table>\n",
       "</div>"
      ],
      "text/plain": [
       "   Index   Age     Salary  Rating       Location  Established Easy Apply\n",
       "0      0  44.0  $44k-$99k     5.4       India,In         1999       TRUE\n",
       "1      1  66.0  $55k-$66k     3.5    New York,Ny         2002       TRUE\n",
       "2      2   NaN  $77k-$89k    -1.0    New York,Ny           -1         -1\n",
       "3      3  64.0  $44k-$99k     4.4       India In         1988         -1\n",
       "4      4  25.0  $44k-$99k     6.4  Australia Aus         2002         -1"
      ]
     },
     "execution_count": 4,
     "metadata": {},
     "output_type": "execute_result"
    }
   ],
   "source": [
    "data.head()"
   ]
  },
  {
   "cell_type": "code",
   "execution_count": 5,
   "id": "0704520c",
   "metadata": {},
   "outputs": [
    {
     "data": {
      "text/plain": [
       "(29, 7)"
      ]
     },
     "execution_count": 5,
     "metadata": {},
     "output_type": "execute_result"
    }
   ],
   "source": [
    "data.shape"
   ]
  },
  {
   "cell_type": "code",
   "execution_count": 6,
   "id": "6aef3e07",
   "metadata": {},
   "outputs": [
    {
     "name": "stdout",
     "output_type": "stream",
     "text": [
      "<class 'pandas.core.frame.DataFrame'>\n",
      "RangeIndex: 29 entries, 0 to 28\n",
      "Data columns (total 7 columns):\n",
      " #   Column       Non-Null Count  Dtype  \n",
      "---  ------       --------------  -----  \n",
      " 0   Index        29 non-null     int64  \n",
      " 1   Age          22 non-null     float64\n",
      " 2   Salary       29 non-null     object \n",
      " 3   Rating       28 non-null     float64\n",
      " 4   Location     29 non-null     object \n",
      " 5   Established  29 non-null     int64  \n",
      " 6   Easy Apply   29 non-null     object \n",
      "dtypes: float64(2), int64(2), object(3)\n",
      "memory usage: 1.7+ KB\n"
     ]
    }
   ],
   "source": [
    "data.info()"
   ]
  },
  {
   "cell_type": "code",
   "execution_count": 7,
   "id": "300b04cf",
   "metadata": {},
   "outputs": [
    {
     "data": {
      "text/plain": [
       "Index(['Index', 'Age', 'Salary', 'Rating', 'Location', 'Established',\n",
       "       'Easy Apply'],\n",
       "      dtype='object')"
      ]
     },
     "execution_count": 7,
     "metadata": {},
     "output_type": "execute_result"
    }
   ],
   "source": [
    "data.columns"
   ]
  },
  {
   "cell_type": "code",
   "execution_count": 8,
   "id": "4b129723",
   "metadata": {},
   "outputs": [
    {
     "data": {
      "text/plain": [
       "29"
      ]
     },
     "execution_count": 8,
     "metadata": {},
     "output_type": "execute_result"
    }
   ],
   "source": [
    "data['Index'].nunique()"
   ]
  },
  {
   "cell_type": "code",
   "execution_count": 9,
   "id": "77a5316b",
   "metadata": {},
   "outputs": [],
   "source": [
    "data.drop(columns=['Index'],inplace=True)"
   ]
  },
  {
   "cell_type": "code",
   "execution_count": 10,
   "id": "7ba42fef",
   "metadata": {},
   "outputs": [
    {
     "data": {
      "text/html": [
       "<div>\n",
       "<style scoped>\n",
       "    .dataframe tbody tr th:only-of-type {\n",
       "        vertical-align: middle;\n",
       "    }\n",
       "\n",
       "    .dataframe tbody tr th {\n",
       "        vertical-align: top;\n",
       "    }\n",
       "\n",
       "    .dataframe thead th {\n",
       "        text-align: right;\n",
       "    }\n",
       "</style>\n",
       "<table border=\"1\" class=\"dataframe\">\n",
       "  <thead>\n",
       "    <tr style=\"text-align: right;\">\n",
       "      <th></th>\n",
       "      <th>Age</th>\n",
       "      <th>Salary</th>\n",
       "      <th>Rating</th>\n",
       "      <th>Location</th>\n",
       "      <th>Established</th>\n",
       "      <th>Easy Apply</th>\n",
       "    </tr>\n",
       "  </thead>\n",
       "  <tbody>\n",
       "    <tr>\n",
       "      <th>0</th>\n",
       "      <td>44.0</td>\n",
       "      <td>$44k-$99k</td>\n",
       "      <td>5.4</td>\n",
       "      <td>India,In</td>\n",
       "      <td>1999</td>\n",
       "      <td>TRUE</td>\n",
       "    </tr>\n",
       "    <tr>\n",
       "      <th>1</th>\n",
       "      <td>66.0</td>\n",
       "      <td>$55k-$66k</td>\n",
       "      <td>3.5</td>\n",
       "      <td>New York,Ny</td>\n",
       "      <td>2002</td>\n",
       "      <td>TRUE</td>\n",
       "    </tr>\n",
       "    <tr>\n",
       "      <th>2</th>\n",
       "      <td>NaN</td>\n",
       "      <td>$77k-$89k</td>\n",
       "      <td>-1.0</td>\n",
       "      <td>New York,Ny</td>\n",
       "      <td>-1</td>\n",
       "      <td>-1</td>\n",
       "    </tr>\n",
       "    <tr>\n",
       "      <th>3</th>\n",
       "      <td>64.0</td>\n",
       "      <td>$44k-$99k</td>\n",
       "      <td>4.4</td>\n",
       "      <td>India In</td>\n",
       "      <td>1988</td>\n",
       "      <td>-1</td>\n",
       "    </tr>\n",
       "    <tr>\n",
       "      <th>4</th>\n",
       "      <td>25.0</td>\n",
       "      <td>$44k-$99k</td>\n",
       "      <td>6.4</td>\n",
       "      <td>Australia Aus</td>\n",
       "      <td>2002</td>\n",
       "      <td>-1</td>\n",
       "    </tr>\n",
       "  </tbody>\n",
       "</table>\n",
       "</div>"
      ],
      "text/plain": [
       "    Age     Salary  Rating       Location  Established Easy Apply\n",
       "0  44.0  $44k-$99k     5.4       India,In         1999       TRUE\n",
       "1  66.0  $55k-$66k     3.5    New York,Ny         2002       TRUE\n",
       "2   NaN  $77k-$89k    -1.0    New York,Ny           -1         -1\n",
       "3  64.0  $44k-$99k     4.4       India In         1988         -1\n",
       "4  25.0  $44k-$99k     6.4  Australia Aus         2002         -1"
      ]
     },
     "execution_count": 10,
     "metadata": {},
     "output_type": "execute_result"
    }
   ],
   "source": [
    "data.head()"
   ]
  },
  {
   "cell_type": "code",
   "execution_count": 11,
   "id": "3db5dac8",
   "metadata": {},
   "outputs": [
    {
     "data": {
      "text/plain": [
       "array([44., 66., nan, 64., 25., 21., 35., 22., 55., 19., 32., 13., 52.])"
      ]
     },
     "execution_count": 11,
     "metadata": {},
     "output_type": "execute_result"
    }
   ],
   "source": [
    "data['Age'].unique()"
   ]
  },
  {
   "cell_type": "code",
   "execution_count": 12,
   "id": "8fa5ff7a",
   "metadata": {},
   "outputs": [
    {
     "data": {
      "text/plain": [
       "44.0    5\n",
       "35.0    3\n",
       "66.0    2\n",
       "25.0    2\n",
       "55.0    2\n",
       "19.0    2\n",
       "64.0    1\n",
       "21.0    1\n",
       "22.0    1\n",
       "32.0    1\n",
       "13.0    1\n",
       "52.0    1\n",
       "Name: Age, dtype: int64"
      ]
     },
     "execution_count": 12,
     "metadata": {},
     "output_type": "execute_result"
    }
   ],
   "source": [
    "data['Age'].value_counts()"
   ]
  },
  {
   "cell_type": "code",
   "execution_count": 13,
   "id": "e424b0c1",
   "metadata": {},
   "outputs": [
    {
     "data": {
      "text/plain": [
       "array(['$44k-$99k', '$55k-$66k', '$77k-$89k', '$10k-$49k', '$88k-$101k',\n",
       "       '$19k-$40k', '$39k-$88k'], dtype=object)"
      ]
     },
     "execution_count": 13,
     "metadata": {},
     "output_type": "execute_result"
    }
   ],
   "source": [
    "data['Salary'].unique()"
   ]
  },
  {
   "cell_type": "code",
   "execution_count": 14,
   "id": "4b233f4c",
   "metadata": {},
   "outputs": [
    {
     "data": {
      "text/plain": [
       "$44k-$99k     19\n",
       "$55k-$66k      3\n",
       "$77k-$89k      2\n",
       "$10k-$49k      2\n",
       "$88k-$101k     1\n",
       "$19k-$40k      1\n",
       "$39k-$88k      1\n",
       "Name: Salary, dtype: int64"
      ]
     },
     "execution_count": 14,
     "metadata": {},
     "output_type": "execute_result"
    }
   ],
   "source": [
    "data['Salary'].value_counts()"
   ]
  },
  {
   "cell_type": "code",
   "execution_count": 15,
   "id": "c52bdaf0",
   "metadata": {},
   "outputs": [
    {
     "data": {
      "text/plain": [
       "array(['India,In', 'New York,Ny', 'India In', 'Australia Aus'],\n",
       "      dtype=object)"
      ]
     },
     "execution_count": 15,
     "metadata": {},
     "output_type": "execute_result"
    }
   ],
   "source": [
    "data['Location'].unique()"
   ]
  },
  {
   "cell_type": "code",
   "execution_count": 16,
   "id": "93900fae",
   "metadata": {},
   "outputs": [
    {
     "data": {
      "text/plain": [
       "New York,Ny      12\n",
       "India,In          9\n",
       "Australia Aus     7\n",
       "India In          1\n",
       "Name: Location, dtype: int64"
      ]
     },
     "execution_count": 16,
     "metadata": {},
     "output_type": "execute_result"
    }
   ],
   "source": [
    "data['Location'].value_counts()"
   ]
  },
  {
   "cell_type": "code",
   "execution_count": 17,
   "id": "5a14c8d3",
   "metadata": {},
   "outputs": [
    {
     "data": {
      "text/plain": [
       "array([1999, 2002,   -1, 1988, 2008, 2009, 2019, 2020, 1984, 1943, 1954,\n",
       "       1955, 1944, 1946, 1987, 1980, 1934, 1935, 1932], dtype=int64)"
      ]
     },
     "execution_count": 17,
     "metadata": {},
     "output_type": "execute_result"
    }
   ],
   "source": [
    "data['Established'].unique()"
   ]
  },
  {
   "cell_type": "code",
   "execution_count": 18,
   "id": "22220501",
   "metadata": {},
   "outputs": [
    {
     "data": {
      "text/plain": [
       " 1999    5\n",
       "-1       5\n",
       " 1988    2\n",
       " 2002    2\n",
       " 1955    1\n",
       " 1935    1\n",
       " 1934    1\n",
       " 1980    1\n",
       " 1987    1\n",
       " 1946    1\n",
       " 1944    1\n",
       " 1943    1\n",
       " 1954    1\n",
       " 1984    1\n",
       " 2020    1\n",
       " 2019    1\n",
       " 2009    1\n",
       " 2008    1\n",
       " 1932    1\n",
       "Name: Established, dtype: int64"
      ]
     },
     "execution_count": 18,
     "metadata": {},
     "output_type": "execute_result"
    }
   ],
   "source": [
    "data['Established'].value_counts()"
   ]
  },
  {
   "cell_type": "code",
   "execution_count": 19,
   "id": "46a8373d",
   "metadata": {},
   "outputs": [
    {
     "data": {
      "text/plain": [
       "array(['TRUE', '-1'], dtype=object)"
      ]
     },
     "execution_count": 19,
     "metadata": {},
     "output_type": "execute_result"
    }
   ],
   "source": [
    "data['Easy Apply'].unique()"
   ]
  },
  {
   "cell_type": "code",
   "execution_count": 20,
   "id": "bcc69eed",
   "metadata": {},
   "outputs": [
    {
     "data": {
      "text/plain": [
       "TRUE    15\n",
       "-1      14\n",
       "Name: Easy Apply, dtype: int64"
      ]
     },
     "execution_count": 20,
     "metadata": {},
     "output_type": "execute_result"
    }
   ],
   "source": [
    "data['Easy Apply'].value_counts()"
   ]
  },
  {
   "cell_type": "code",
   "execution_count": 21,
   "id": "4be03938",
   "metadata": {},
   "outputs": [
    {
     "data": {
      "text/plain": [
       "0     44.0\n",
       "1     66.0\n",
       "2      NaN\n",
       "3     64.0\n",
       "4     25.0\n",
       "5     44.0\n",
       "6     21.0\n",
       "7     44.0\n",
       "8     35.0\n",
       "9     22.0\n",
       "10    55.0\n",
       "11    44.0\n",
       "12     NaN\n",
       "13    25.0\n",
       "14    66.0\n",
       "15    44.0\n",
       "16    19.0\n",
       "17     NaN\n",
       "18    35.0\n",
       "19    32.0\n",
       "20     NaN\n",
       "21    35.0\n",
       "22    19.0\n",
       "23     NaN\n",
       "24    13.0\n",
       "25    55.0\n",
       "26     NaN\n",
       "27    52.0\n",
       "28     NaN\n",
       "Name: Age, dtype: float64"
      ]
     },
     "execution_count": 21,
     "metadata": {},
     "output_type": "execute_result"
    }
   ],
   "source": [
    "data.Age"
   ]
  },
  {
   "cell_type": "code",
   "execution_count": 22,
   "id": "af5db870",
   "metadata": {},
   "outputs": [],
   "source": [
    "avg = data['Age'].mean().sum()"
   ]
  },
  {
   "cell_type": "code",
   "execution_count": 23,
   "id": "adc0e491",
   "metadata": {},
   "outputs": [],
   "source": [
    "data['Age'] = data['Age'].fillna(avg)"
   ]
  },
  {
   "cell_type": "code",
   "execution_count": 24,
   "id": "866f4913",
   "metadata": {},
   "outputs": [
    {
     "data": {
      "text/html": [
       "<div>\n",
       "<style scoped>\n",
       "    .dataframe tbody tr th:only-of-type {\n",
       "        vertical-align: middle;\n",
       "    }\n",
       "\n",
       "    .dataframe tbody tr th {\n",
       "        vertical-align: top;\n",
       "    }\n",
       "\n",
       "    .dataframe thead th {\n",
       "        text-align: right;\n",
       "    }\n",
       "</style>\n",
       "<table border=\"1\" class=\"dataframe\">\n",
       "  <thead>\n",
       "    <tr style=\"text-align: right;\">\n",
       "      <th></th>\n",
       "      <th>Age</th>\n",
       "      <th>Salary</th>\n",
       "      <th>Rating</th>\n",
       "      <th>Location</th>\n",
       "      <th>Established</th>\n",
       "      <th>Easy Apply</th>\n",
       "    </tr>\n",
       "  </thead>\n",
       "  <tbody>\n",
       "    <tr>\n",
       "      <th>0</th>\n",
       "      <td>44.000000</td>\n",
       "      <td>$44k-$99k</td>\n",
       "      <td>5.4</td>\n",
       "      <td>India,In</td>\n",
       "      <td>1999</td>\n",
       "      <td>TRUE</td>\n",
       "    </tr>\n",
       "    <tr>\n",
       "      <th>1</th>\n",
       "      <td>66.000000</td>\n",
       "      <td>$55k-$66k</td>\n",
       "      <td>3.5</td>\n",
       "      <td>New York,Ny</td>\n",
       "      <td>2002</td>\n",
       "      <td>TRUE</td>\n",
       "    </tr>\n",
       "    <tr>\n",
       "      <th>2</th>\n",
       "      <td>39.045455</td>\n",
       "      <td>$77k-$89k</td>\n",
       "      <td>-1.0</td>\n",
       "      <td>New York,Ny</td>\n",
       "      <td>-1</td>\n",
       "      <td>-1</td>\n",
       "    </tr>\n",
       "    <tr>\n",
       "      <th>3</th>\n",
       "      <td>64.000000</td>\n",
       "      <td>$44k-$99k</td>\n",
       "      <td>4.4</td>\n",
       "      <td>India In</td>\n",
       "      <td>1988</td>\n",
       "      <td>-1</td>\n",
       "    </tr>\n",
       "    <tr>\n",
       "      <th>4</th>\n",
       "      <td>25.000000</td>\n",
       "      <td>$44k-$99k</td>\n",
       "      <td>6.4</td>\n",
       "      <td>Australia Aus</td>\n",
       "      <td>2002</td>\n",
       "      <td>-1</td>\n",
       "    </tr>\n",
       "  </tbody>\n",
       "</table>\n",
       "</div>"
      ],
      "text/plain": [
       "         Age     Salary  Rating       Location  Established Easy Apply\n",
       "0  44.000000  $44k-$99k     5.4       India,In         1999       TRUE\n",
       "1  66.000000  $55k-$66k     3.5    New York,Ny         2002       TRUE\n",
       "2  39.045455  $77k-$89k    -1.0    New York,Ny           -1         -1\n",
       "3  64.000000  $44k-$99k     4.4       India In         1988         -1\n",
       "4  25.000000  $44k-$99k     6.4  Australia Aus         2002         -1"
      ]
     },
     "execution_count": 24,
     "metadata": {},
     "output_type": "execute_result"
    }
   ],
   "source": [
    "data.head()"
   ]
  },
  {
   "cell_type": "code",
   "execution_count": 25,
   "id": "fb8561a1",
   "metadata": {},
   "outputs": [],
   "source": [
    "data['Age'] = data['Age'].round(decimals=1)"
   ]
  },
  {
   "cell_type": "code",
   "execution_count": 26,
   "id": "e0216964",
   "metadata": {},
   "outputs": [
    {
     "data": {
      "text/plain": [
       "0     44.0\n",
       "1     66.0\n",
       "2     39.0\n",
       "3     64.0\n",
       "4     25.0\n",
       "5     44.0\n",
       "6     21.0\n",
       "7     44.0\n",
       "8     35.0\n",
       "9     22.0\n",
       "10    55.0\n",
       "11    44.0\n",
       "12    39.0\n",
       "13    25.0\n",
       "14    66.0\n",
       "15    44.0\n",
       "16    19.0\n",
       "17    39.0\n",
       "18    35.0\n",
       "19    32.0\n",
       "20    39.0\n",
       "21    35.0\n",
       "22    19.0\n",
       "23    39.0\n",
       "24    13.0\n",
       "25    55.0\n",
       "26    39.0\n",
       "27    52.0\n",
       "28    39.0\n",
       "Name: Age, dtype: float64"
      ]
     },
     "execution_count": 26,
     "metadata": {},
     "output_type": "execute_result"
    }
   ],
   "source": [
    "data.Age"
   ]
  },
  {
   "cell_type": "code",
   "execution_count": 27,
   "id": "c2abeaf5",
   "metadata": {},
   "outputs": [],
   "source": [
    "data['Salary'] = data['Salary'].replace({'\\$': ''}, regex=True)"
   ]
  },
  {
   "cell_type": "code",
   "execution_count": 28,
   "id": "5f32d426",
   "metadata": {},
   "outputs": [
    {
     "data": {
      "text/plain": [
       "0      44k-99k\n",
       "1      55k-66k\n",
       "2      77k-89k\n",
       "3      44k-99k\n",
       "4      44k-99k\n",
       "5      77k-89k\n",
       "6      44k-99k\n",
       "7      44k-99k\n",
       "8      44k-99k\n",
       "9      44k-99k\n",
       "10     10k-49k\n",
       "11     10k-49k\n",
       "12     44k-99k\n",
       "13     44k-99k\n",
       "14     44k-99k\n",
       "15    88k-101k\n",
       "16     19k-40k\n",
       "17     44k-99k\n",
       "18     44k-99k\n",
       "19     44k-99k\n",
       "20     44k-99k\n",
       "21     44k-99k\n",
       "22     55k-66k\n",
       "23     44k-99k\n",
       "24     44k-99k\n",
       "25     44k-99k\n",
       "26     55k-66k\n",
       "27     44k-99k\n",
       "28     39k-88k\n",
       "Name: Salary, dtype: object"
      ]
     },
     "execution_count": 28,
     "metadata": {},
     "output_type": "execute_result"
    }
   ],
   "source": [
    "data.Salary"
   ]
  },
  {
   "cell_type": "code",
   "execution_count": 29,
   "id": "98af8d1b",
   "metadata": {},
   "outputs": [],
   "source": [
    "data['Salary'].replace({'000': ''}, regex=True, inplace=True)"
   ]
  },
  {
   "cell_type": "code",
   "execution_count": 30,
   "id": "f720b229",
   "metadata": {},
   "outputs": [
    {
     "data": {
      "text/plain": [
       "0      44k-99k\n",
       "1      55k-66k\n",
       "2      77k-89k\n",
       "3      44k-99k\n",
       "4      44k-99k\n",
       "5      77k-89k\n",
       "6      44k-99k\n",
       "7      44k-99k\n",
       "8      44k-99k\n",
       "9      44k-99k\n",
       "10     10k-49k\n",
       "11     10k-49k\n",
       "12     44k-99k\n",
       "13     44k-99k\n",
       "14     44k-99k\n",
       "15    88k-101k\n",
       "16     19k-40k\n",
       "17     44k-99k\n",
       "18     44k-99k\n",
       "19     44k-99k\n",
       "20     44k-99k\n",
       "21     44k-99k\n",
       "22     55k-66k\n",
       "23     44k-99k\n",
       "24     44k-99k\n",
       "25     44k-99k\n",
       "26     55k-66k\n",
       "27     44k-99k\n",
       "28     39k-88k\n",
       "Name: Salary, dtype: object"
      ]
     },
     "execution_count": 30,
     "metadata": {},
     "output_type": "execute_result"
    }
   ],
   "source": [
    "data.Salary"
   ]
  },
  {
   "cell_type": "code",
   "execution_count": 31,
   "id": "cd3d361c",
   "metadata": {},
   "outputs": [
    {
     "data": {
      "text/html": [
       "<div>\n",
       "<style scoped>\n",
       "    .dataframe tbody tr th:only-of-type {\n",
       "        vertical-align: middle;\n",
       "    }\n",
       "\n",
       "    .dataframe tbody tr th {\n",
       "        vertical-align: top;\n",
       "    }\n",
       "\n",
       "    .dataframe thead th {\n",
       "        text-align: right;\n",
       "    }\n",
       "</style>\n",
       "<table border=\"1\" class=\"dataframe\">\n",
       "  <thead>\n",
       "    <tr style=\"text-align: right;\">\n",
       "      <th></th>\n",
       "      <th>Age</th>\n",
       "      <th>Salary</th>\n",
       "      <th>Rating</th>\n",
       "      <th>Location</th>\n",
       "      <th>Established</th>\n",
       "      <th>Easy Apply</th>\n",
       "    </tr>\n",
       "  </thead>\n",
       "  <tbody>\n",
       "    <tr>\n",
       "      <th>0</th>\n",
       "      <td>44.0</td>\n",
       "      <td>44k-99k</td>\n",
       "      <td>5.4</td>\n",
       "      <td>India,In</td>\n",
       "      <td>1999</td>\n",
       "      <td>TRUE</td>\n",
       "    </tr>\n",
       "    <tr>\n",
       "      <th>1</th>\n",
       "      <td>66.0</td>\n",
       "      <td>55k-66k</td>\n",
       "      <td>3.5</td>\n",
       "      <td>New York,Ny</td>\n",
       "      <td>2002</td>\n",
       "      <td>TRUE</td>\n",
       "    </tr>\n",
       "    <tr>\n",
       "      <th>2</th>\n",
       "      <td>39.0</td>\n",
       "      <td>77k-89k</td>\n",
       "      <td>-1.0</td>\n",
       "      <td>New York,Ny</td>\n",
       "      <td>-1</td>\n",
       "      <td>-1</td>\n",
       "    </tr>\n",
       "    <tr>\n",
       "      <th>3</th>\n",
       "      <td>64.0</td>\n",
       "      <td>44k-99k</td>\n",
       "      <td>4.4</td>\n",
       "      <td>India In</td>\n",
       "      <td>1988</td>\n",
       "      <td>-1</td>\n",
       "    </tr>\n",
       "    <tr>\n",
       "      <th>4</th>\n",
       "      <td>25.0</td>\n",
       "      <td>44k-99k</td>\n",
       "      <td>6.4</td>\n",
       "      <td>Australia Aus</td>\n",
       "      <td>2002</td>\n",
       "      <td>-1</td>\n",
       "    </tr>\n",
       "  </tbody>\n",
       "</table>\n",
       "</div>"
      ],
      "text/plain": [
       "    Age   Salary  Rating       Location  Established Easy Apply\n",
       "0  44.0  44k-99k     5.4       India,In         1999       TRUE\n",
       "1  66.0  55k-66k     3.5    New York,Ny         2002       TRUE\n",
       "2  39.0  77k-89k    -1.0    New York,Ny           -1         -1\n",
       "3  64.0  44k-99k     4.4       India In         1988         -1\n",
       "4  25.0  44k-99k     6.4  Australia Aus         2002         -1"
      ]
     },
     "execution_count": 31,
     "metadata": {},
     "output_type": "execute_result"
    }
   ],
   "source": [
    "data.head()"
   ]
  },
  {
   "cell_type": "code",
   "execution_count": 32,
   "id": "a6fd8166",
   "metadata": {},
   "outputs": [
    {
     "data": {
      "text/plain": [
       "0     5.4\n",
       "1     3.5\n",
       "2    -1.0\n",
       "3     4.4\n",
       "4     6.4\n",
       "5     1.4\n",
       "6     0.0\n",
       "7    -1.0\n",
       "8     5.4\n",
       "9     7.7\n",
       "10    5.4\n",
       "11    6.7\n",
       "12    0.0\n",
       "13   -1.0\n",
       "14    4.0\n",
       "15    3.0\n",
       "16    4.5\n",
       "17    5.3\n",
       "18    6.7\n",
       "19    3.3\n",
       "20    5.7\n",
       "21    5.0\n",
       "22    7.8\n",
       "23    2.4\n",
       "24   -1.0\n",
       "25    0.0\n",
       "26    NaN\n",
       "27    5.4\n",
       "28    3.4\n",
       "Name: Rating, dtype: float64"
      ]
     },
     "execution_count": 32,
     "metadata": {},
     "output_type": "execute_result"
    }
   ],
   "source": [
    "data.Rating"
   ]
  },
  {
   "cell_type": "code",
   "execution_count": 33,
   "id": "176d1065",
   "metadata": {},
   "outputs": [],
   "source": [
    "Rating_avg= data['Rating'].mean()"
   ]
  },
  {
   "cell_type": "code",
   "execution_count": 34,
   "id": "c8d740aa",
   "metadata": {},
   "outputs": [
    {
     "data": {
      "text/plain": [
       "3.528571428571429"
      ]
     },
     "execution_count": 34,
     "metadata": {},
     "output_type": "execute_result"
    }
   ],
   "source": [
    "data['Rating'].mean()"
   ]
  },
  {
   "cell_type": "code",
   "execution_count": 35,
   "id": "35f49c41",
   "metadata": {},
   "outputs": [
    {
     "data": {
      "text/plain": [
       "0     5.4\n",
       "1     3.5\n",
       "2    -1.0\n",
       "3     4.4\n",
       "4     6.4\n",
       "5     1.4\n",
       "6     0.0\n",
       "7    -1.0\n",
       "8     5.4\n",
       "9     7.7\n",
       "10    5.4\n",
       "11    6.7\n",
       "12    0.0\n",
       "13   -1.0\n",
       "14    4.0\n",
       "15    3.0\n",
       "16    4.5\n",
       "17    5.3\n",
       "18    6.7\n",
       "19    3.3\n",
       "20    5.7\n",
       "21    5.0\n",
       "22    7.8\n",
       "23    2.4\n",
       "24   -1.0\n",
       "25    0.0\n",
       "26    NaN\n",
       "27    5.4\n",
       "28    3.4\n",
       "Name: Rating, dtype: float64"
      ]
     },
     "execution_count": 35,
     "metadata": {},
     "output_type": "execute_result"
    }
   ],
   "source": [
    "data['Rating']"
   ]
  },
  {
   "cell_type": "code",
   "execution_count": 36,
   "id": "cd143cc6",
   "metadata": {},
   "outputs": [],
   "source": [
    "data['Rating']=data['Rating'].fillna(Rating_avg)"
   ]
  },
  {
   "cell_type": "code",
   "execution_count": 37,
   "id": "af454d42",
   "metadata": {},
   "outputs": [
    {
     "data": {
      "text/plain": [
       "0     5.400000\n",
       "1     3.500000\n",
       "2    -1.000000\n",
       "3     4.400000\n",
       "4     6.400000\n",
       "5     1.400000\n",
       "6     0.000000\n",
       "7    -1.000000\n",
       "8     5.400000\n",
       "9     7.700000\n",
       "10    5.400000\n",
       "11    6.700000\n",
       "12    0.000000\n",
       "13   -1.000000\n",
       "14    4.000000\n",
       "15    3.000000\n",
       "16    4.500000\n",
       "17    5.300000\n",
       "18    6.700000\n",
       "19    3.300000\n",
       "20    5.700000\n",
       "21    5.000000\n",
       "22    7.800000\n",
       "23    2.400000\n",
       "24   -1.000000\n",
       "25    0.000000\n",
       "26    3.528571\n",
       "27    5.400000\n",
       "28    3.400000\n",
       "Name: Rating, dtype: float64"
      ]
     },
     "execution_count": 37,
     "metadata": {},
     "output_type": "execute_result"
    }
   ],
   "source": [
    "data.Rating"
   ]
  },
  {
   "cell_type": "code",
   "execution_count": 38,
   "id": "86e74d7d",
   "metadata": {},
   "outputs": [],
   "source": [
    "data['Rating'].replace({-1.0: 3.5}, inplace=True)\n"
   ]
  },
  {
   "cell_type": "code",
   "execution_count": 39,
   "id": "fea366cd",
   "metadata": {},
   "outputs": [
    {
     "data": {
      "text/plain": [
       "0     5.400000\n",
       "1     3.500000\n",
       "2     3.500000\n",
       "3     4.400000\n",
       "4     6.400000\n",
       "5     1.400000\n",
       "6     0.000000\n",
       "7     3.500000\n",
       "8     5.400000\n",
       "9     7.700000\n",
       "10    5.400000\n",
       "11    6.700000\n",
       "12    0.000000\n",
       "13    3.500000\n",
       "14    4.000000\n",
       "15    3.000000\n",
       "16    4.500000\n",
       "17    5.300000\n",
       "18    6.700000\n",
       "19    3.300000\n",
       "20    5.700000\n",
       "21    5.000000\n",
       "22    7.800000\n",
       "23    2.400000\n",
       "24    3.500000\n",
       "25    0.000000\n",
       "26    3.528571\n",
       "27    5.400000\n",
       "28    3.400000\n",
       "Name: Rating, dtype: float64"
      ]
     },
     "execution_count": 39,
     "metadata": {},
     "output_type": "execute_result"
    }
   ],
   "source": [
    "data.Rating"
   ]
  },
  {
   "cell_type": "code",
   "execution_count": 40,
   "id": "afda31f0",
   "metadata": {},
   "outputs": [
    {
     "data": {
      "text/html": [
       "<div>\n",
       "<style scoped>\n",
       "    .dataframe tbody tr th:only-of-type {\n",
       "        vertical-align: middle;\n",
       "    }\n",
       "\n",
       "    .dataframe tbody tr th {\n",
       "        vertical-align: top;\n",
       "    }\n",
       "\n",
       "    .dataframe thead th {\n",
       "        text-align: right;\n",
       "    }\n",
       "</style>\n",
       "<table border=\"1\" class=\"dataframe\">\n",
       "  <thead>\n",
       "    <tr style=\"text-align: right;\">\n",
       "      <th></th>\n",
       "      <th>Age</th>\n",
       "      <th>Salary</th>\n",
       "      <th>Rating</th>\n",
       "      <th>Location</th>\n",
       "      <th>Established</th>\n",
       "      <th>Easy Apply</th>\n",
       "    </tr>\n",
       "  </thead>\n",
       "  <tbody>\n",
       "    <tr>\n",
       "      <th>0</th>\n",
       "      <td>44.0</td>\n",
       "      <td>44k-99k</td>\n",
       "      <td>5.4</td>\n",
       "      <td>India,In</td>\n",
       "      <td>1999</td>\n",
       "      <td>TRUE</td>\n",
       "    </tr>\n",
       "    <tr>\n",
       "      <th>1</th>\n",
       "      <td>66.0</td>\n",
       "      <td>55k-66k</td>\n",
       "      <td>3.5</td>\n",
       "      <td>New York,Ny</td>\n",
       "      <td>2002</td>\n",
       "      <td>TRUE</td>\n",
       "    </tr>\n",
       "    <tr>\n",
       "      <th>2</th>\n",
       "      <td>39.0</td>\n",
       "      <td>77k-89k</td>\n",
       "      <td>3.5</td>\n",
       "      <td>New York,Ny</td>\n",
       "      <td>-1</td>\n",
       "      <td>-1</td>\n",
       "    </tr>\n",
       "    <tr>\n",
       "      <th>3</th>\n",
       "      <td>64.0</td>\n",
       "      <td>44k-99k</td>\n",
       "      <td>4.4</td>\n",
       "      <td>India In</td>\n",
       "      <td>1988</td>\n",
       "      <td>-1</td>\n",
       "    </tr>\n",
       "    <tr>\n",
       "      <th>4</th>\n",
       "      <td>25.0</td>\n",
       "      <td>44k-99k</td>\n",
       "      <td>6.4</td>\n",
       "      <td>Australia Aus</td>\n",
       "      <td>2002</td>\n",
       "      <td>-1</td>\n",
       "    </tr>\n",
       "  </tbody>\n",
       "</table>\n",
       "</div>"
      ],
      "text/plain": [
       "    Age   Salary  Rating       Location  Established Easy Apply\n",
       "0  44.0  44k-99k     5.4       India,In         1999       TRUE\n",
       "1  66.0  55k-66k     3.5    New York,Ny         2002       TRUE\n",
       "2  39.0  77k-89k     3.5    New York,Ny           -1         -1\n",
       "3  64.0  44k-99k     4.4       India In         1988         -1\n",
       "4  25.0  44k-99k     6.4  Australia Aus         2002         -1"
      ]
     },
     "execution_count": 40,
     "metadata": {},
     "output_type": "execute_result"
    }
   ],
   "source": [
    "data.head()"
   ]
  },
  {
   "cell_type": "code",
   "execution_count": 41,
   "id": "adbb357f",
   "metadata": {},
   "outputs": [],
   "source": [
    "data['Location'] = data['Location'].replace({'New York,Ny':'New York',\n",
    "                                             'India,In':'India', \n",
    "                                             'India In':'India', \n",
    "                                             'Australia Aus':'Australia'})"
   ]
  },
  {
   "cell_type": "code",
   "execution_count": 42,
   "id": "6cbb8816",
   "metadata": {},
   "outputs": [
    {
     "data": {
      "text/plain": [
       "0         India\n",
       "1      New York\n",
       "2      New York\n",
       "3         India\n",
       "4     Australia\n",
       "5         India\n",
       "6      New York\n",
       "7     Australia\n",
       "8      New York\n",
       "9         India\n",
       "10        India\n",
       "11        India\n",
       "12        India\n",
       "13    Australia\n",
       "14    Australia\n",
       "15    Australia\n",
       "16        India\n",
       "17     New York\n",
       "18     New York\n",
       "19     New York\n",
       "20     New York\n",
       "21     New York\n",
       "22     New York\n",
       "23     New York\n",
       "24     New York\n",
       "25    Australia\n",
       "26        India\n",
       "27        India\n",
       "28    Australia\n",
       "Name: Location, dtype: object"
      ]
     },
     "execution_count": 42,
     "metadata": {},
     "output_type": "execute_result"
    }
   ],
   "source": [
    "data.Location"
   ]
  },
  {
   "cell_type": "code",
   "execution_count": 43,
   "id": "f8418786",
   "metadata": {},
   "outputs": [
    {
     "data": {
      "text/html": [
       "<div>\n",
       "<style scoped>\n",
       "    .dataframe tbody tr th:only-of-type {\n",
       "        vertical-align: middle;\n",
       "    }\n",
       "\n",
       "    .dataframe tbody tr th {\n",
       "        vertical-align: top;\n",
       "    }\n",
       "\n",
       "    .dataframe thead th {\n",
       "        text-align: right;\n",
       "    }\n",
       "</style>\n",
       "<table border=\"1\" class=\"dataframe\">\n",
       "  <thead>\n",
       "    <tr style=\"text-align: right;\">\n",
       "      <th></th>\n",
       "      <th>Age</th>\n",
       "      <th>Salary</th>\n",
       "      <th>Rating</th>\n",
       "      <th>Location</th>\n",
       "      <th>Established</th>\n",
       "      <th>Easy Apply</th>\n",
       "    </tr>\n",
       "  </thead>\n",
       "  <tbody>\n",
       "    <tr>\n",
       "      <th>0</th>\n",
       "      <td>44.0</td>\n",
       "      <td>44k-99k</td>\n",
       "      <td>5.4</td>\n",
       "      <td>India</td>\n",
       "      <td>1999</td>\n",
       "      <td>TRUE</td>\n",
       "    </tr>\n",
       "    <tr>\n",
       "      <th>1</th>\n",
       "      <td>66.0</td>\n",
       "      <td>55k-66k</td>\n",
       "      <td>3.5</td>\n",
       "      <td>New York</td>\n",
       "      <td>2002</td>\n",
       "      <td>TRUE</td>\n",
       "    </tr>\n",
       "    <tr>\n",
       "      <th>2</th>\n",
       "      <td>39.0</td>\n",
       "      <td>77k-89k</td>\n",
       "      <td>3.5</td>\n",
       "      <td>New York</td>\n",
       "      <td>-1</td>\n",
       "      <td>-1</td>\n",
       "    </tr>\n",
       "    <tr>\n",
       "      <th>3</th>\n",
       "      <td>64.0</td>\n",
       "      <td>44k-99k</td>\n",
       "      <td>4.4</td>\n",
       "      <td>India</td>\n",
       "      <td>1988</td>\n",
       "      <td>-1</td>\n",
       "    </tr>\n",
       "    <tr>\n",
       "      <th>4</th>\n",
       "      <td>25.0</td>\n",
       "      <td>44k-99k</td>\n",
       "      <td>6.4</td>\n",
       "      <td>Australia</td>\n",
       "      <td>2002</td>\n",
       "      <td>-1</td>\n",
       "    </tr>\n",
       "  </tbody>\n",
       "</table>\n",
       "</div>"
      ],
      "text/plain": [
       "    Age   Salary  Rating   Location  Established Easy Apply\n",
       "0  44.0  44k-99k     5.4      India         1999       TRUE\n",
       "1  66.0  55k-66k     3.5   New York         2002       TRUE\n",
       "2  39.0  77k-89k     3.5   New York           -1         -1\n",
       "3  64.0  44k-99k     4.4      India         1988         -1\n",
       "4  25.0  44k-99k     6.4  Australia         2002         -1"
      ]
     },
     "execution_count": 43,
     "metadata": {},
     "output_type": "execute_result"
    }
   ],
   "source": [
    "data.head()"
   ]
  },
  {
   "cell_type": "code",
   "execution_count": 44,
   "id": "97241642",
   "metadata": {},
   "outputs": [
    {
     "data": {
      "text/plain": [
       "0      -1\n",
       "1    1999\n",
       "Name: Established, dtype: int64"
      ]
     },
     "execution_count": 44,
     "metadata": {},
     "output_type": "execute_result"
    }
   ],
   "source": [
    "data['Established'].mode()"
   ]
  },
  {
   "cell_type": "code",
   "execution_count": 45,
   "id": "6811f9af",
   "metadata": {},
   "outputs": [],
   "source": [
    "data['Established'].replace({-1:1999},inplace=True)"
   ]
  },
  {
   "cell_type": "code",
   "execution_count": 46,
   "id": "8c2ff1af",
   "metadata": {},
   "outputs": [
    {
     "data": {
      "text/plain": [
       "0     1999\n",
       "1     2002\n",
       "2     1999\n",
       "3     1988\n",
       "4     2002\n",
       "5     1999\n",
       "6     1999\n",
       "7     1999\n",
       "8     1999\n",
       "9     1999\n",
       "10    2008\n",
       "11    2009\n",
       "12    1999\n",
       "13    2019\n",
       "14    2020\n",
       "15    1999\n",
       "16    1984\n",
       "17    1943\n",
       "18    1954\n",
       "19    1955\n",
       "20    1944\n",
       "21    1946\n",
       "22    1988\n",
       "23    1999\n",
       "24    1987\n",
       "25    1980\n",
       "26    1934\n",
       "27    1935\n",
       "28    1932\n",
       "Name: Established, dtype: int64"
      ]
     },
     "execution_count": 46,
     "metadata": {},
     "output_type": "execute_result"
    }
   ],
   "source": [
    "data.Established"
   ]
  },
  {
   "cell_type": "code",
   "execution_count": 47,
   "id": "98dbc26e",
   "metadata": {},
   "outputs": [
    {
     "data": {
      "text/html": [
       "<div>\n",
       "<style scoped>\n",
       "    .dataframe tbody tr th:only-of-type {\n",
       "        vertical-align: middle;\n",
       "    }\n",
       "\n",
       "    .dataframe tbody tr th {\n",
       "        vertical-align: top;\n",
       "    }\n",
       "\n",
       "    .dataframe thead th {\n",
       "        text-align: right;\n",
       "    }\n",
       "</style>\n",
       "<table border=\"1\" class=\"dataframe\">\n",
       "  <thead>\n",
       "    <tr style=\"text-align: right;\">\n",
       "      <th></th>\n",
       "      <th>Age</th>\n",
       "      <th>Salary</th>\n",
       "      <th>Rating</th>\n",
       "      <th>Location</th>\n",
       "      <th>Established</th>\n",
       "      <th>Easy Apply</th>\n",
       "    </tr>\n",
       "  </thead>\n",
       "  <tbody>\n",
       "    <tr>\n",
       "      <th>0</th>\n",
       "      <td>44.0</td>\n",
       "      <td>44k-99k</td>\n",
       "      <td>5.4</td>\n",
       "      <td>India</td>\n",
       "      <td>1999</td>\n",
       "      <td>TRUE</td>\n",
       "    </tr>\n",
       "    <tr>\n",
       "      <th>1</th>\n",
       "      <td>66.0</td>\n",
       "      <td>55k-66k</td>\n",
       "      <td>3.5</td>\n",
       "      <td>New York</td>\n",
       "      <td>2002</td>\n",
       "      <td>TRUE</td>\n",
       "    </tr>\n",
       "    <tr>\n",
       "      <th>2</th>\n",
       "      <td>39.0</td>\n",
       "      <td>77k-89k</td>\n",
       "      <td>3.5</td>\n",
       "      <td>New York</td>\n",
       "      <td>1999</td>\n",
       "      <td>-1</td>\n",
       "    </tr>\n",
       "    <tr>\n",
       "      <th>3</th>\n",
       "      <td>64.0</td>\n",
       "      <td>44k-99k</td>\n",
       "      <td>4.4</td>\n",
       "      <td>India</td>\n",
       "      <td>1988</td>\n",
       "      <td>-1</td>\n",
       "    </tr>\n",
       "    <tr>\n",
       "      <th>4</th>\n",
       "      <td>25.0</td>\n",
       "      <td>44k-99k</td>\n",
       "      <td>6.4</td>\n",
       "      <td>Australia</td>\n",
       "      <td>2002</td>\n",
       "      <td>-1</td>\n",
       "    </tr>\n",
       "  </tbody>\n",
       "</table>\n",
       "</div>"
      ],
      "text/plain": [
       "    Age   Salary  Rating   Location  Established Easy Apply\n",
       "0  44.0  44k-99k     5.4      India         1999       TRUE\n",
       "1  66.0  55k-66k     3.5   New York         2002       TRUE\n",
       "2  39.0  77k-89k     3.5   New York         1999         -1\n",
       "3  64.0  44k-99k     4.4      India         1988         -1\n",
       "4  25.0  44k-99k     6.4  Australia         2002         -1"
      ]
     },
     "execution_count": 47,
     "metadata": {},
     "output_type": "execute_result"
    }
   ],
   "source": [
    "data.head()"
   ]
  },
  {
   "cell_type": "code",
   "execution_count": 48,
   "id": "2c261e3c",
   "metadata": {},
   "outputs": [],
   "source": [
    "data.rename(columns={'Easy Apply':'easy_apply'},inplace=True)"
   ]
  },
  {
   "cell_type": "code",
   "execution_count": 49,
   "id": "f61a4a59",
   "metadata": {},
   "outputs": [
    {
     "data": {
      "text/html": [
       "<div>\n",
       "<style scoped>\n",
       "    .dataframe tbody tr th:only-of-type {\n",
       "        vertical-align: middle;\n",
       "    }\n",
       "\n",
       "    .dataframe tbody tr th {\n",
       "        vertical-align: top;\n",
       "    }\n",
       "\n",
       "    .dataframe thead th {\n",
       "        text-align: right;\n",
       "    }\n",
       "</style>\n",
       "<table border=\"1\" class=\"dataframe\">\n",
       "  <thead>\n",
       "    <tr style=\"text-align: right;\">\n",
       "      <th></th>\n",
       "      <th>Age</th>\n",
       "      <th>Salary</th>\n",
       "      <th>Rating</th>\n",
       "      <th>Location</th>\n",
       "      <th>Established</th>\n",
       "      <th>easy_apply</th>\n",
       "    </tr>\n",
       "  </thead>\n",
       "  <tbody>\n",
       "    <tr>\n",
       "      <th>0</th>\n",
       "      <td>44.0</td>\n",
       "      <td>44k-99k</td>\n",
       "      <td>5.4</td>\n",
       "      <td>India</td>\n",
       "      <td>1999</td>\n",
       "      <td>TRUE</td>\n",
       "    </tr>\n",
       "    <tr>\n",
       "      <th>1</th>\n",
       "      <td>66.0</td>\n",
       "      <td>55k-66k</td>\n",
       "      <td>3.5</td>\n",
       "      <td>New York</td>\n",
       "      <td>2002</td>\n",
       "      <td>TRUE</td>\n",
       "    </tr>\n",
       "    <tr>\n",
       "      <th>2</th>\n",
       "      <td>39.0</td>\n",
       "      <td>77k-89k</td>\n",
       "      <td>3.5</td>\n",
       "      <td>New York</td>\n",
       "      <td>1999</td>\n",
       "      <td>-1</td>\n",
       "    </tr>\n",
       "    <tr>\n",
       "      <th>3</th>\n",
       "      <td>64.0</td>\n",
       "      <td>44k-99k</td>\n",
       "      <td>4.4</td>\n",
       "      <td>India</td>\n",
       "      <td>1988</td>\n",
       "      <td>-1</td>\n",
       "    </tr>\n",
       "    <tr>\n",
       "      <th>4</th>\n",
       "      <td>25.0</td>\n",
       "      <td>44k-99k</td>\n",
       "      <td>6.4</td>\n",
       "      <td>Australia</td>\n",
       "      <td>2002</td>\n",
       "      <td>-1</td>\n",
       "    </tr>\n",
       "  </tbody>\n",
       "</table>\n",
       "</div>"
      ],
      "text/plain": [
       "    Age   Salary  Rating   Location  Established easy_apply\n",
       "0  44.0  44k-99k     5.4      India         1999       TRUE\n",
       "1  66.0  55k-66k     3.5   New York         2002       TRUE\n",
       "2  39.0  77k-89k     3.5   New York         1999         -1\n",
       "3  64.0  44k-99k     4.4      India         1988         -1\n",
       "4  25.0  44k-99k     6.4  Australia         2002         -1"
      ]
     },
     "execution_count": 49,
     "metadata": {},
     "output_type": "execute_result"
    }
   ],
   "source": [
    "data.head()"
   ]
  },
  {
   "cell_type": "code",
   "execution_count": 50,
   "id": "f4b13389",
   "metadata": {},
   "outputs": [],
   "source": [
    "data['easy_apply'].replace({'-1':'FALSE'},inplace=True)"
   ]
  },
  {
   "cell_type": "code",
   "execution_count": 51,
   "id": "ee1ce1f8",
   "metadata": {},
   "outputs": [
    {
     "data": {
      "text/plain": [
       "0      TRUE\n",
       "1      TRUE\n",
       "2     FALSE\n",
       "3     FALSE\n",
       "4     FALSE\n",
       "5      TRUE\n",
       "6     FALSE\n",
       "7     FALSE\n",
       "8     FALSE\n",
       "9      TRUE\n",
       "10     TRUE\n",
       "11    FALSE\n",
       "12    FALSE\n",
       "13     TRUE\n",
       "14     TRUE\n",
       "15    FALSE\n",
       "16    FALSE\n",
       "17     TRUE\n",
       "18     TRUE\n",
       "19     TRUE\n",
       "20     TRUE\n",
       "21    FALSE\n",
       "22     TRUE\n",
       "23     TRUE\n",
       "24    FALSE\n",
       "25     TRUE\n",
       "26     TRUE\n",
       "27    FALSE\n",
       "28    FALSE\n",
       "Name: easy_apply, dtype: object"
      ]
     },
     "execution_count": 51,
     "metadata": {},
     "output_type": "execute_result"
    }
   ],
   "source": [
    "data.easy_apply"
   ]
  },
  {
   "cell_type": "code",
   "execution_count": 52,
   "id": "1f43dbe4",
   "metadata": {},
   "outputs": [
    {
     "data": {
      "text/html": [
       "<div>\n",
       "<style scoped>\n",
       "    .dataframe tbody tr th:only-of-type {\n",
       "        vertical-align: middle;\n",
       "    }\n",
       "\n",
       "    .dataframe tbody tr th {\n",
       "        vertical-align: top;\n",
       "    }\n",
       "\n",
       "    .dataframe thead th {\n",
       "        text-align: right;\n",
       "    }\n",
       "</style>\n",
       "<table border=\"1\" class=\"dataframe\">\n",
       "  <thead>\n",
       "    <tr style=\"text-align: right;\">\n",
       "      <th></th>\n",
       "      <th>Age</th>\n",
       "      <th>Salary</th>\n",
       "      <th>Rating</th>\n",
       "      <th>Location</th>\n",
       "      <th>Established</th>\n",
       "      <th>easy_apply</th>\n",
       "    </tr>\n",
       "  </thead>\n",
       "  <tbody>\n",
       "    <tr>\n",
       "      <th>0</th>\n",
       "      <td>44.0</td>\n",
       "      <td>44k-99k</td>\n",
       "      <td>5.4</td>\n",
       "      <td>India</td>\n",
       "      <td>1999</td>\n",
       "      <td>TRUE</td>\n",
       "    </tr>\n",
       "    <tr>\n",
       "      <th>1</th>\n",
       "      <td>66.0</td>\n",
       "      <td>55k-66k</td>\n",
       "      <td>3.5</td>\n",
       "      <td>New York</td>\n",
       "      <td>2002</td>\n",
       "      <td>TRUE</td>\n",
       "    </tr>\n",
       "    <tr>\n",
       "      <th>2</th>\n",
       "      <td>39.0</td>\n",
       "      <td>77k-89k</td>\n",
       "      <td>3.5</td>\n",
       "      <td>New York</td>\n",
       "      <td>1999</td>\n",
       "      <td>FALSE</td>\n",
       "    </tr>\n",
       "    <tr>\n",
       "      <th>3</th>\n",
       "      <td>64.0</td>\n",
       "      <td>44k-99k</td>\n",
       "      <td>4.4</td>\n",
       "      <td>India</td>\n",
       "      <td>1988</td>\n",
       "      <td>FALSE</td>\n",
       "    </tr>\n",
       "    <tr>\n",
       "      <th>4</th>\n",
       "      <td>25.0</td>\n",
       "      <td>44k-99k</td>\n",
       "      <td>6.4</td>\n",
       "      <td>Australia</td>\n",
       "      <td>2002</td>\n",
       "      <td>FALSE</td>\n",
       "    </tr>\n",
       "  </tbody>\n",
       "</table>\n",
       "</div>"
      ],
      "text/plain": [
       "    Age   Salary  Rating   Location  Established easy_apply\n",
       "0  44.0  44k-99k     5.4      India         1999       TRUE\n",
       "1  66.0  55k-66k     3.5   New York         2002       TRUE\n",
       "2  39.0  77k-89k     3.5   New York         1999      FALSE\n",
       "3  64.0  44k-99k     4.4      India         1988      FALSE\n",
       "4  25.0  44k-99k     6.4  Australia         2002      FALSE"
      ]
     },
     "execution_count": 52,
     "metadata": {},
     "output_type": "execute_result"
    }
   ],
   "source": [
    "data.head()"
   ]
  },
  {
   "cell_type": "code",
   "execution_count": 5,
   "id": "cc02a428",
   "metadata": {},
   "outputs": [],
   "source": [
    "continous = ['Age','Salary','Rating','Established']\n",
    "\n",
    "categorical = ['Location','easy_apply']\n",
    "             "
   ]
  },
  {
   "cell_type": "code",
   "execution_count": null,
   "id": "91424f14",
   "metadata": {},
   "outputs": [],
   "source": []
  },
  {
   "cell_type": "markdown",
   "id": "552b7a0a",
   "metadata": {},
   "source": [
    "# Chipotle Dataset"
   ]
  },
  {
   "cell_type": "code",
   "execution_count": null,
   "id": "6b4b4630",
   "metadata": {},
   "outputs": [],
   "source": []
  },
  {
   "cell_type": "code",
   "execution_count": 136,
   "id": "3ecdcfab",
   "metadata": {},
   "outputs": [],
   "source": [
    "import numpy as np \n",
    "import pandas as pd\n",
    "\n",
    "import re"
   ]
  },
  {
   "cell_type": "code",
   "execution_count": 137,
   "id": "b60e07cf",
   "metadata": {},
   "outputs": [],
   "source": [
    "df = pd.read_csv(\"C:\\\\Users\\\\payas\\\\chipotle - Copy.tsv\",sep='\\t')"
   ]
  },
  {
   "cell_type": "code",
   "execution_count": 138,
   "id": "008761e5",
   "metadata": {},
   "outputs": [
    {
     "data": {
      "text/html": [
       "<div>\n",
       "<style scoped>\n",
       "    .dataframe tbody tr th:only-of-type {\n",
       "        vertical-align: middle;\n",
       "    }\n",
       "\n",
       "    .dataframe tbody tr th {\n",
       "        vertical-align: top;\n",
       "    }\n",
       "\n",
       "    .dataframe thead th {\n",
       "        text-align: right;\n",
       "    }\n",
       "</style>\n",
       "<table border=\"1\" class=\"dataframe\">\n",
       "  <thead>\n",
       "    <tr style=\"text-align: right;\">\n",
       "      <th></th>\n",
       "      <th>order_id</th>\n",
       "      <th>quantity</th>\n",
       "      <th>item_name</th>\n",
       "      <th>choice_description</th>\n",
       "      <th>item_price</th>\n",
       "    </tr>\n",
       "  </thead>\n",
       "  <tbody>\n",
       "    <tr>\n",
       "      <th>0</th>\n",
       "      <td>1</td>\n",
       "      <td>1</td>\n",
       "      <td>Chips and Fresh Tomato Salsa</td>\n",
       "      <td>NaN</td>\n",
       "      <td>$2.39</td>\n",
       "    </tr>\n",
       "    <tr>\n",
       "      <th>1</th>\n",
       "      <td>1</td>\n",
       "      <td>1</td>\n",
       "      <td>Izze</td>\n",
       "      <td>[Clementine]</td>\n",
       "      <td>$3.39</td>\n",
       "    </tr>\n",
       "    <tr>\n",
       "      <th>2</th>\n",
       "      <td>1</td>\n",
       "      <td>1</td>\n",
       "      <td>Nantucket Nectar</td>\n",
       "      <td>[Apple]</td>\n",
       "      <td>$3.39</td>\n",
       "    </tr>\n",
       "    <tr>\n",
       "      <th>3</th>\n",
       "      <td>1</td>\n",
       "      <td>1</td>\n",
       "      <td>Chips and Tomatillo-Green Chili Salsa</td>\n",
       "      <td>NaN</td>\n",
       "      <td>$2.39</td>\n",
       "    </tr>\n",
       "    <tr>\n",
       "      <th>4</th>\n",
       "      <td>2</td>\n",
       "      <td>2</td>\n",
       "      <td>Chicken Bowl</td>\n",
       "      <td>[Tomatillo-Red Chili Salsa (Hot), [Black Beans...</td>\n",
       "      <td>$16.98</td>\n",
       "    </tr>\n",
       "    <tr>\n",
       "      <th>...</th>\n",
       "      <td>...</td>\n",
       "      <td>...</td>\n",
       "      <td>...</td>\n",
       "      <td>...</td>\n",
       "      <td>...</td>\n",
       "    </tr>\n",
       "    <tr>\n",
       "      <th>4617</th>\n",
       "      <td>1833</td>\n",
       "      <td>1</td>\n",
       "      <td>Steak Burrito</td>\n",
       "      <td>[Fresh Tomato Salsa, [Rice, Black Beans, Sour ...</td>\n",
       "      <td>$11.75</td>\n",
       "    </tr>\n",
       "    <tr>\n",
       "      <th>4618</th>\n",
       "      <td>1833</td>\n",
       "      <td>1</td>\n",
       "      <td>Steak Burrito</td>\n",
       "      <td>[Fresh Tomato Salsa, [Rice, Sour Cream, Cheese...</td>\n",
       "      <td>$11.75</td>\n",
       "    </tr>\n",
       "    <tr>\n",
       "      <th>4619</th>\n",
       "      <td>1834</td>\n",
       "      <td>1</td>\n",
       "      <td>Chicken Salad Bowl</td>\n",
       "      <td>[Fresh Tomato Salsa, [Fajita Vegetables, Pinto...</td>\n",
       "      <td>$11.25</td>\n",
       "    </tr>\n",
       "    <tr>\n",
       "      <th>4620</th>\n",
       "      <td>1834</td>\n",
       "      <td>1</td>\n",
       "      <td>Chicken Salad Bowl</td>\n",
       "      <td>[Fresh Tomato Salsa, [Fajita Vegetables, Lettu...</td>\n",
       "      <td>$8.75</td>\n",
       "    </tr>\n",
       "    <tr>\n",
       "      <th>4621</th>\n",
       "      <td>1834</td>\n",
       "      <td>1</td>\n",
       "      <td>Chicken Salad Bowl</td>\n",
       "      <td>[Fresh Tomato Salsa, [Fajita Vegetables, Pinto...</td>\n",
       "      <td>$8.75</td>\n",
       "    </tr>\n",
       "  </tbody>\n",
       "</table>\n",
       "<p>4622 rows × 5 columns</p>\n",
       "</div>"
      ],
      "text/plain": [
       "      order_id  quantity                              item_name  \\\n",
       "0            1         1           Chips and Fresh Tomato Salsa   \n",
       "1            1         1                                   Izze   \n",
       "2            1         1                       Nantucket Nectar   \n",
       "3            1         1  Chips and Tomatillo-Green Chili Salsa   \n",
       "4            2         2                           Chicken Bowl   \n",
       "...        ...       ...                                    ...   \n",
       "4617      1833         1                          Steak Burrito   \n",
       "4618      1833         1                          Steak Burrito   \n",
       "4619      1834         1                     Chicken Salad Bowl   \n",
       "4620      1834         1                     Chicken Salad Bowl   \n",
       "4621      1834         1                     Chicken Salad Bowl   \n",
       "\n",
       "                                     choice_description item_price  \n",
       "0                                                   NaN     $2.39   \n",
       "1                                          [Clementine]     $3.39   \n",
       "2                                               [Apple]     $3.39   \n",
       "3                                                   NaN     $2.39   \n",
       "4     [Tomatillo-Red Chili Salsa (Hot), [Black Beans...    $16.98   \n",
       "...                                                 ...        ...  \n",
       "4617  [Fresh Tomato Salsa, [Rice, Black Beans, Sour ...    $11.75   \n",
       "4618  [Fresh Tomato Salsa, [Rice, Sour Cream, Cheese...    $11.75   \n",
       "4619  [Fresh Tomato Salsa, [Fajita Vegetables, Pinto...    $11.25   \n",
       "4620  [Fresh Tomato Salsa, [Fajita Vegetables, Lettu...     $8.75   \n",
       "4621  [Fresh Tomato Salsa, [Fajita Vegetables, Pinto...     $8.75   \n",
       "\n",
       "[4622 rows x 5 columns]"
      ]
     },
     "execution_count": 138,
     "metadata": {},
     "output_type": "execute_result"
    }
   ],
   "source": [
    "df"
   ]
  },
  {
   "cell_type": "code",
   "execution_count": 139,
   "id": "899755a0",
   "metadata": {},
   "outputs": [
    {
     "data": {
      "text/html": [
       "<div>\n",
       "<style scoped>\n",
       "    .dataframe tbody tr th:only-of-type {\n",
       "        vertical-align: middle;\n",
       "    }\n",
       "\n",
       "    .dataframe tbody tr th {\n",
       "        vertical-align: top;\n",
       "    }\n",
       "\n",
       "    .dataframe thead th {\n",
       "        text-align: right;\n",
       "    }\n",
       "</style>\n",
       "<table border=\"1\" class=\"dataframe\">\n",
       "  <thead>\n",
       "    <tr style=\"text-align: right;\">\n",
       "      <th></th>\n",
       "      <th>order_id</th>\n",
       "      <th>quantity</th>\n",
       "      <th>item_name</th>\n",
       "      <th>choice_description</th>\n",
       "      <th>item_price</th>\n",
       "    </tr>\n",
       "  </thead>\n",
       "  <tbody>\n",
       "    <tr>\n",
       "      <th>0</th>\n",
       "      <td>1</td>\n",
       "      <td>1</td>\n",
       "      <td>Chips and Fresh Tomato Salsa</td>\n",
       "      <td>NaN</td>\n",
       "      <td>$2.39</td>\n",
       "    </tr>\n",
       "    <tr>\n",
       "      <th>1</th>\n",
       "      <td>1</td>\n",
       "      <td>1</td>\n",
       "      <td>Izze</td>\n",
       "      <td>[Clementine]</td>\n",
       "      <td>$3.39</td>\n",
       "    </tr>\n",
       "    <tr>\n",
       "      <th>2</th>\n",
       "      <td>1</td>\n",
       "      <td>1</td>\n",
       "      <td>Nantucket Nectar</td>\n",
       "      <td>[Apple]</td>\n",
       "      <td>$3.39</td>\n",
       "    </tr>\n",
       "    <tr>\n",
       "      <th>3</th>\n",
       "      <td>1</td>\n",
       "      <td>1</td>\n",
       "      <td>Chips and Tomatillo-Green Chili Salsa</td>\n",
       "      <td>NaN</td>\n",
       "      <td>$2.39</td>\n",
       "    </tr>\n",
       "    <tr>\n",
       "      <th>4</th>\n",
       "      <td>2</td>\n",
       "      <td>2</td>\n",
       "      <td>Chicken Bowl</td>\n",
       "      <td>[Tomatillo-Red Chili Salsa (Hot), [Black Beans...</td>\n",
       "      <td>$16.98</td>\n",
       "    </tr>\n",
       "    <tr>\n",
       "      <th>...</th>\n",
       "      <td>...</td>\n",
       "      <td>...</td>\n",
       "      <td>...</td>\n",
       "      <td>...</td>\n",
       "      <td>...</td>\n",
       "    </tr>\n",
       "    <tr>\n",
       "      <th>4617</th>\n",
       "      <td>1833</td>\n",
       "      <td>1</td>\n",
       "      <td>Steak Burrito</td>\n",
       "      <td>[Fresh Tomato Salsa, [Rice, Black Beans, Sour ...</td>\n",
       "      <td>$11.75</td>\n",
       "    </tr>\n",
       "    <tr>\n",
       "      <th>4618</th>\n",
       "      <td>1833</td>\n",
       "      <td>1</td>\n",
       "      <td>Steak Burrito</td>\n",
       "      <td>[Fresh Tomato Salsa, [Rice, Sour Cream, Cheese...</td>\n",
       "      <td>$11.75</td>\n",
       "    </tr>\n",
       "    <tr>\n",
       "      <th>4619</th>\n",
       "      <td>1834</td>\n",
       "      <td>1</td>\n",
       "      <td>Chicken Salad Bowl</td>\n",
       "      <td>[Fresh Tomato Salsa, [Fajita Vegetables, Pinto...</td>\n",
       "      <td>$11.25</td>\n",
       "    </tr>\n",
       "    <tr>\n",
       "      <th>4620</th>\n",
       "      <td>1834</td>\n",
       "      <td>1</td>\n",
       "      <td>Chicken Salad Bowl</td>\n",
       "      <td>[Fresh Tomato Salsa, [Fajita Vegetables, Lettu...</td>\n",
       "      <td>$8.75</td>\n",
       "    </tr>\n",
       "    <tr>\n",
       "      <th>4621</th>\n",
       "      <td>1834</td>\n",
       "      <td>1</td>\n",
       "      <td>Chicken Salad Bowl</td>\n",
       "      <td>[Fresh Tomato Salsa, [Fajita Vegetables, Pinto...</td>\n",
       "      <td>$8.75</td>\n",
       "    </tr>\n",
       "  </tbody>\n",
       "</table>\n",
       "<p>4622 rows × 5 columns</p>\n",
       "</div>"
      ],
      "text/plain": [
       "      order_id  quantity                              item_name  \\\n",
       "0            1         1           Chips and Fresh Tomato Salsa   \n",
       "1            1         1                                   Izze   \n",
       "2            1         1                       Nantucket Nectar   \n",
       "3            1         1  Chips and Tomatillo-Green Chili Salsa   \n",
       "4            2         2                           Chicken Bowl   \n",
       "...        ...       ...                                    ...   \n",
       "4617      1833         1                          Steak Burrito   \n",
       "4618      1833         1                          Steak Burrito   \n",
       "4619      1834         1                     Chicken Salad Bowl   \n",
       "4620      1834         1                     Chicken Salad Bowl   \n",
       "4621      1834         1                     Chicken Salad Bowl   \n",
       "\n",
       "                                     choice_description item_price  \n",
       "0                                                   NaN     $2.39   \n",
       "1                                          [Clementine]     $3.39   \n",
       "2                                               [Apple]     $3.39   \n",
       "3                                                   NaN     $2.39   \n",
       "4     [Tomatillo-Red Chili Salsa (Hot), [Black Beans...    $16.98   \n",
       "...                                                 ...        ...  \n",
       "4617  [Fresh Tomato Salsa, [Rice, Black Beans, Sour ...    $11.75   \n",
       "4618  [Fresh Tomato Salsa, [Rice, Sour Cream, Cheese...    $11.75   \n",
       "4619  [Fresh Tomato Salsa, [Fajita Vegetables, Pinto...    $11.25   \n",
       "4620  [Fresh Tomato Salsa, [Fajita Vegetables, Lettu...     $8.75   \n",
       "4621  [Fresh Tomato Salsa, [Fajita Vegetables, Pinto...     $8.75   \n",
       "\n",
       "[4622 rows x 5 columns]"
      ]
     },
     "execution_count": 139,
     "metadata": {},
     "output_type": "execute_result"
    }
   ],
   "source": [
    "copy_df = df.copy()\n",
    "copy_df\n"
   ]
  },
  {
   "cell_type": "code",
   "execution_count": 140,
   "id": "2420c3e9",
   "metadata": {
    "scrolled": true
   },
   "outputs": [
    {
     "data": {
      "text/html": [
       "<div>\n",
       "<style scoped>\n",
       "    .dataframe tbody tr th:only-of-type {\n",
       "        vertical-align: middle;\n",
       "    }\n",
       "\n",
       "    .dataframe tbody tr th {\n",
       "        vertical-align: top;\n",
       "    }\n",
       "\n",
       "    .dataframe thead th {\n",
       "        text-align: right;\n",
       "    }\n",
       "</style>\n",
       "<table border=\"1\" class=\"dataframe\">\n",
       "  <thead>\n",
       "    <tr style=\"text-align: right;\">\n",
       "      <th></th>\n",
       "      <th>order_id</th>\n",
       "      <th>quantity</th>\n",
       "      <th>item_name</th>\n",
       "      <th>choice_description</th>\n",
       "      <th>item_price</th>\n",
       "    </tr>\n",
       "  </thead>\n",
       "  <tbody>\n",
       "    <tr>\n",
       "      <th>0</th>\n",
       "      <td>False</td>\n",
       "      <td>False</td>\n",
       "      <td>False</td>\n",
       "      <td>True</td>\n",
       "      <td>False</td>\n",
       "    </tr>\n",
       "    <tr>\n",
       "      <th>1</th>\n",
       "      <td>False</td>\n",
       "      <td>False</td>\n",
       "      <td>False</td>\n",
       "      <td>False</td>\n",
       "      <td>False</td>\n",
       "    </tr>\n",
       "    <tr>\n",
       "      <th>2</th>\n",
       "      <td>False</td>\n",
       "      <td>False</td>\n",
       "      <td>False</td>\n",
       "      <td>False</td>\n",
       "      <td>False</td>\n",
       "    </tr>\n",
       "    <tr>\n",
       "      <th>3</th>\n",
       "      <td>False</td>\n",
       "      <td>False</td>\n",
       "      <td>False</td>\n",
       "      <td>True</td>\n",
       "      <td>False</td>\n",
       "    </tr>\n",
       "    <tr>\n",
       "      <th>4</th>\n",
       "      <td>False</td>\n",
       "      <td>False</td>\n",
       "      <td>False</td>\n",
       "      <td>False</td>\n",
       "      <td>False</td>\n",
       "    </tr>\n",
       "    <tr>\n",
       "      <th>...</th>\n",
       "      <td>...</td>\n",
       "      <td>...</td>\n",
       "      <td>...</td>\n",
       "      <td>...</td>\n",
       "      <td>...</td>\n",
       "    </tr>\n",
       "    <tr>\n",
       "      <th>4617</th>\n",
       "      <td>False</td>\n",
       "      <td>False</td>\n",
       "      <td>False</td>\n",
       "      <td>False</td>\n",
       "      <td>False</td>\n",
       "    </tr>\n",
       "    <tr>\n",
       "      <th>4618</th>\n",
       "      <td>False</td>\n",
       "      <td>False</td>\n",
       "      <td>False</td>\n",
       "      <td>False</td>\n",
       "      <td>False</td>\n",
       "    </tr>\n",
       "    <tr>\n",
       "      <th>4619</th>\n",
       "      <td>False</td>\n",
       "      <td>False</td>\n",
       "      <td>False</td>\n",
       "      <td>False</td>\n",
       "      <td>False</td>\n",
       "    </tr>\n",
       "    <tr>\n",
       "      <th>4620</th>\n",
       "      <td>False</td>\n",
       "      <td>False</td>\n",
       "      <td>False</td>\n",
       "      <td>False</td>\n",
       "      <td>False</td>\n",
       "    </tr>\n",
       "    <tr>\n",
       "      <th>4621</th>\n",
       "      <td>False</td>\n",
       "      <td>False</td>\n",
       "      <td>False</td>\n",
       "      <td>False</td>\n",
       "      <td>False</td>\n",
       "    </tr>\n",
       "  </tbody>\n",
       "</table>\n",
       "<p>4622 rows × 5 columns</p>\n",
       "</div>"
      ],
      "text/plain": [
       "      order_id  quantity  item_name  choice_description  item_price\n",
       "0        False     False      False                True       False\n",
       "1        False     False      False               False       False\n",
       "2        False     False      False               False       False\n",
       "3        False     False      False                True       False\n",
       "4        False     False      False               False       False\n",
       "...        ...       ...        ...                 ...         ...\n",
       "4617     False     False      False               False       False\n",
       "4618     False     False      False               False       False\n",
       "4619     False     False      False               False       False\n",
       "4620     False     False      False               False       False\n",
       "4621     False     False      False               False       False\n",
       "\n",
       "[4622 rows x 5 columns]"
      ]
     },
     "execution_count": 140,
     "metadata": {},
     "output_type": "execute_result"
    }
   ],
   "source": [
    "df.isnull()"
   ]
  },
  {
   "cell_type": "markdown",
   "id": "30d6ca11",
   "metadata": {},
   "source": [
    "# Data Understanding"
   ]
  },
  {
   "cell_type": "markdown",
   "id": "d35030a1",
   "metadata": {},
   "source": [
    "\torder_id: represent the index of each row.\n",
    "    \n",
    "    quantity: no of customers\n",
    "    \n",
    "    item_name: Names of the food items/dish\n",
    "    \n",
    "    choice_description: choosing\n",
    "    \n",
    "    item_price: price of the item\n",
    "    \n",
    "    \n",
    "    \n",
    "    "
   ]
  },
  {
   "cell_type": "code",
   "execution_count": 141,
   "id": "75cd7d42",
   "metadata": {},
   "outputs": [
    {
     "name": "stdout",
     "output_type": "stream",
     "text": [
      "<class 'pandas.core.frame.DataFrame'>\n",
      "RangeIndex: 4622 entries, 0 to 4621\n",
      "Data columns (total 5 columns):\n",
      " #   Column              Non-Null Count  Dtype \n",
      "---  ------              --------------  ----- \n",
      " 0   order_id            4622 non-null   int64 \n",
      " 1   quantity            4622 non-null   int64 \n",
      " 2   item_name           4622 non-null   object\n",
      " 3   choice_description  3376 non-null   object\n",
      " 4   item_price          4622 non-null   object\n",
      "dtypes: int64(2), object(3)\n",
      "memory usage: 180.7+ KB\n"
     ]
    }
   ],
   "source": [
    "df.info()"
   ]
  },
  {
   "cell_type": "code",
   "execution_count": 142,
   "id": "068bade2",
   "metadata": {},
   "outputs": [
    {
     "data": {
      "text/plain": [
       "Index(['order_id', 'quantity', 'item_name', 'choice_description',\n",
       "       'item_price'],\n",
       "      dtype='object')"
      ]
     },
     "execution_count": 142,
     "metadata": {},
     "output_type": "execute_result"
    }
   ],
   "source": [
    "df.columns"
   ]
  },
  {
   "cell_type": "code",
   "execution_count": 143,
   "id": "fba714f9",
   "metadata": {},
   "outputs": [
    {
     "data": {
      "text/plain": [
       "array([   1,    2,    3, ..., 1832, 1833, 1834], dtype=int64)"
      ]
     },
     "execution_count": 143,
     "metadata": {},
     "output_type": "execute_result"
    }
   ],
   "source": [
    "df['order_id'].unique()"
   ]
  },
  {
   "cell_type": "code",
   "execution_count": 144,
   "id": "f1bd7277",
   "metadata": {},
   "outputs": [
    {
     "data": {
      "text/plain": [
       "926     23\n",
       "1483    14\n",
       "205     12\n",
       "759     11\n",
       "1786    11\n",
       "        ..\n",
       "768      1\n",
       "341      1\n",
       "1048     1\n",
       "94       1\n",
       "1199     1\n",
       "Name: order_id, Length: 1834, dtype: int64"
      ]
     },
     "execution_count": 144,
     "metadata": {},
     "output_type": "execute_result"
    }
   ],
   "source": [
    "df['order_id'].value_counts()"
   ]
  },
  {
   "cell_type": "code",
   "execution_count": 145,
   "id": "886739d9",
   "metadata": {},
   "outputs": [
    {
     "data": {
      "text/plain": [
       "array([ 1,  2,  3,  4,  5, 15,  7,  8, 10], dtype=int64)"
      ]
     },
     "execution_count": 145,
     "metadata": {},
     "output_type": "execute_result"
    }
   ],
   "source": [
    "df['quantity'].unique()"
   ]
  },
  {
   "cell_type": "code",
   "execution_count": 146,
   "id": "7b7715e8",
   "metadata": {},
   "outputs": [
    {
     "data": {
      "text/plain": [
       "1     4355\n",
       "2      224\n",
       "3       28\n",
       "4       10\n",
       "5        1\n",
       "15       1\n",
       "7        1\n",
       "8        1\n",
       "10       1\n",
       "Name: quantity, dtype: int64"
      ]
     },
     "execution_count": 146,
     "metadata": {},
     "output_type": "execute_result"
    }
   ],
   "source": [
    "df['quantity'].value_counts()"
   ]
  },
  {
   "cell_type": "code",
   "execution_count": 147,
   "id": "323108be",
   "metadata": {},
   "outputs": [
    {
     "data": {
      "text/plain": [
       "array(['Chips and Fresh Tomato Salsa', 'Izze', 'Nantucket Nectar',\n",
       "       'Chips and Tomatillo-Green Chili Salsa', 'Chicken Bowl',\n",
       "       'Side of Chips', 'Steak Burrito', 'Steak Soft Tacos',\n",
       "       'Chips and Guacamole', 'Chicken Crispy Tacos',\n",
       "       'Chicken Soft Tacos', 'Chicken Burrito', 'Canned Soda',\n",
       "       'Barbacoa Burrito', 'Carnitas Burrito', 'Carnitas Bowl',\n",
       "       'Bottled Water', 'Chips and Tomatillo Green Chili Salsa',\n",
       "       'Barbacoa Bowl', 'Chips', 'Chicken Salad Bowl', 'Steak Bowl',\n",
       "       'Barbacoa Soft Tacos', 'Veggie Burrito', 'Veggie Bowl',\n",
       "       'Steak Crispy Tacos', 'Chips and Tomatillo Red Chili Salsa',\n",
       "       'Barbacoa Crispy Tacos', 'Veggie Salad Bowl',\n",
       "       'Chips and Roasted Chili-Corn Salsa',\n",
       "       'Chips and Roasted Chili Corn Salsa', 'Carnitas Soft Tacos',\n",
       "       'Chicken Salad', 'Canned Soft Drink', 'Steak Salad Bowl',\n",
       "       '6 Pack Soft Drink', 'Chips and Tomatillo-Red Chili Salsa', 'Bowl',\n",
       "       'Burrito', 'Crispy Tacos', 'Carnitas Crispy Tacos', 'Steak Salad',\n",
       "       'Chips and Mild Fresh Tomato Salsa', 'Veggie Soft Tacos',\n",
       "       'Carnitas Salad Bowl', 'Barbacoa Salad Bowl', 'Salad',\n",
       "       'Veggie Crispy Tacos', 'Veggie Salad', 'Carnitas Salad'],\n",
       "      dtype=object)"
      ]
     },
     "execution_count": 147,
     "metadata": {},
     "output_type": "execute_result"
    }
   ],
   "source": [
    "df['item_name'].unique()"
   ]
  },
  {
   "cell_type": "code",
   "execution_count": 148,
   "id": "3463459f",
   "metadata": {},
   "outputs": [
    {
     "data": {
      "text/plain": [
       "Chicken Bowl                             726\n",
       "Chicken Burrito                          553\n",
       "Chips and Guacamole                      479\n",
       "Steak Burrito                            368\n",
       "Canned Soft Drink                        301\n",
       "Steak Bowl                               211\n",
       "Chips                                    211\n",
       "Bottled Water                            162\n",
       "Chicken Soft Tacos                       115\n",
       "Chips and Fresh Tomato Salsa             110\n",
       "Chicken Salad Bowl                       110\n",
       "Canned Soda                              104\n",
       "Side of Chips                            101\n",
       "Veggie Burrito                            95\n",
       "Barbacoa Burrito                          91\n",
       "Veggie Bowl                               85\n",
       "Carnitas Bowl                             68\n",
       "Barbacoa Bowl                             66\n",
       "Carnitas Burrito                          59\n",
       "Steak Soft Tacos                          55\n",
       "6 Pack Soft Drink                         54\n",
       "Chips and Tomatillo Red Chili Salsa       48\n",
       "Chicken Crispy Tacos                      47\n",
       "Chips and Tomatillo Green Chili Salsa     43\n",
       "Carnitas Soft Tacos                       40\n",
       "Steak Crispy Tacos                        35\n",
       "Chips and Tomatillo-Green Chili Salsa     31\n",
       "Steak Salad Bowl                          29\n",
       "Nantucket Nectar                          27\n",
       "Barbacoa Soft Tacos                       25\n",
       "Chips and Roasted Chili Corn Salsa        22\n",
       "Izze                                      20\n",
       "Chips and Tomatillo-Red Chili Salsa       20\n",
       "Veggie Salad Bowl                         18\n",
       "Chips and Roasted Chili-Corn Salsa        18\n",
       "Barbacoa Crispy Tacos                     11\n",
       "Barbacoa Salad Bowl                       10\n",
       "Chicken Salad                              9\n",
       "Veggie Soft Tacos                          7\n",
       "Carnitas Crispy Tacos                      7\n",
       "Veggie Salad                               6\n",
       "Carnitas Salad Bowl                        6\n",
       "Burrito                                    6\n",
       "Steak Salad                                4\n",
       "Crispy Tacos                               2\n",
       "Salad                                      2\n",
       "Bowl                                       2\n",
       "Chips and Mild Fresh Tomato Salsa          1\n",
       "Veggie Crispy Tacos                        1\n",
       "Carnitas Salad                             1\n",
       "Name: item_name, dtype: int64"
      ]
     },
     "execution_count": 148,
     "metadata": {},
     "output_type": "execute_result"
    }
   ],
   "source": [
    "df['item_name'].value_counts()"
   ]
  },
  {
   "cell_type": "code",
   "execution_count": 149,
   "id": "c33d1dbb",
   "metadata": {},
   "outputs": [
    {
     "data": {
      "text/plain": [
       "array([nan, '[Clementine]', '[Apple]', ...,\n",
       "       '[Roasted Chili Corn Salsa, [Pinto Beans, Sour Cream, Cheese, Lettuce, Guacamole]]',\n",
       "       '[Tomatillo Green Chili Salsa, [Rice, Black Beans]]',\n",
       "       '[Tomatillo Green Chili Salsa, [Rice, Fajita Vegetables, Black Beans, Guacamole]]'],\n",
       "      dtype=object)"
      ]
     },
     "execution_count": 149,
     "metadata": {},
     "output_type": "execute_result"
    }
   ],
   "source": [
    "df['choice_description'].unique()"
   ]
  },
  {
   "cell_type": "code",
   "execution_count": 150,
   "id": "4628e057",
   "metadata": {},
   "outputs": [
    {
     "data": {
      "text/plain": [
       "[Diet Coke]                                                                                                                                      134\n",
       "[Coke]                                                                                                                                           123\n",
       "[Sprite]                                                                                                                                          77\n",
       "[Fresh Tomato Salsa, [Rice, Black Beans, Cheese, Sour Cream, Lettuce]]                                                                            42\n",
       "[Fresh Tomato Salsa, [Rice, Black Beans, Cheese, Sour Cream, Guacamole, Lettuce]]                                                                 40\n",
       "                                                                                                                                                ... \n",
       "[Fresh Tomato Salsa (Mild), [Pinto Beans, Black Beans, Rice, Cheese, Sour Cream, Lettuce]]                                                         1\n",
       "[[Fresh Tomato Salsa (Mild), Roasted Chili Corn Salsa (Medium), Tomatillo-Red Chili Salsa (Hot)], [Pinto Beans, Cheese, Sour Cream, Lettuce]]      1\n",
       "[Fresh Tomato (Mild), [Guacamole, Rice, Black Beans]]                                                                                              1\n",
       "[[Tomatillo-Green Chili Salsa (Medium), Tomatillo-Red Chili Salsa (Hot)], [Black Beans, Rice, Cheese, Lettuce]]                                    1\n",
       "[Tomatillo Green Chili Salsa, [Rice, Fajita Vegetables, Black Beans, Guacamole]]                                                                   1\n",
       "Name: choice_description, Length: 1043, dtype: int64"
      ]
     },
     "execution_count": 150,
     "metadata": {},
     "output_type": "execute_result"
    }
   ],
   "source": [
    "df['choice_description'].value_counts()"
   ]
  },
  {
   "cell_type": "code",
   "execution_count": 151,
   "id": "eee4d7b5",
   "metadata": {},
   "outputs": [
    {
     "data": {
      "text/plain": [
       "array(['$2.39 ', '$3.39 ', '$16.98 ', '$10.98 ', '$1.69 ', '$11.75 ',\n",
       "       '$9.25 ', '$4.45 ', '$8.75 ', '$11.25 ', '$8.49 ', '$2.18 ',\n",
       "       '$8.99 ', '$1.09 ', '$2.95 ', '$2.15 ', '$3.99 ', '$22.50 ',\n",
       "       '$11.48 ', '$17.98 ', '$17.50 ', '$4.30 ', '$5.90 ', '$1.25 ',\n",
       "       '$23.78 ', '$6.49 ', '$11.08 ', '$1.50 ', '$22.16 ', '$32.94 ',\n",
       "       '$22.20 ', '$10.58 ', '$2.50 ', '$23.50 ', '$7.40 ', '$18.50 ',\n",
       "       '$3.00 ', '$6.78 ', '$11.89 ', '$9.39 ', '$4.00 ', '$3.75 ',\n",
       "       '$8.69 ', '$2.29 ', '$8.90 ', '$3.27 ', '$3.89 ', '$8.19 ',\n",
       "       '$35.00 ', '$27.75 ', '$11.80 ', '$6.00 ', '$26.25 ', '$21.96 ',\n",
       "       '$4.36 ', '$7.50 ', '$4.78 ', '$13.35 ', '$6.45 ', '$5.07 ',\n",
       "       '$22.96 ', '$7.17 ', '$7.98 ', '$4.50 ', '$26.07 ', '$12.98 ',\n",
       "       '$35.25 ', '$44.25 ', '$10.50 ', '$33.75 ', '$16.38 ', '$13.52 ',\n",
       "       '$5.00 ', '$15.00 ', '$8.50 ', '$17.80 ', '$1.99 ', '$11.49 '],\n",
       "      dtype=object)"
      ]
     },
     "execution_count": 151,
     "metadata": {},
     "output_type": "execute_result"
    }
   ],
   "source": [
    "df['item_price'].unique()"
   ]
  },
  {
   "cell_type": "code",
   "execution_count": 152,
   "id": "ad87ea03",
   "metadata": {},
   "outputs": [
    {
     "data": {
      "text/plain": [
       "$8.75      730\n",
       "$11.25     521\n",
       "$9.25      398\n",
       "$4.45      349\n",
       "$8.49      311\n",
       "          ... \n",
       "$13.35       1\n",
       "$7.50        1\n",
       "$4.36        1\n",
       "$11.80       1\n",
       "$11.49       1\n",
       "Name: item_price, Length: 78, dtype: int64"
      ]
     },
     "execution_count": 152,
     "metadata": {},
     "output_type": "execute_result"
    }
   ],
   "source": [
    "df['item_price'].value_counts()"
   ]
  },
  {
   "cell_type": "code",
   "execution_count": 153,
   "id": "0c747f42",
   "metadata": {},
   "outputs": [
    {
     "data": {
      "text/html": [
       "<div>\n",
       "<style scoped>\n",
       "    .dataframe tbody tr th:only-of-type {\n",
       "        vertical-align: middle;\n",
       "    }\n",
       "\n",
       "    .dataframe tbody tr th {\n",
       "        vertical-align: top;\n",
       "    }\n",
       "\n",
       "    .dataframe thead th {\n",
       "        text-align: right;\n",
       "    }\n",
       "</style>\n",
       "<table border=\"1\" class=\"dataframe\">\n",
       "  <thead>\n",
       "    <tr style=\"text-align: right;\">\n",
       "      <th></th>\n",
       "      <th>order_id</th>\n",
       "      <th>quantity</th>\n",
       "      <th>item_name</th>\n",
       "      <th>choice_description</th>\n",
       "      <th>item_price</th>\n",
       "    </tr>\n",
       "  </thead>\n",
       "  <tbody>\n",
       "    <tr>\n",
       "      <th>0</th>\n",
       "      <td>1</td>\n",
       "      <td>1</td>\n",
       "      <td>Chips and Fresh Tomato Salsa</td>\n",
       "      <td>NaN</td>\n",
       "      <td>$2.39</td>\n",
       "    </tr>\n",
       "    <tr>\n",
       "      <th>1</th>\n",
       "      <td>1</td>\n",
       "      <td>1</td>\n",
       "      <td>Izze</td>\n",
       "      <td>[Clementine]</td>\n",
       "      <td>$3.39</td>\n",
       "    </tr>\n",
       "    <tr>\n",
       "      <th>2</th>\n",
       "      <td>1</td>\n",
       "      <td>1</td>\n",
       "      <td>Nantucket Nectar</td>\n",
       "      <td>[Apple]</td>\n",
       "      <td>$3.39</td>\n",
       "    </tr>\n",
       "    <tr>\n",
       "      <th>3</th>\n",
       "      <td>1</td>\n",
       "      <td>1</td>\n",
       "      <td>Chips and Tomatillo-Green Chili Salsa</td>\n",
       "      <td>NaN</td>\n",
       "      <td>$2.39</td>\n",
       "    </tr>\n",
       "    <tr>\n",
       "      <th>4</th>\n",
       "      <td>2</td>\n",
       "      <td>2</td>\n",
       "      <td>Chicken Bowl</td>\n",
       "      <td>[Tomatillo-Red Chili Salsa (Hot), [Black Beans...</td>\n",
       "      <td>$16.98</td>\n",
       "    </tr>\n",
       "  </tbody>\n",
       "</table>\n",
       "</div>"
      ],
      "text/plain": [
       "   order_id  quantity                              item_name  \\\n",
       "0         1         1           Chips and Fresh Tomato Salsa   \n",
       "1         1         1                                   Izze   \n",
       "2         1         1                       Nantucket Nectar   \n",
       "3         1         1  Chips and Tomatillo-Green Chili Salsa   \n",
       "4         2         2                           Chicken Bowl   \n",
       "\n",
       "                                  choice_description item_price  \n",
       "0                                                NaN     $2.39   \n",
       "1                                       [Clementine]     $3.39   \n",
       "2                                            [Apple]     $3.39   \n",
       "3                                                NaN     $2.39   \n",
       "4  [Tomatillo-Red Chili Salsa (Hot), [Black Beans...    $16.98   "
      ]
     },
     "execution_count": 153,
     "metadata": {},
     "output_type": "execute_result"
    }
   ],
   "source": [
    "df.head()"
   ]
  },
  {
   "cell_type": "code",
   "execution_count": 154,
   "id": "30240e70",
   "metadata": {},
   "outputs": [
    {
     "data": {
      "text/plain": [
       "0          1\n",
       "1          1\n",
       "2          1\n",
       "3          1\n",
       "4          2\n",
       "        ... \n",
       "4617    1833\n",
       "4618    1833\n",
       "4619    1834\n",
       "4620    1834\n",
       "4621    1834\n",
       "Name: order_id, Length: 4622, dtype: int64"
      ]
     },
     "execution_count": 154,
     "metadata": {},
     "output_type": "execute_result"
    }
   ],
   "source": [
    "df['order_id']"
   ]
  },
  {
   "cell_type": "code",
   "execution_count": 155,
   "id": "7ba91554",
   "metadata": {},
   "outputs": [
    {
     "data": {
      "text/plain": [
       "0"
      ]
     },
     "execution_count": 155,
     "metadata": {},
     "output_type": "execute_result"
    }
   ],
   "source": [
    "df['quantity'].isna().sum()"
   ]
  },
  {
   "cell_type": "code",
   "execution_count": 156,
   "id": "33163cce",
   "metadata": {},
   "outputs": [
    {
     "data": {
      "text/plain": [
       "0"
      ]
     },
     "execution_count": 156,
     "metadata": {},
     "output_type": "execute_result"
    }
   ],
   "source": [
    "df['quantity'].isna().sum()"
   ]
  },
  {
   "cell_type": "code",
   "execution_count": 157,
   "id": "b80ba41a",
   "metadata": {},
   "outputs": [
    {
     "data": {
      "text/plain": [
       "0        True\n",
       "1       False\n",
       "2       False\n",
       "3        True\n",
       "4       False\n",
       "        ...  \n",
       "4617    False\n",
       "4618    False\n",
       "4619    False\n",
       "4620    False\n",
       "4621    False\n",
       "Name: choice_description, Length: 4622, dtype: bool"
      ]
     },
     "execution_count": 157,
     "metadata": {},
     "output_type": "execute_result"
    }
   ],
   "source": [
    "df['choice_description'].isna()"
   ]
  },
  {
   "cell_type": "code",
   "execution_count": 158,
   "id": "70eb9738",
   "metadata": {},
   "outputs": [
    {
     "data": {
      "text/plain": [
       "1246"
      ]
     },
     "execution_count": 158,
     "metadata": {},
     "output_type": "execute_result"
    }
   ],
   "source": [
    "df['choice_description'].isna().sum()"
   ]
  },
  {
   "cell_type": "code",
   "execution_count": 159,
   "id": "dcf41ceb",
   "metadata": {},
   "outputs": [
    {
     "data": {
      "text/plain": [
       "[Diet Coke]                                                                                                                                      134\n",
       "[Coke]                                                                                                                                           123\n",
       "[Sprite]                                                                                                                                          77\n",
       "[Fresh Tomato Salsa, [Rice, Black Beans, Cheese, Sour Cream, Lettuce]]                                                                            42\n",
       "[Fresh Tomato Salsa, [Rice, Black Beans, Cheese, Sour Cream, Guacamole, Lettuce]]                                                                 40\n",
       "                                                                                                                                                ... \n",
       "[Fresh Tomato Salsa (Mild), [Pinto Beans, Black Beans, Rice, Cheese, Sour Cream, Lettuce]]                                                         1\n",
       "[[Fresh Tomato Salsa (Mild), Roasted Chili Corn Salsa (Medium), Tomatillo-Red Chili Salsa (Hot)], [Pinto Beans, Cheese, Sour Cream, Lettuce]]      1\n",
       "[Fresh Tomato (Mild), [Guacamole, Rice, Black Beans]]                                                                                              1\n",
       "[[Tomatillo-Green Chili Salsa (Medium), Tomatillo-Red Chili Salsa (Hot)], [Black Beans, Rice, Cheese, Lettuce]]                                    1\n",
       "[Tomatillo Green Chili Salsa, [Rice, Fajita Vegetables, Black Beans, Guacamole]]                                                                   1\n",
       "Name: choice_description, Length: 1043, dtype: int64"
      ]
     },
     "execution_count": 159,
     "metadata": {},
     "output_type": "execute_result"
    }
   ],
   "source": [
    "df['choice_description'].value_counts()"
   ]
  },
  {
   "cell_type": "code",
   "execution_count": 160,
   "id": "184787c9",
   "metadata": {},
   "outputs": [],
   "source": [
    "choice_mode=df['choice_description'].mode().sum()"
   ]
  },
  {
   "cell_type": "code",
   "execution_count": 161,
   "id": "d765ca97",
   "metadata": {},
   "outputs": [
    {
     "data": {
      "text/html": [
       "<div>\n",
       "<style scoped>\n",
       "    .dataframe tbody tr th:only-of-type {\n",
       "        vertical-align: middle;\n",
       "    }\n",
       "\n",
       "    .dataframe tbody tr th {\n",
       "        vertical-align: top;\n",
       "    }\n",
       "\n",
       "    .dataframe thead th {\n",
       "        text-align: right;\n",
       "    }\n",
       "</style>\n",
       "<table border=\"1\" class=\"dataframe\">\n",
       "  <thead>\n",
       "    <tr style=\"text-align: right;\">\n",
       "      <th></th>\n",
       "      <th>order_id</th>\n",
       "      <th>quantity</th>\n",
       "      <th>item_name</th>\n",
       "      <th>choice_description</th>\n",
       "      <th>item_price</th>\n",
       "    </tr>\n",
       "  </thead>\n",
       "  <tbody>\n",
       "    <tr>\n",
       "      <th>0</th>\n",
       "      <td>1</td>\n",
       "      <td>1</td>\n",
       "      <td>Chips and Fresh Tomato Salsa</td>\n",
       "      <td>NaN</td>\n",
       "      <td>$2.39</td>\n",
       "    </tr>\n",
       "    <tr>\n",
       "      <th>1</th>\n",
       "      <td>1</td>\n",
       "      <td>1</td>\n",
       "      <td>Izze</td>\n",
       "      <td>[Clementine]</td>\n",
       "      <td>$3.39</td>\n",
       "    </tr>\n",
       "    <tr>\n",
       "      <th>2</th>\n",
       "      <td>1</td>\n",
       "      <td>1</td>\n",
       "      <td>Nantucket Nectar</td>\n",
       "      <td>[Apple]</td>\n",
       "      <td>$3.39</td>\n",
       "    </tr>\n",
       "    <tr>\n",
       "      <th>3</th>\n",
       "      <td>1</td>\n",
       "      <td>1</td>\n",
       "      <td>Chips and Tomatillo-Green Chili Salsa</td>\n",
       "      <td>NaN</td>\n",
       "      <td>$2.39</td>\n",
       "    </tr>\n",
       "    <tr>\n",
       "      <th>4</th>\n",
       "      <td>2</td>\n",
       "      <td>2</td>\n",
       "      <td>Chicken Bowl</td>\n",
       "      <td>[Tomatillo-Red Chili Salsa (Hot), [Black Beans...</td>\n",
       "      <td>$16.98</td>\n",
       "    </tr>\n",
       "    <tr>\n",
       "      <th>...</th>\n",
       "      <td>...</td>\n",
       "      <td>...</td>\n",
       "      <td>...</td>\n",
       "      <td>...</td>\n",
       "      <td>...</td>\n",
       "    </tr>\n",
       "    <tr>\n",
       "      <th>4617</th>\n",
       "      <td>1833</td>\n",
       "      <td>1</td>\n",
       "      <td>Steak Burrito</td>\n",
       "      <td>[Fresh Tomato Salsa, [Rice, Black Beans, Sour ...</td>\n",
       "      <td>$11.75</td>\n",
       "    </tr>\n",
       "    <tr>\n",
       "      <th>4618</th>\n",
       "      <td>1833</td>\n",
       "      <td>1</td>\n",
       "      <td>Steak Burrito</td>\n",
       "      <td>[Fresh Tomato Salsa, [Rice, Sour Cream, Cheese...</td>\n",
       "      <td>$11.75</td>\n",
       "    </tr>\n",
       "    <tr>\n",
       "      <th>4619</th>\n",
       "      <td>1834</td>\n",
       "      <td>1</td>\n",
       "      <td>Chicken Salad Bowl</td>\n",
       "      <td>[Fresh Tomato Salsa, [Fajita Vegetables, Pinto...</td>\n",
       "      <td>$11.25</td>\n",
       "    </tr>\n",
       "    <tr>\n",
       "      <th>4620</th>\n",
       "      <td>1834</td>\n",
       "      <td>1</td>\n",
       "      <td>Chicken Salad Bowl</td>\n",
       "      <td>[Fresh Tomato Salsa, [Fajita Vegetables, Lettu...</td>\n",
       "      <td>$8.75</td>\n",
       "    </tr>\n",
       "    <tr>\n",
       "      <th>4621</th>\n",
       "      <td>1834</td>\n",
       "      <td>1</td>\n",
       "      <td>Chicken Salad Bowl</td>\n",
       "      <td>[Fresh Tomato Salsa, [Fajita Vegetables, Pinto...</td>\n",
       "      <td>$8.75</td>\n",
       "    </tr>\n",
       "  </tbody>\n",
       "</table>\n",
       "<p>4622 rows × 5 columns</p>\n",
       "</div>"
      ],
      "text/plain": [
       "      order_id  quantity                              item_name  \\\n",
       "0            1         1           Chips and Fresh Tomato Salsa   \n",
       "1            1         1                                   Izze   \n",
       "2            1         1                       Nantucket Nectar   \n",
       "3            1         1  Chips and Tomatillo-Green Chili Salsa   \n",
       "4            2         2                           Chicken Bowl   \n",
       "...        ...       ...                                    ...   \n",
       "4617      1833         1                          Steak Burrito   \n",
       "4618      1833         1                          Steak Burrito   \n",
       "4619      1834         1                     Chicken Salad Bowl   \n",
       "4620      1834         1                     Chicken Salad Bowl   \n",
       "4621      1834         1                     Chicken Salad Bowl   \n",
       "\n",
       "                                     choice_description item_price  \n",
       "0                                                   NaN     $2.39   \n",
       "1                                          [Clementine]     $3.39   \n",
       "2                                               [Apple]     $3.39   \n",
       "3                                                   NaN     $2.39   \n",
       "4     [Tomatillo-Red Chili Salsa (Hot), [Black Beans...    $16.98   \n",
       "...                                                 ...        ...  \n",
       "4617  [Fresh Tomato Salsa, [Rice, Black Beans, Sour ...    $11.75   \n",
       "4618  [Fresh Tomato Salsa, [Rice, Sour Cream, Cheese...    $11.75   \n",
       "4619  [Fresh Tomato Salsa, [Fajita Vegetables, Pinto...    $11.25   \n",
       "4620  [Fresh Tomato Salsa, [Fajita Vegetables, Lettu...     $8.75   \n",
       "4621  [Fresh Tomato Salsa, [Fajita Vegetables, Pinto...     $8.75   \n",
       "\n",
       "[4622 rows x 5 columns]"
      ]
     },
     "execution_count": 161,
     "metadata": {},
     "output_type": "execute_result"
    }
   ],
   "source": [
    "df"
   ]
  },
  {
   "cell_type": "code",
   "execution_count": 162,
   "id": "8b732caf",
   "metadata": {},
   "outputs": [],
   "source": [
    "df['choice_description'].fillna((choice_mode),inplace = True)"
   ]
  },
  {
   "cell_type": "code",
   "execution_count": 163,
   "id": "f3934833",
   "metadata": {},
   "outputs": [
    {
     "data": {
      "text/plain": [
       "0                                             [Diet Coke]\n",
       "1                                            [Clementine]\n",
       "2                                                 [Apple]\n",
       "3                                             [Diet Coke]\n",
       "4       [Tomatillo-Red Chili Salsa (Hot), [Black Beans...\n",
       "                              ...                        \n",
       "4617    [Fresh Tomato Salsa, [Rice, Black Beans, Sour ...\n",
       "4618    [Fresh Tomato Salsa, [Rice, Sour Cream, Cheese...\n",
       "4619    [Fresh Tomato Salsa, [Fajita Vegetables, Pinto...\n",
       "4620    [Fresh Tomato Salsa, [Fajita Vegetables, Lettu...\n",
       "4621    [Fresh Tomato Salsa, [Fajita Vegetables, Pinto...\n",
       "Name: choice_description, Length: 4622, dtype: object"
      ]
     },
     "execution_count": 163,
     "metadata": {},
     "output_type": "execute_result"
    }
   ],
   "source": [
    "df.choice_description"
   ]
  },
  {
   "cell_type": "code",
   "execution_count": 164,
   "id": "6b5d6824",
   "metadata": {},
   "outputs": [
    {
     "data": {
      "text/plain": [
       "0                                             [Diet Coke]\n",
       "1                                            [Clementine]\n",
       "2                                                 [Apple]\n",
       "3                                             [Diet Coke]\n",
       "4       [Tomatillo-Red Chili Salsa (Hot), [Black Beans...\n",
       "                              ...                        \n",
       "4617    [Fresh Tomato Salsa, [Rice, Black Beans, Sour ...\n",
       "4618    [Fresh Tomato Salsa, [Rice, Sour Cream, Cheese...\n",
       "4619    [Fresh Tomato Salsa, [Fajita Vegetables, Pinto...\n",
       "4620    [Fresh Tomato Salsa, [Fajita Vegetables, Lettu...\n",
       "4621    [Fresh Tomato Salsa, [Fajita Vegetables, Pinto...\n",
       "Name: choice_description, Length: 4622, dtype: object"
      ]
     },
     "execution_count": 164,
     "metadata": {},
     "output_type": "execute_result"
    }
   ],
   "source": [
    "df.choice_description"
   ]
  },
  {
   "cell_type": "code",
   "execution_count": 165,
   "id": "1964c2f3",
   "metadata": {},
   "outputs": [
    {
     "data": {
      "text/plain": [
       "0"
      ]
     },
     "execution_count": 165,
     "metadata": {},
     "output_type": "execute_result"
    }
   ],
   "source": [
    "df['choice_description'].isnull().sum()"
   ]
  },
  {
   "cell_type": "code",
   "execution_count": 166,
   "id": "9719c4df",
   "metadata": {},
   "outputs": [
    {
     "data": {
      "text/html": [
       "<div>\n",
       "<style scoped>\n",
       "    .dataframe tbody tr th:only-of-type {\n",
       "        vertical-align: middle;\n",
       "    }\n",
       "\n",
       "    .dataframe tbody tr th {\n",
       "        vertical-align: top;\n",
       "    }\n",
       "\n",
       "    .dataframe thead th {\n",
       "        text-align: right;\n",
       "    }\n",
       "</style>\n",
       "<table border=\"1\" class=\"dataframe\">\n",
       "  <thead>\n",
       "    <tr style=\"text-align: right;\">\n",
       "      <th></th>\n",
       "      <th>order_id</th>\n",
       "      <th>quantity</th>\n",
       "      <th>item_name</th>\n",
       "      <th>choice_description</th>\n",
       "      <th>item_price</th>\n",
       "    </tr>\n",
       "  </thead>\n",
       "  <tbody>\n",
       "    <tr>\n",
       "      <th>0</th>\n",
       "      <td>1</td>\n",
       "      <td>1</td>\n",
       "      <td>Chips and Fresh Tomato Salsa</td>\n",
       "      <td>[Diet Coke]</td>\n",
       "      <td>$2.39</td>\n",
       "    </tr>\n",
       "    <tr>\n",
       "      <th>1</th>\n",
       "      <td>1</td>\n",
       "      <td>1</td>\n",
       "      <td>Izze</td>\n",
       "      <td>[Clementine]</td>\n",
       "      <td>$3.39</td>\n",
       "    </tr>\n",
       "    <tr>\n",
       "      <th>2</th>\n",
       "      <td>1</td>\n",
       "      <td>1</td>\n",
       "      <td>Nantucket Nectar</td>\n",
       "      <td>[Apple]</td>\n",
       "      <td>$3.39</td>\n",
       "    </tr>\n",
       "    <tr>\n",
       "      <th>3</th>\n",
       "      <td>1</td>\n",
       "      <td>1</td>\n",
       "      <td>Chips and Tomatillo-Green Chili Salsa</td>\n",
       "      <td>[Diet Coke]</td>\n",
       "      <td>$2.39</td>\n",
       "    </tr>\n",
       "    <tr>\n",
       "      <th>4</th>\n",
       "      <td>2</td>\n",
       "      <td>2</td>\n",
       "      <td>Chicken Bowl</td>\n",
       "      <td>[Tomatillo-Red Chili Salsa (Hot), [Black Beans...</td>\n",
       "      <td>$16.98</td>\n",
       "    </tr>\n",
       "    <tr>\n",
       "      <th>5</th>\n",
       "      <td>3</td>\n",
       "      <td>1</td>\n",
       "      <td>Chicken Bowl</td>\n",
       "      <td>[Fresh Tomato Salsa (Mild), [Rice, Cheese, Sou...</td>\n",
       "      <td>$10.98</td>\n",
       "    </tr>\n",
       "    <tr>\n",
       "      <th>6</th>\n",
       "      <td>3</td>\n",
       "      <td>1</td>\n",
       "      <td>Side of Chips</td>\n",
       "      <td>[Diet Coke]</td>\n",
       "      <td>$1.69</td>\n",
       "    </tr>\n",
       "    <tr>\n",
       "      <th>7</th>\n",
       "      <td>4</td>\n",
       "      <td>1</td>\n",
       "      <td>Steak Burrito</td>\n",
       "      <td>[Tomatillo Red Chili Salsa, [Fajita Vegetables...</td>\n",
       "      <td>$11.75</td>\n",
       "    </tr>\n",
       "    <tr>\n",
       "      <th>8</th>\n",
       "      <td>4</td>\n",
       "      <td>1</td>\n",
       "      <td>Steak Soft Tacos</td>\n",
       "      <td>[Tomatillo Green Chili Salsa, [Pinto Beans, Ch...</td>\n",
       "      <td>$9.25</td>\n",
       "    </tr>\n",
       "    <tr>\n",
       "      <th>9</th>\n",
       "      <td>5</td>\n",
       "      <td>1</td>\n",
       "      <td>Steak Burrito</td>\n",
       "      <td>[Fresh Tomato Salsa, [Rice, Black Beans, Pinto...</td>\n",
       "      <td>$9.25</td>\n",
       "    </tr>\n",
       "    <tr>\n",
       "      <th>10</th>\n",
       "      <td>5</td>\n",
       "      <td>1</td>\n",
       "      <td>Chips and Guacamole</td>\n",
       "      <td>[Diet Coke]</td>\n",
       "      <td>$4.45</td>\n",
       "    </tr>\n",
       "    <tr>\n",
       "      <th>11</th>\n",
       "      <td>6</td>\n",
       "      <td>1</td>\n",
       "      <td>Chicken Crispy Tacos</td>\n",
       "      <td>[Roasted Chili Corn Salsa, [Fajita Vegetables,...</td>\n",
       "      <td>$8.75</td>\n",
       "    </tr>\n",
       "    <tr>\n",
       "      <th>12</th>\n",
       "      <td>6</td>\n",
       "      <td>1</td>\n",
       "      <td>Chicken Soft Tacos</td>\n",
       "      <td>[Roasted Chili Corn Salsa, [Rice, Black Beans,...</td>\n",
       "      <td>$8.75</td>\n",
       "    </tr>\n",
       "    <tr>\n",
       "      <th>13</th>\n",
       "      <td>7</td>\n",
       "      <td>1</td>\n",
       "      <td>Chicken Bowl</td>\n",
       "      <td>[Fresh Tomato Salsa, [Fajita Vegetables, Rice,...</td>\n",
       "      <td>$11.25</td>\n",
       "    </tr>\n",
       "    <tr>\n",
       "      <th>14</th>\n",
       "      <td>7</td>\n",
       "      <td>1</td>\n",
       "      <td>Chips and Guacamole</td>\n",
       "      <td>[Diet Coke]</td>\n",
       "      <td>$4.45</td>\n",
       "    </tr>\n",
       "    <tr>\n",
       "      <th>15</th>\n",
       "      <td>8</td>\n",
       "      <td>1</td>\n",
       "      <td>Chips and Tomatillo-Green Chili Salsa</td>\n",
       "      <td>[Diet Coke]</td>\n",
       "      <td>$2.39</td>\n",
       "    </tr>\n",
       "    <tr>\n",
       "      <th>16</th>\n",
       "      <td>8</td>\n",
       "      <td>1</td>\n",
       "      <td>Chicken Burrito</td>\n",
       "      <td>[Tomatillo-Green Chili Salsa (Medium), [Pinto ...</td>\n",
       "      <td>$8.49</td>\n",
       "    </tr>\n",
       "    <tr>\n",
       "      <th>17</th>\n",
       "      <td>9</td>\n",
       "      <td>1</td>\n",
       "      <td>Chicken Burrito</td>\n",
       "      <td>[Fresh Tomato Salsa (Mild), [Black Beans, Rice...</td>\n",
       "      <td>$8.49</td>\n",
       "    </tr>\n",
       "    <tr>\n",
       "      <th>18</th>\n",
       "      <td>9</td>\n",
       "      <td>2</td>\n",
       "      <td>Canned Soda</td>\n",
       "      <td>[Sprite]</td>\n",
       "      <td>$2.18</td>\n",
       "    </tr>\n",
       "    <tr>\n",
       "      <th>19</th>\n",
       "      <td>10</td>\n",
       "      <td>1</td>\n",
       "      <td>Chicken Bowl</td>\n",
       "      <td>[Tomatillo Red Chili Salsa, [Fajita Vegetables...</td>\n",
       "      <td>$8.75</td>\n",
       "    </tr>\n",
       "  </tbody>\n",
       "</table>\n",
       "</div>"
      ],
      "text/plain": [
       "    order_id  quantity                              item_name  \\\n",
       "0          1         1           Chips and Fresh Tomato Salsa   \n",
       "1          1         1                                   Izze   \n",
       "2          1         1                       Nantucket Nectar   \n",
       "3          1         1  Chips and Tomatillo-Green Chili Salsa   \n",
       "4          2         2                           Chicken Bowl   \n",
       "5          3         1                           Chicken Bowl   \n",
       "6          3         1                          Side of Chips   \n",
       "7          4         1                          Steak Burrito   \n",
       "8          4         1                       Steak Soft Tacos   \n",
       "9          5         1                          Steak Burrito   \n",
       "10         5         1                    Chips and Guacamole   \n",
       "11         6         1                   Chicken Crispy Tacos   \n",
       "12         6         1                     Chicken Soft Tacos   \n",
       "13         7         1                           Chicken Bowl   \n",
       "14         7         1                    Chips and Guacamole   \n",
       "15         8         1  Chips and Tomatillo-Green Chili Salsa   \n",
       "16         8         1                        Chicken Burrito   \n",
       "17         9         1                        Chicken Burrito   \n",
       "18         9         2                            Canned Soda   \n",
       "19        10         1                           Chicken Bowl   \n",
       "\n",
       "                                   choice_description item_price  \n",
       "0                                         [Diet Coke]     $2.39   \n",
       "1                                        [Clementine]     $3.39   \n",
       "2                                             [Apple]     $3.39   \n",
       "3                                         [Diet Coke]     $2.39   \n",
       "4   [Tomatillo-Red Chili Salsa (Hot), [Black Beans...    $16.98   \n",
       "5   [Fresh Tomato Salsa (Mild), [Rice, Cheese, Sou...    $10.98   \n",
       "6                                         [Diet Coke]     $1.69   \n",
       "7   [Tomatillo Red Chili Salsa, [Fajita Vegetables...    $11.75   \n",
       "8   [Tomatillo Green Chili Salsa, [Pinto Beans, Ch...     $9.25   \n",
       "9   [Fresh Tomato Salsa, [Rice, Black Beans, Pinto...     $9.25   \n",
       "10                                        [Diet Coke]     $4.45   \n",
       "11  [Roasted Chili Corn Salsa, [Fajita Vegetables,...     $8.75   \n",
       "12  [Roasted Chili Corn Salsa, [Rice, Black Beans,...     $8.75   \n",
       "13  [Fresh Tomato Salsa, [Fajita Vegetables, Rice,...    $11.25   \n",
       "14                                        [Diet Coke]     $4.45   \n",
       "15                                        [Diet Coke]     $2.39   \n",
       "16  [Tomatillo-Green Chili Salsa (Medium), [Pinto ...     $8.49   \n",
       "17  [Fresh Tomato Salsa (Mild), [Black Beans, Rice...     $8.49   \n",
       "18                                           [Sprite]     $2.18   \n",
       "19  [Tomatillo Red Chili Salsa, [Fajita Vegetables...     $8.75   "
      ]
     },
     "execution_count": 166,
     "metadata": {},
     "output_type": "execute_result"
    }
   ],
   "source": [
    "df.head(20)"
   ]
  },
  {
   "cell_type": "code",
   "execution_count": 167,
   "id": "0a8361a5",
   "metadata": {},
   "outputs": [
    {
     "data": {
      "text/plain": [
       "0"
      ]
     },
     "execution_count": 167,
     "metadata": {},
     "output_type": "execute_result"
    }
   ],
   "source": [
    "df[\"item_price\"].isna().sum()"
   ]
  },
  {
   "cell_type": "code",
   "execution_count": 168,
   "id": "ffb46689",
   "metadata": {},
   "outputs": [
    {
     "data": {
      "text/plain": [
       "0"
      ]
     },
     "execution_count": 168,
     "metadata": {},
     "output_type": "execute_result"
    }
   ],
   "source": [
    "df['item_name'].isna().sum()"
   ]
  },
  {
   "cell_type": "code",
   "execution_count": 169,
   "id": "d47a7913",
   "metadata": {},
   "outputs": [
    {
     "data": {
      "text/plain": [
       "0"
      ]
     },
     "execution_count": 169,
     "metadata": {},
     "output_type": "execute_result"
    }
   ],
   "source": [
    "df['quantity'].isna().sum()"
   ]
  },
  {
   "cell_type": "code",
   "execution_count": 170,
   "id": "5fa6e117",
   "metadata": {},
   "outputs": [
    {
     "data": {
      "text/plain": [
       "4572"
      ]
     },
     "execution_count": 170,
     "metadata": {},
     "output_type": "execute_result"
    }
   ],
   "source": [
    "df['item_name'].duplicated().sum()"
   ]
  },
  {
   "cell_type": "code",
   "execution_count": 171,
   "id": "cc11f8b3",
   "metadata": {},
   "outputs": [
    {
     "name": "stdout",
     "output_type": "stream",
     "text": [
      "59\n"
     ]
    }
   ],
   "source": [
    "print(df.duplicated().sum())"
   ]
  },
  {
   "cell_type": "code",
   "execution_count": 172,
   "id": "8de02a40",
   "metadata": {},
   "outputs": [],
   "source": [
    "df.drop_duplicates(inplace = True) "
   ]
  },
  {
   "cell_type": "code",
   "execution_count": 173,
   "id": "93e09a0b",
   "metadata": {},
   "outputs": [
    {
     "data": {
      "text/html": [
       "<div>\n",
       "<style scoped>\n",
       "    .dataframe tbody tr th:only-of-type {\n",
       "        vertical-align: middle;\n",
       "    }\n",
       "\n",
       "    .dataframe tbody tr th {\n",
       "        vertical-align: top;\n",
       "    }\n",
       "\n",
       "    .dataframe thead th {\n",
       "        text-align: right;\n",
       "    }\n",
       "</style>\n",
       "<table border=\"1\" class=\"dataframe\">\n",
       "  <thead>\n",
       "    <tr style=\"text-align: right;\">\n",
       "      <th></th>\n",
       "      <th>order_id</th>\n",
       "      <th>quantity</th>\n",
       "      <th>item_name</th>\n",
       "      <th>choice_description</th>\n",
       "      <th>item_price</th>\n",
       "    </tr>\n",
       "  </thead>\n",
       "  <tbody>\n",
       "    <tr>\n",
       "      <th>0</th>\n",
       "      <td>1</td>\n",
       "      <td>1</td>\n",
       "      <td>Chips and Fresh Tomato Salsa</td>\n",
       "      <td>[Diet Coke]</td>\n",
       "      <td>$2.39</td>\n",
       "    </tr>\n",
       "    <tr>\n",
       "      <th>1</th>\n",
       "      <td>1</td>\n",
       "      <td>1</td>\n",
       "      <td>Izze</td>\n",
       "      <td>[Clementine]</td>\n",
       "      <td>$3.39</td>\n",
       "    </tr>\n",
       "    <tr>\n",
       "      <th>2</th>\n",
       "      <td>1</td>\n",
       "      <td>1</td>\n",
       "      <td>Nantucket Nectar</td>\n",
       "      <td>[Apple]</td>\n",
       "      <td>$3.39</td>\n",
       "    </tr>\n",
       "    <tr>\n",
       "      <th>3</th>\n",
       "      <td>1</td>\n",
       "      <td>1</td>\n",
       "      <td>Chips and Tomatillo-Green Chili Salsa</td>\n",
       "      <td>[Diet Coke]</td>\n",
       "      <td>$2.39</td>\n",
       "    </tr>\n",
       "    <tr>\n",
       "      <th>4</th>\n",
       "      <td>2</td>\n",
       "      <td>2</td>\n",
       "      <td>Chicken Bowl</td>\n",
       "      <td>[Tomatillo-Red Chili Salsa (Hot), [Black Beans...</td>\n",
       "      <td>$16.98</td>\n",
       "    </tr>\n",
       "    <tr>\n",
       "      <th>...</th>\n",
       "      <td>...</td>\n",
       "      <td>...</td>\n",
       "      <td>...</td>\n",
       "      <td>...</td>\n",
       "      <td>...</td>\n",
       "    </tr>\n",
       "    <tr>\n",
       "      <th>4617</th>\n",
       "      <td>1833</td>\n",
       "      <td>1</td>\n",
       "      <td>Steak Burrito</td>\n",
       "      <td>[Fresh Tomato Salsa, [Rice, Black Beans, Sour ...</td>\n",
       "      <td>$11.75</td>\n",
       "    </tr>\n",
       "    <tr>\n",
       "      <th>4618</th>\n",
       "      <td>1833</td>\n",
       "      <td>1</td>\n",
       "      <td>Steak Burrito</td>\n",
       "      <td>[Fresh Tomato Salsa, [Rice, Sour Cream, Cheese...</td>\n",
       "      <td>$11.75</td>\n",
       "    </tr>\n",
       "    <tr>\n",
       "      <th>4619</th>\n",
       "      <td>1834</td>\n",
       "      <td>1</td>\n",
       "      <td>Chicken Salad Bowl</td>\n",
       "      <td>[Fresh Tomato Salsa, [Fajita Vegetables, Pinto...</td>\n",
       "      <td>$11.25</td>\n",
       "    </tr>\n",
       "    <tr>\n",
       "      <th>4620</th>\n",
       "      <td>1834</td>\n",
       "      <td>1</td>\n",
       "      <td>Chicken Salad Bowl</td>\n",
       "      <td>[Fresh Tomato Salsa, [Fajita Vegetables, Lettu...</td>\n",
       "      <td>$8.75</td>\n",
       "    </tr>\n",
       "    <tr>\n",
       "      <th>4621</th>\n",
       "      <td>1834</td>\n",
       "      <td>1</td>\n",
       "      <td>Chicken Salad Bowl</td>\n",
       "      <td>[Fresh Tomato Salsa, [Fajita Vegetables, Pinto...</td>\n",
       "      <td>$8.75</td>\n",
       "    </tr>\n",
       "  </tbody>\n",
       "</table>\n",
       "<p>4563 rows × 5 columns</p>\n",
       "</div>"
      ],
      "text/plain": [
       "      order_id  quantity                              item_name  \\\n",
       "0            1         1           Chips and Fresh Tomato Salsa   \n",
       "1            1         1                                   Izze   \n",
       "2            1         1                       Nantucket Nectar   \n",
       "3            1         1  Chips and Tomatillo-Green Chili Salsa   \n",
       "4            2         2                           Chicken Bowl   \n",
       "...        ...       ...                                    ...   \n",
       "4617      1833         1                          Steak Burrito   \n",
       "4618      1833         1                          Steak Burrito   \n",
       "4619      1834         1                     Chicken Salad Bowl   \n",
       "4620      1834         1                     Chicken Salad Bowl   \n",
       "4621      1834         1                     Chicken Salad Bowl   \n",
       "\n",
       "                                     choice_description item_price  \n",
       "0                                           [Diet Coke]     $2.39   \n",
       "1                                          [Clementine]     $3.39   \n",
       "2                                               [Apple]     $3.39   \n",
       "3                                           [Diet Coke]     $2.39   \n",
       "4     [Tomatillo-Red Chili Salsa (Hot), [Black Beans...    $16.98   \n",
       "...                                                 ...        ...  \n",
       "4617  [Fresh Tomato Salsa, [Rice, Black Beans, Sour ...    $11.75   \n",
       "4618  [Fresh Tomato Salsa, [Rice, Sour Cream, Cheese...    $11.75   \n",
       "4619  [Fresh Tomato Salsa, [Fajita Vegetables, Pinto...    $11.25   \n",
       "4620  [Fresh Tomato Salsa, [Fajita Vegetables, Lettu...     $8.75   \n",
       "4621  [Fresh Tomato Salsa, [Fajita Vegetables, Pinto...     $8.75   \n",
       "\n",
       "[4563 rows x 5 columns]"
      ]
     },
     "execution_count": 173,
     "metadata": {},
     "output_type": "execute_result"
    }
   ],
   "source": [
    "df"
   ]
  },
  {
   "cell_type": "code",
   "execution_count": 174,
   "id": "4bb2162b",
   "metadata": {},
   "outputs": [
    {
     "name": "stdout",
     "output_type": "stream",
     "text": [
      "0\n"
     ]
    }
   ],
   "source": [
    "print(df.duplicated().sum())"
   ]
  },
  {
   "cell_type": "code",
   "execution_count": 175,
   "id": "75f92a95",
   "metadata": {},
   "outputs": [],
   "source": [
    "df['choice_description'] = df['choice_description'].str.replace('[', '', regex=True)\n",
    "df['choice_description'] = df['choice_description'].str.replace(']', '', regex=True)\n",
    "df['choice_description'] = df['choice_description'].str.replace('(', '', regex=True)\n",
    "df['choice_description'] = df.choice_description.str.replace(\"  \", \" \")\n",
    "df['choice_description'] = df['choice_description'].str.replace(')', '', regex=True)"
   ]
  },
  {
   "cell_type": "code",
   "execution_count": 176,
   "id": "dc0d7439",
   "metadata": {},
   "outputs": [
    {
     "data": {
      "text/html": [
       "<div>\n",
       "<style scoped>\n",
       "    .dataframe tbody tr th:only-of-type {\n",
       "        vertical-align: middle;\n",
       "    }\n",
       "\n",
       "    .dataframe tbody tr th {\n",
       "        vertical-align: top;\n",
       "    }\n",
       "\n",
       "    .dataframe thead th {\n",
       "        text-align: right;\n",
       "    }\n",
       "</style>\n",
       "<table border=\"1\" class=\"dataframe\">\n",
       "  <thead>\n",
       "    <tr style=\"text-align: right;\">\n",
       "      <th></th>\n",
       "      <th>order_id</th>\n",
       "      <th>quantity</th>\n",
       "      <th>item_name</th>\n",
       "      <th>choice_description</th>\n",
       "      <th>item_price</th>\n",
       "    </tr>\n",
       "  </thead>\n",
       "  <tbody>\n",
       "    <tr>\n",
       "      <th>0</th>\n",
       "      <td>1</td>\n",
       "      <td>1</td>\n",
       "      <td>Chips and Fresh Tomato Salsa</td>\n",
       "      <td>Diet Coke</td>\n",
       "      <td>$2.39</td>\n",
       "    </tr>\n",
       "    <tr>\n",
       "      <th>1</th>\n",
       "      <td>1</td>\n",
       "      <td>1</td>\n",
       "      <td>Izze</td>\n",
       "      <td>Clementine</td>\n",
       "      <td>$3.39</td>\n",
       "    </tr>\n",
       "    <tr>\n",
       "      <th>2</th>\n",
       "      <td>1</td>\n",
       "      <td>1</td>\n",
       "      <td>Nantucket Nectar</td>\n",
       "      <td>Apple</td>\n",
       "      <td>$3.39</td>\n",
       "    </tr>\n",
       "    <tr>\n",
       "      <th>3</th>\n",
       "      <td>1</td>\n",
       "      <td>1</td>\n",
       "      <td>Chips and Tomatillo-Green Chili Salsa</td>\n",
       "      <td>Diet Coke</td>\n",
       "      <td>$2.39</td>\n",
       "    </tr>\n",
       "    <tr>\n",
       "      <th>4</th>\n",
       "      <td>2</td>\n",
       "      <td>2</td>\n",
       "      <td>Chicken Bowl</td>\n",
       "      <td>Tomatillo-Red Chili Salsa Hot, Black Beans, Ri...</td>\n",
       "      <td>$16.98</td>\n",
       "    </tr>\n",
       "    <tr>\n",
       "      <th>...</th>\n",
       "      <td>...</td>\n",
       "      <td>...</td>\n",
       "      <td>...</td>\n",
       "      <td>...</td>\n",
       "      <td>...</td>\n",
       "    </tr>\n",
       "    <tr>\n",
       "      <th>4617</th>\n",
       "      <td>1833</td>\n",
       "      <td>1</td>\n",
       "      <td>Steak Burrito</td>\n",
       "      <td>Fresh Tomato Salsa, Rice, Black Beans, Sour Cr...</td>\n",
       "      <td>$11.75</td>\n",
       "    </tr>\n",
       "    <tr>\n",
       "      <th>4618</th>\n",
       "      <td>1833</td>\n",
       "      <td>1</td>\n",
       "      <td>Steak Burrito</td>\n",
       "      <td>Fresh Tomato Salsa, Rice, Sour Cream, Cheese, ...</td>\n",
       "      <td>$11.75</td>\n",
       "    </tr>\n",
       "    <tr>\n",
       "      <th>4619</th>\n",
       "      <td>1834</td>\n",
       "      <td>1</td>\n",
       "      <td>Chicken Salad Bowl</td>\n",
       "      <td>Fresh Tomato Salsa, Fajita Vegetables, Pinto B...</td>\n",
       "      <td>$11.25</td>\n",
       "    </tr>\n",
       "    <tr>\n",
       "      <th>4620</th>\n",
       "      <td>1834</td>\n",
       "      <td>1</td>\n",
       "      <td>Chicken Salad Bowl</td>\n",
       "      <td>Fresh Tomato Salsa, Fajita Vegetables, Lettuce</td>\n",
       "      <td>$8.75</td>\n",
       "    </tr>\n",
       "    <tr>\n",
       "      <th>4621</th>\n",
       "      <td>1834</td>\n",
       "      <td>1</td>\n",
       "      <td>Chicken Salad Bowl</td>\n",
       "      <td>Fresh Tomato Salsa, Fajita Vegetables, Pinto B...</td>\n",
       "      <td>$8.75</td>\n",
       "    </tr>\n",
       "  </tbody>\n",
       "</table>\n",
       "<p>4563 rows × 5 columns</p>\n",
       "</div>"
      ],
      "text/plain": [
       "      order_id  quantity                              item_name  \\\n",
       "0            1         1           Chips and Fresh Tomato Salsa   \n",
       "1            1         1                                   Izze   \n",
       "2            1         1                       Nantucket Nectar   \n",
       "3            1         1  Chips and Tomatillo-Green Chili Salsa   \n",
       "4            2         2                           Chicken Bowl   \n",
       "...        ...       ...                                    ...   \n",
       "4617      1833         1                          Steak Burrito   \n",
       "4618      1833         1                          Steak Burrito   \n",
       "4619      1834         1                     Chicken Salad Bowl   \n",
       "4620      1834         1                     Chicken Salad Bowl   \n",
       "4621      1834         1                     Chicken Salad Bowl   \n",
       "\n",
       "                                     choice_description item_price  \n",
       "0                                             Diet Coke     $2.39   \n",
       "1                                            Clementine     $3.39   \n",
       "2                                                 Apple     $3.39   \n",
       "3                                             Diet Coke     $2.39   \n",
       "4     Tomatillo-Red Chili Salsa Hot, Black Beans, Ri...    $16.98   \n",
       "...                                                 ...        ...  \n",
       "4617  Fresh Tomato Salsa, Rice, Black Beans, Sour Cr...    $11.75   \n",
       "4618  Fresh Tomato Salsa, Rice, Sour Cream, Cheese, ...    $11.75   \n",
       "4619  Fresh Tomato Salsa, Fajita Vegetables, Pinto B...    $11.25   \n",
       "4620     Fresh Tomato Salsa, Fajita Vegetables, Lettuce     $8.75   \n",
       "4621  Fresh Tomato Salsa, Fajita Vegetables, Pinto B...     $8.75   \n",
       "\n",
       "[4563 rows x 5 columns]"
      ]
     },
     "execution_count": 176,
     "metadata": {},
     "output_type": "execute_result"
    }
   ],
   "source": [
    "df"
   ]
  },
  {
   "cell_type": "code",
   "execution_count": 177,
   "id": "2d8ebe2a",
   "metadata": {},
   "outputs": [],
   "source": [
    "df['item_price'] = df['item_price'].replace({'\\$': ''}, regex=True)"
   ]
  },
  {
   "cell_type": "code",
   "execution_count": 178,
   "id": "aee2c12a",
   "metadata": {},
   "outputs": [
    {
     "data": {
      "text/html": [
       "<div>\n",
       "<style scoped>\n",
       "    .dataframe tbody tr th:only-of-type {\n",
       "        vertical-align: middle;\n",
       "    }\n",
       "\n",
       "    .dataframe tbody tr th {\n",
       "        vertical-align: top;\n",
       "    }\n",
       "\n",
       "    .dataframe thead th {\n",
       "        text-align: right;\n",
       "    }\n",
       "</style>\n",
       "<table border=\"1\" class=\"dataframe\">\n",
       "  <thead>\n",
       "    <tr style=\"text-align: right;\">\n",
       "      <th></th>\n",
       "      <th>order_id</th>\n",
       "      <th>quantity</th>\n",
       "      <th>item_name</th>\n",
       "      <th>choice_description</th>\n",
       "      <th>item_price</th>\n",
       "    </tr>\n",
       "  </thead>\n",
       "  <tbody>\n",
       "    <tr>\n",
       "      <th>0</th>\n",
       "      <td>1</td>\n",
       "      <td>1</td>\n",
       "      <td>Chips and Fresh Tomato Salsa</td>\n",
       "      <td>Diet Coke</td>\n",
       "      <td>2.39</td>\n",
       "    </tr>\n",
       "    <tr>\n",
       "      <th>1</th>\n",
       "      <td>1</td>\n",
       "      <td>1</td>\n",
       "      <td>Izze</td>\n",
       "      <td>Clementine</td>\n",
       "      <td>3.39</td>\n",
       "    </tr>\n",
       "    <tr>\n",
       "      <th>2</th>\n",
       "      <td>1</td>\n",
       "      <td>1</td>\n",
       "      <td>Nantucket Nectar</td>\n",
       "      <td>Apple</td>\n",
       "      <td>3.39</td>\n",
       "    </tr>\n",
       "    <tr>\n",
       "      <th>3</th>\n",
       "      <td>1</td>\n",
       "      <td>1</td>\n",
       "      <td>Chips and Tomatillo-Green Chili Salsa</td>\n",
       "      <td>Diet Coke</td>\n",
       "      <td>2.39</td>\n",
       "    </tr>\n",
       "    <tr>\n",
       "      <th>4</th>\n",
       "      <td>2</td>\n",
       "      <td>2</td>\n",
       "      <td>Chicken Bowl</td>\n",
       "      <td>Tomatillo-Red Chili Salsa Hot, Black Beans, Ri...</td>\n",
       "      <td>16.98</td>\n",
       "    </tr>\n",
       "    <tr>\n",
       "      <th>...</th>\n",
       "      <td>...</td>\n",
       "      <td>...</td>\n",
       "      <td>...</td>\n",
       "      <td>...</td>\n",
       "      <td>...</td>\n",
       "    </tr>\n",
       "    <tr>\n",
       "      <th>4617</th>\n",
       "      <td>1833</td>\n",
       "      <td>1</td>\n",
       "      <td>Steak Burrito</td>\n",
       "      <td>Fresh Tomato Salsa, Rice, Black Beans, Sour Cr...</td>\n",
       "      <td>11.75</td>\n",
       "    </tr>\n",
       "    <tr>\n",
       "      <th>4618</th>\n",
       "      <td>1833</td>\n",
       "      <td>1</td>\n",
       "      <td>Steak Burrito</td>\n",
       "      <td>Fresh Tomato Salsa, Rice, Sour Cream, Cheese, ...</td>\n",
       "      <td>11.75</td>\n",
       "    </tr>\n",
       "    <tr>\n",
       "      <th>4619</th>\n",
       "      <td>1834</td>\n",
       "      <td>1</td>\n",
       "      <td>Chicken Salad Bowl</td>\n",
       "      <td>Fresh Tomato Salsa, Fajita Vegetables, Pinto B...</td>\n",
       "      <td>11.25</td>\n",
       "    </tr>\n",
       "    <tr>\n",
       "      <th>4620</th>\n",
       "      <td>1834</td>\n",
       "      <td>1</td>\n",
       "      <td>Chicken Salad Bowl</td>\n",
       "      <td>Fresh Tomato Salsa, Fajita Vegetables, Lettuce</td>\n",
       "      <td>8.75</td>\n",
       "    </tr>\n",
       "    <tr>\n",
       "      <th>4621</th>\n",
       "      <td>1834</td>\n",
       "      <td>1</td>\n",
       "      <td>Chicken Salad Bowl</td>\n",
       "      <td>Fresh Tomato Salsa, Fajita Vegetables, Pinto B...</td>\n",
       "      <td>8.75</td>\n",
       "    </tr>\n",
       "  </tbody>\n",
       "</table>\n",
       "<p>4563 rows × 5 columns</p>\n",
       "</div>"
      ],
      "text/plain": [
       "      order_id  quantity                              item_name  \\\n",
       "0            1         1           Chips and Fresh Tomato Salsa   \n",
       "1            1         1                                   Izze   \n",
       "2            1         1                       Nantucket Nectar   \n",
       "3            1         1  Chips and Tomatillo-Green Chili Salsa   \n",
       "4            2         2                           Chicken Bowl   \n",
       "...        ...       ...                                    ...   \n",
       "4617      1833         1                          Steak Burrito   \n",
       "4618      1833         1                          Steak Burrito   \n",
       "4619      1834         1                     Chicken Salad Bowl   \n",
       "4620      1834         1                     Chicken Salad Bowl   \n",
       "4621      1834         1                     Chicken Salad Bowl   \n",
       "\n",
       "                                     choice_description item_price  \n",
       "0                                             Diet Coke      2.39   \n",
       "1                                            Clementine      3.39   \n",
       "2                                                 Apple      3.39   \n",
       "3                                             Diet Coke      2.39   \n",
       "4     Tomatillo-Red Chili Salsa Hot, Black Beans, Ri...     16.98   \n",
       "...                                                 ...        ...  \n",
       "4617  Fresh Tomato Salsa, Rice, Black Beans, Sour Cr...     11.75   \n",
       "4618  Fresh Tomato Salsa, Rice, Sour Cream, Cheese, ...     11.75   \n",
       "4619  Fresh Tomato Salsa, Fajita Vegetables, Pinto B...     11.25   \n",
       "4620     Fresh Tomato Salsa, Fajita Vegetables, Lettuce      8.75   \n",
       "4621  Fresh Tomato Salsa, Fajita Vegetables, Pinto B...      8.75   \n",
       "\n",
       "[4563 rows x 5 columns]"
      ]
     },
     "execution_count": 178,
     "metadata": {},
     "output_type": "execute_result"
    }
   ],
   "source": [
    "df"
   ]
  },
  {
   "cell_type": "code",
   "execution_count": 201,
   "id": "9889e734",
   "metadata": {},
   "outputs": [
    {
     "data": {
      "text/html": [
       "<div>\n",
       "<style scoped>\n",
       "    .dataframe tbody tr th:only-of-type {\n",
       "        vertical-align: middle;\n",
       "    }\n",
       "\n",
       "    .dataframe tbody tr th {\n",
       "        vertical-align: top;\n",
       "    }\n",
       "\n",
       "    .dataframe thead th {\n",
       "        text-align: right;\n",
       "    }\n",
       "</style>\n",
       "<table border=\"1\" class=\"dataframe\">\n",
       "  <thead>\n",
       "    <tr style=\"text-align: right;\">\n",
       "      <th></th>\n",
       "      <th>order_id</th>\n",
       "      <th>quantity</th>\n",
       "    </tr>\n",
       "  </thead>\n",
       "  <tbody>\n",
       "    <tr>\n",
       "      <th>count</th>\n",
       "      <td>4563.000000</td>\n",
       "      <td>4563.000000</td>\n",
       "    </tr>\n",
       "    <tr>\n",
       "      <th>mean</th>\n",
       "      <td>927.045803</td>\n",
       "      <td>1.076704</td>\n",
       "    </tr>\n",
       "    <tr>\n",
       "      <th>std</th>\n",
       "      <td>528.936100</td>\n",
       "      <td>0.412739</td>\n",
       "    </tr>\n",
       "    <tr>\n",
       "      <th>min</th>\n",
       "      <td>1.000000</td>\n",
       "      <td>1.000000</td>\n",
       "    </tr>\n",
       "    <tr>\n",
       "      <th>25%</th>\n",
       "      <td>476.500000</td>\n",
       "      <td>1.000000</td>\n",
       "    </tr>\n",
       "    <tr>\n",
       "      <th>50%</th>\n",
       "      <td>926.000000</td>\n",
       "      <td>1.000000</td>\n",
       "    </tr>\n",
       "    <tr>\n",
       "      <th>75%</th>\n",
       "      <td>1393.000000</td>\n",
       "      <td>1.000000</td>\n",
       "    </tr>\n",
       "    <tr>\n",
       "      <th>max</th>\n",
       "      <td>1834.000000</td>\n",
       "      <td>15.000000</td>\n",
       "    </tr>\n",
       "  </tbody>\n",
       "</table>\n",
       "</div>"
      ],
      "text/plain": [
       "          order_id     quantity\n",
       "count  4563.000000  4563.000000\n",
       "mean    927.045803     1.076704\n",
       "std     528.936100     0.412739\n",
       "min       1.000000     1.000000\n",
       "25%     476.500000     1.000000\n",
       "50%     926.000000     1.000000\n",
       "75%    1393.000000     1.000000\n",
       "max    1834.000000    15.000000"
      ]
     },
     "execution_count": 201,
     "metadata": {},
     "output_type": "execute_result"
    }
   ],
   "source": [
    "df.describe()"
   ]
  },
  {
   "cell_type": "code",
   "execution_count": 204,
   "id": "ab364afd",
   "metadata": {},
   "outputs": [
    {
     "data": {
      "text/plain": [
       "order_id              0\n",
       "quantity              0\n",
       "item_name             0\n",
       "choice_description    0\n",
       "item_price            0\n",
       "dtype: int64"
      ]
     },
     "execution_count": 204,
     "metadata": {},
     "output_type": "execute_result"
    }
   ],
   "source": [
    "df.isnull().sum()"
   ]
  },
  {
   "cell_type": "code",
   "execution_count": 179,
   "id": "1fcddec1",
   "metadata": {},
   "outputs": [],
   "source": [
    "item_quantities = df.groupby('item_name')['quantity'].sum()"
   ]
  },
  {
   "cell_type": "code",
   "execution_count": 180,
   "id": "2b78b0f2",
   "metadata": {},
   "outputs": [
    {
     "data": {
      "text/plain": [
       "item_name\n",
       "6 Pack Soft Drink                         55\n",
       "Barbacoa Bowl                             65\n",
       "Barbacoa Burrito                          90\n",
       "Barbacoa Crispy Tacos                     12\n",
       "Barbacoa Salad Bowl                        9\n",
       "Barbacoa Soft Tacos                       25\n",
       "Bottled Water                            204\n",
       "Bowl                                       4\n",
       "Burrito                                    6\n",
       "Canned Soda                              124\n",
       "Canned Soft Drink                        340\n",
       "Carnitas Bowl                             71\n",
       "Carnitas Burrito                          60\n",
       "Carnitas Crispy Tacos                      8\n",
       "Carnitas Salad                             1\n",
       "Carnitas Salad Bowl                        6\n",
       "Carnitas Soft Tacos                       40\n",
       "Chicken Bowl                             752\n",
       "Chicken Burrito                          584\n",
       "Chicken Crispy Tacos                      50\n",
       "Chicken Salad                              9\n",
       "Chicken Salad Bowl                       123\n",
       "Chicken Soft Tacos                       116\n",
       "Chips                                    227\n",
       "Chips and Fresh Tomato Salsa             130\n",
       "Chips and Guacamole                      501\n",
       "Chips and Mild Fresh Tomato Salsa          1\n",
       "Chips and Roasted Chili Corn Salsa        23\n",
       "Chips and Roasted Chili-Corn Salsa        18\n",
       "Chips and Tomatillo Green Chili Salsa     45\n",
       "Chips and Tomatillo Red Chili Salsa       48\n",
       "Chips and Tomatillo-Green Chili Salsa     33\n",
       "Chips and Tomatillo-Red Chili Salsa       24\n",
       "Crispy Tacos                               2\n",
       "Izze                                      19\n",
       "Nantucket Nectar                          29\n",
       "Salad                                      2\n",
       "Side of Chips                            110\n",
       "Steak Bowl                               220\n",
       "Steak Burrito                            383\n",
       "Steak Crispy Tacos                        36\n",
       "Steak Salad                                4\n",
       "Steak Salad Bowl                          31\n",
       "Steak Soft Tacos                          56\n",
       "Veggie Bowl                               87\n",
       "Veggie Burrito                            97\n",
       "Veggie Crispy Tacos                        1\n",
       "Veggie Salad                               6\n",
       "Veggie Salad Bowl                         18\n",
       "Veggie Soft Tacos                          8\n",
       "Name: quantity, dtype: int64"
      ]
     },
     "execution_count": 180,
     "metadata": {},
     "output_type": "execute_result"
    }
   ],
   "source": [
    "item_quantities"
   ]
  },
  {
   "cell_type": "code",
   "execution_count": 196,
   "id": "8b43b924",
   "metadata": {},
   "outputs": [],
   "source": [
    "top_items = item_quantities.sort_values(ascending=False).head()"
   ]
  },
  {
   "cell_type": "code",
   "execution_count": 197,
   "id": "58f82a3a",
   "metadata": {},
   "outputs": [
    {
     "data": {
      "text/plain": [
       "item_name\n",
       "Chicken Bowl           752\n",
       "Chicken Burrito        584\n",
       "Chips and Guacamole    501\n",
       "Steak Burrito          383\n",
       "Canned Soft Drink      340\n",
       "Name: quantity, dtype: int64"
      ]
     },
     "execution_count": 197,
     "metadata": {},
     "output_type": "execute_result"
    }
   ],
   "source": [
    "top_items\n"
   ]
  },
  {
   "cell_type": "markdown",
   "id": "a6f493a2",
   "metadata": {},
   "source": [
    "Q1.Quantity of each item? (Top 5 itmes available in store)\n",
    "\n",
    "#item_name\n",
    "\n",
    "1.Chicken Bowl                             752\n",
    "\n",
    "2.Chicken Burrito                          584\n",
    "\n",
    "3.Chips and Guacamole                      501\n",
    "\n",
    "4.Steak Burrito                            383\n",
    "\n",
    "5.Canned Soft Drink                        340"
   ]
  },
  {
   "cell_type": "code",
   "execution_count": 183,
   "id": "93ca5759",
   "metadata": {},
   "outputs": [],
   "source": [
    "choice_quantities = df.groupby('choice_description')['quantity'].sum()\n"
   ]
  },
  {
   "cell_type": "code",
   "execution_count": 184,
   "id": "19ca1773",
   "metadata": {},
   "outputs": [
    {
     "data": {
      "text/plain": [
       "choice_description\n",
       "Adobo-Marinated and Grilled Chicken                                                                              1\n",
       "Adobo-Marinated and Grilled Chicken, Pinto Beans, Sour Cream, Salsa, Cheese, Cilantro-Lime Rice, Guacamole       1\n",
       "Adobo-Marinated and Grilled Chicken, Sour Cream, Cheese, Cilantro-Lime Rice                                      1\n",
       "Adobo-Marinated and Grilled Steak                                                                                1\n",
       "Adobo-Marinated and Grilled Steak, Sour Cream, Salsa, Cheese, Cilantro-Lime Rice, Guacamole                      1\n",
       "                                                                                                                ..\n",
       "Tomatillo-Red Chili Salsa Hot, Tomatillo-Green Chili Salsa Medium, Rice, Pinto Beans, Fajita Veggies, Lettuce    1\n",
       "White Rice                                                                                                       1\n",
       "White Rice, Adobo-Marinated and Grilled Chicken, Vegetarian Black Beans                                          1\n",
       "White Rice, Adobo-Marinated and Grilled Steak, Pinto Beans, Sour Cream, Salsa, Cheese, Cilantro-Lime Rice        1\n",
       "White Rice, Adobo-Marinated and Grilled Steak, Salsa, Cheese                                                     1\n",
       "Name: quantity, Length: 1043, dtype: int64"
      ]
     },
     "execution_count": 184,
     "metadata": {},
     "output_type": "execute_result"
    }
   ],
   "source": [
    "choice_quantities "
   ]
  },
  {
   "cell_type": "code",
   "execution_count": 200,
   "id": "c1d42166",
   "metadata": {},
   "outputs": [],
   "source": [
    "most_ordered_item = choice_quantities.idxmax()\n"
   ]
  },
  {
   "cell_type": "code",
   "execution_count": 186,
   "id": "3e6f11fa",
   "metadata": {},
   "outputs": [
    {
     "data": {
      "text/plain": [
       "'Diet Coke'"
      ]
     },
     "execution_count": 186,
     "metadata": {},
     "output_type": "execute_result"
    }
   ],
   "source": [
    "most_ordered_item"
   ]
  },
  {
   "cell_type": "markdown",
   "id": "70ae7ed7",
   "metadata": {},
   "source": [
    "Q2.which is most ordered item in choice_description?\n",
    "\n",
    "1.Diet Coke"
   ]
  },
  {
   "cell_type": "code",
   "execution_count": 187,
   "id": "35682c3c",
   "metadata": {},
   "outputs": [
    {
     "data": {
      "text/html": [
       "<div>\n",
       "<style scoped>\n",
       "    .dataframe tbody tr th:only-of-type {\n",
       "        vertical-align: middle;\n",
       "    }\n",
       "\n",
       "    .dataframe tbody tr th {\n",
       "        vertical-align: top;\n",
       "    }\n",
       "\n",
       "    .dataframe thead th {\n",
       "        text-align: right;\n",
       "    }\n",
       "</style>\n",
       "<table border=\"1\" class=\"dataframe\">\n",
       "  <thead>\n",
       "    <tr style=\"text-align: right;\">\n",
       "      <th></th>\n",
       "      <th>order_id</th>\n",
       "      <th>quantity</th>\n",
       "      <th>item_name</th>\n",
       "      <th>choice_description</th>\n",
       "      <th>item_price</th>\n",
       "    </tr>\n",
       "  </thead>\n",
       "  <tbody>\n",
       "    <tr>\n",
       "      <th>0</th>\n",
       "      <td>1</td>\n",
       "      <td>1</td>\n",
       "      <td>Chips and Fresh Tomato Salsa</td>\n",
       "      <td>Diet Coke</td>\n",
       "      <td>2.39</td>\n",
       "    </tr>\n",
       "    <tr>\n",
       "      <th>1</th>\n",
       "      <td>1</td>\n",
       "      <td>1</td>\n",
       "      <td>Izze</td>\n",
       "      <td>Clementine</td>\n",
       "      <td>3.39</td>\n",
       "    </tr>\n",
       "    <tr>\n",
       "      <th>2</th>\n",
       "      <td>1</td>\n",
       "      <td>1</td>\n",
       "      <td>Nantucket Nectar</td>\n",
       "      <td>Apple</td>\n",
       "      <td>3.39</td>\n",
       "    </tr>\n",
       "    <tr>\n",
       "      <th>3</th>\n",
       "      <td>1</td>\n",
       "      <td>1</td>\n",
       "      <td>Chips and Tomatillo-Green Chili Salsa</td>\n",
       "      <td>Diet Coke</td>\n",
       "      <td>2.39</td>\n",
       "    </tr>\n",
       "    <tr>\n",
       "      <th>4</th>\n",
       "      <td>2</td>\n",
       "      <td>2</td>\n",
       "      <td>Chicken Bowl</td>\n",
       "      <td>Tomatillo-Red Chili Salsa Hot, Black Beans, Ri...</td>\n",
       "      <td>16.98</td>\n",
       "    </tr>\n",
       "  </tbody>\n",
       "</table>\n",
       "</div>"
      ],
      "text/plain": [
       "   order_id  quantity                              item_name  \\\n",
       "0         1         1           Chips and Fresh Tomato Salsa   \n",
       "1         1         1                                   Izze   \n",
       "2         1         1                       Nantucket Nectar   \n",
       "3         1         1  Chips and Tomatillo-Green Chili Salsa   \n",
       "4         2         2                           Chicken Bowl   \n",
       "\n",
       "                                  choice_description item_price  \n",
       "0                                          Diet Coke      2.39   \n",
       "1                                         Clementine      3.39   \n",
       "2                                              Apple      3.39   \n",
       "3                                          Diet Coke      2.39   \n",
       "4  Tomatillo-Red Chili Salsa Hot, Black Beans, Ri...     16.98   "
      ]
     },
     "execution_count": 187,
     "metadata": {},
     "output_type": "execute_result"
    }
   ],
   "source": [
    "df.head()"
   ]
  },
  {
   "cell_type": "code",
   "execution_count": 188,
   "id": "505f6683",
   "metadata": {},
   "outputs": [],
   "source": [
    "total_order_count = df['order_id'].nunique()"
   ]
  },
  {
   "cell_type": "code",
   "execution_count": 189,
   "id": "1eafc76d",
   "metadata": {},
   "outputs": [
    {
     "data": {
      "text/plain": [
       "1834"
      ]
     },
     "execution_count": 189,
     "metadata": {},
     "output_type": "execute_result"
    }
   ],
   "source": [
    "total_order_count"
   ]
  },
  {
   "cell_type": "code",
   "execution_count": 190,
   "id": "03eb068e",
   "metadata": {},
   "outputs": [
    {
     "data": {
      "text/plain": [
       "1522"
      ]
     },
     "execution_count": 190,
     "metadata": {},
     "output_type": "execute_result"
    }
   ],
   "source": [
    "most_ordered_quantity = choice_quantities.max()\n",
    "most_ordered_quantity"
   ]
  },
  {
   "cell_type": "markdown",
   "id": "e7973230",
   "metadata": {},
   "source": [
    "Q3.What is total order count?\n",
    "\n",
    " The total_order_count is = 1834"
   ]
  },
  {
   "cell_type": "markdown",
   "id": "dd46350b",
   "metadata": {},
   "source": [
    "Q4.What is revenue?\n",
    "\n"
   ]
  },
  {
   "cell_type": "code",
   "execution_count": 206,
   "id": "b212fd7a",
   "metadata": {},
   "outputs": [],
   "source": [
    "total_revenue= (df.item_price * df.quantity).sum()"
   ]
  },
  {
   "cell_type": "code",
   "execution_count": 207,
   "id": "a32f4941",
   "metadata": {},
   "outputs": [
    {
     "data": {
      "text/plain": [
       "'2.39 3.39 3.39 2.39 16.98 16.98 10.98 1.69 11.75 9.25 9.25 4.45 8.75 8.75 11.25 4.45 2.39 8.49 8.49 2.18 2.18 8.75 4.45 8.99 3.39 10.98 3.39 2.39 8.49 8.99 1.09 8.49 2.39 8.99 1.69 8.99 1.09 8.75 8.75 4.45 2.95 11.75 2.15 4.45 11.25 11.75 8.75 10.98 8.99 3.39 8.99 3.99 8.99 2.18 2.18 10.98 1.09 8.99 2.39 9.25 11.25 11.75 2.15 4.45 9.25 11.25 8.75 8.99 8.99 3.39 8.99 10.98 8.99 1.69 8.99 3.99 8.75 4.45 8.75 8.75 2.15 8.75 11.25 2.15 9.25 8.75 8.75 9.25 8.49 8.99 1.09 9.25 2.95 11.75 11.75 9.25 11.75 4.45 9.25 4.45 11.75 8.75 8.75 4.45 8.99 8.99 3.99 8.49 3.39 8.99 1.09 9.25 4.45 8.75 2.95 4.45 2.39 8.49 8.99 8.49 1.09 8.99 3.99 8.75 9.25 4.45 11.25 4.45 8.99 1.09 9.25 2.95 4.45 11.75 4.45 8.49 2.39 10.98 22.50 22.50 11.75 4.45 11.25 4.45 11.25 4.45 11.25 11.25 11.75 9.25 4.45 11.48 17.98 17.98 1.69 17.50 17.50 4.45 8.49 2.39 17.50 17.50 4.45 4.45 11.25 11.75 10.98 8.49 10.98 2.18 2.18 11.48 8.49 2.39 4.45 11.25 11.75 8.75 8.49 2.18 2.18 8.49 3.39 8.49 8.99 10.98 11.48 8.49 1.09 1.09 9.25 8.75 2.95 9.25 4.45 11.25 11.48 8.49 8.49 8.99 2.39 11.25 8.75 2.95 1.09 8.99 8.49 2.39 10.98 1.09 3.99 11.25 8.75 8.49 3.39 8.75 9.25 2.15 11.25 11.25 11.25 4.45 22.50 22.50 4.45 11.75 8.75 17.50 17.50 8.75 9.25 8.75 2.15 9.25 4.30 4.30 8.75 11.25 2.15 8.99 1.09 8.99 3.99 8.75 2.95 2.95 11.75 5.90 5.90 9.25 9.25 9.25 2.95 17.50 17.50 8.75 9.25 10.98 8.99 1.09 1.09 8.99 10.98 1.09 8.75 8.75 9.25 9.25 8.75 8.75 8.99 8.99 8.99 1.09 11.75 1.25 8.99 2.39 9.25 2.95 8.99 3.99 8.49 2.39 8.49 8.49 8.49 1.69 8.49 3.99 8.99 1.69 1.09 23.78 23.78 17.50 17.50 2.15 8.75 9.25 9.25 8.75 4.45 8.75 11.25 11.25 1.25 9.25 4.45 11.25 11.75 6.49 8.99 2.39 8.49 2.39 11.25 8.75 2.15 8.99 1.69 8.75 11.25 2.15 4.45 8.75 8.49 8.99 17.50 17.50 8.49 1.09 1.09 8.75 1.25 2.15 11.08 8.49 8.49 8.99 2.39 8.75 2.15 1.50 11.25 2.15 8.49 8.49 11.75 9.25 11.75 1.25 11.25 8.75 4.45 6.49 9.25 2.95 11.25 4.45 1.25 1.25 8.49 2.39 2.18 2.18 8.49 2.18 2.18 22.16 22.16 17.50 17.50 8.75 2.95 6.49 8.99 3.39 3.39 8.99 8.49 11.25 2.15 11.25 2.95 11.25 1.25 8.99 1.09 8.75 8.75 9.25 2.95 11.75 1.50 8.99 1.09 11.25 1.25 11.25 11.75 2.15 8.99 1.69 11.75 6.49 8.75 9.25 11.25 4.45 1.25 11.25 4.45 8.49 8.99 8.49 8.99 11.25 1.25 11.75 1.25 11.75 9.25 4.45 11.25 2.15 32.94 32.94 32.94 1.25 11.25 11.48 1.69 1.09 17.50 17.50 4.45 6.49 9.25 8.75 9.25 9.25 8.75 8.75 2.15 2.95 17.50 17.50 10.98 11.48 11.48 3.39 8.99 1.69 8.99 1.09 10.98 3.39 8.99 1.09 9.25 8.75 11.25 4.45 2.95 9.25 22.20 22.20 22.20 8.49 8.99 8.75 8.75 11.75 8.75 11.25 9.25 11.25 11.25 8.75 11.25 2.95 1.25 8.49 1.69 11.75 11.25 8.75 8.75 4.45 8.49 3.99 8.49 3.99 11.48 1.69 1.09 11.25 1.50 10.58 1.69 9.25 11.25 8.75 9.25 11.25 11.25 11.75 8.75 8.75 8.75 2.15 11.25 11.75 2.50 2.50 4.45 9.25 4.45 11.25 8.49 3.99 9.25 9.25 11.25 9.25 11.75 11.25 1.25 23.50 23.50 1.25 8.99 8.49 7.40 7.40 8.75 1.25 4.45 8.75 2.15 8.75 4.45 7.40 7.40 7.40 8.99 3.99 8.99 1.69 8.75 8.75 8.75 8.75 11.25 11.25 2.95 8.75 18.50 18.50 8.49 3.99 2.95 9.25 9.25 3.00 3.00 1.25 8.75 9.25 4.45 8.75 11.25 4.45 10.98 22.16 22.16 4.45 8.75 9.25 6.49 9.25 11.25 8.75 9.25 2.15 9.25 4.45 9.25 2.95 9.25 8.75 9.25 1.25 8.75 8.75 9.25 4.45 11.75 11.75 11.75 9.25 9.25 16.98 16.98 2.39 3.39 3.39 9.25 11.75 11.25 2.15 8.75 9.25 4.45 10.98 11.25 9.25 22.50 22.50 9.25 2.95 1.50 11.48 8.49 1.69 8.49 8.49 8.49 6.78 6.78 11.75 4.45 8.75 4.45 11.89 9.39 8.75 2.95 1.25 9.25 8.75 23.78 23.78 8.75 9.25 2.15 1.25 8.49 3.99 10.98 1.09 8.75 4.45 8.75 11.75 2.95 4.45 9.25 8.75 8.49 3.99 22.50 22.50 11.25 1.25 8.75 8.75 18.50 18.50 6.49 8.75 8.75 4.45 8.49 3.99 8.99 1.09 8.49 2.39 11.48 1.69 2.50 2.50 9.25 1.50 17.50 17.50 2.95 8.75 4.45 11.75 8.75 8.49 1.69 8.49 3.99 8.99 8.99 3.99 8.99 11.25 4.45 1.25 3.99 10.98 7.40 3.00 7.40 4.00 8.49 3.99 9.25 4.45 11.25 1.25 11.75 11.25 2.15 11.25 4.45 3.75 3.75 3.75 11.75 8.99 2.39 8.75 4.45 1.25 8.99 8.49 2.18 2.18 8.49 2.18 2.18 1.09 8.75 2.95 1.25 1.50 11.25 9.25 2.95 1.25 8.49 3.99 11.48 3.99 8.49 11.25 1.25 8.99 1.69 11.25 1.25 6.49 8.75 9.25 8.75 2.95 8.75 11.75 8.69 8.69 2.29 3.99 8.49 8.75 8.75 1.25 11.75 11.25 11.25 11.25 1.25 9.25 11.75 6.49 3.99 8.49 11.25 2.15 11.25 11.89 8.99 1.69 8.99 8.99 3.99 8.99 9.25 9.25 2.15 7.40 7.40 8.75 8.75 9.25 4.45 11.25 1.25 11.75 11.25 1.25 3.99 8.49 8.49 8.99 8.75 2.15 1.25 8.49 1.09 1.09 8.75 2.95 1.25 9.25 1.25 2.15 11.25 1.25 4.45 8.75 2.50 2.50 8.90 8.90 8.75 8.75 8.75 11.25 11.25 10.98 3.99 10.98 3.99 1.69 8.99 9.25 8.75 8.99 1.09 9.25 2.95 8.75 9.25 3.99 8.49 8.75 8.75 22.50 22.50 10.98 3.27 3.27 3.27 3.99 8.99 1.09 11.08 8.75 4.45 11.08 3.99 8.49 4.30 4.30 9.25 8.75 11.25 11.25 9.25 8.49 8.99 8.49 8.75 2.95 4.45 9.25 2.95 9.25 8.75 11.25 4.45 16.98 16.98 8.49 2.39 11.25 3.75 3.75 3.75 9.25 4.45 9.25 9.25 4.45 8.75 9.25 8.75 9.25 9.25 9.25 11.48 8.99 22.50 22.50 11.75 11.25 1.25 8.75 2.15 1.25 11.25 8.75 1.25 11.25 1.50 11.25 11.25 9.25 6.49 8.90 8.90 8.75 4.45 11.25 1.25 17.50 17.50 9.25 8.75 11.75 3.00 3.00 8.49 8.49 10.98 8.99 3.99 8.75 4.45 8.99 1.69 11.75 8.75 11.25 4.45 11.75 1.25 11.75 2.95 8.99 2.18 2.18 17.98 17.98 8.99 8.49 1.69 11.75 11.25 2.95 3.75 3.75 3.75 9.25 11.75 8.75 2.15 1.50 8.49 3.39 8.69 3.89 8.75 4.45 8.75 11.25 2.15 8.75 8.49 1.69 8.49 8.49 1.25 8.75 11.75 11.75 8.99 1.09 8.75 4.45 8.75 2.95 8.75 2.15 3.99 8.49 8.99 3.99 8.49 1.69 1.09 8.99 1.09 9.25 8.75 8.99 2.39 1.25 1.25 11.25 11.25 9.25 9.25 11.25 1.50 3.99 8.49 11.25 9.25 11.25 17.50 17.50 8.75 8.90 8.90 8.75 8.75 8.99 2.39 11.25 9.25 2.15 11.25 1.25 11.75 1.25 11.25 11.75 1.25 11.25 11.25 8.49 10.98 8.75 1.25 8.75 8.49 8.49 1.50 8.75 4.45 11.25 1.25 11.75 8.49 2.39 9.25 4.45 9.25 8.75 8.99 1.69 17.50 17.50 2.39 8.99 8.99 11.25 4.45 8.75 4.45 9.25 6.49 10.98 8.49 8.49 1.09 1.69 9.25 4.45 8.75 1.25 2.95 3.99 8.49 11.75 11.75 2.15 11.48 8.75 2.15 1.25 11.25 2.15 1.25 8.75 8.75 6.49 1.69 8.99 8.75 11.75 10.98 1.09 8.49 3.39 8.75 2.15 1.25 11.48 10.98 10.98 8.49 2.95 9.25 9.25 11.75 4.45 11.48 11.25 8.75 4.45 1.69 8.99 8.75 4.45 1.50 11.75 2.15 8.99 2.39 8.75 2.95 1.25 8.75 2.15 1.25 2.18 2.18 2.18 2.18 11.48 8.75 2.95 11.75 11.75 1.25 10.58 8.99 2.39 11.75 4.45 11.25 11.25 17.50 17.50 8.75 8.75 8.75 22.50 22.50 9.25 8.75 4.45 11.75 1.25 11.25 2.95 8.99 1.69 11.25 4.45 8.75 6.49 8.75 4.45 9.25 4.45 11.75 11.75 4.45 11.89 11.75 11.25 2.95 1.50 4.45 8.75 8.99 1.09 8.99 1.09 3.99 11.48 8.49 9.25 4.45 11.48 9.25 2.95 9.25 8.49 8.99 8.99 8.49 8.75 2.95 4.45 11.89 10.58 8.19 1.69 8.75 2.15 1.25 17.50 17.50 6.49 9.25 2.15 8.75 4.45 8.75 1.25 11.48 11.48 8.99 2.18 2.18 8.49 8.99 2.39 2.39 2.18 2.18 8.75 4.45 11.25 9.25 9.25 11.25 11.25 4.45 2.95 11.75 8.49 8.49 8.99 1.69 9.25 11.25 11.75 9.25 8.75 11.75 8.75 11.25 11.25 10.98 11.25 4.45 10.98 8.49 8.99 3.39 3.99 8.99 1.09 1.09 2.39 17.50 17.50 4.45 11.25 11.25 4.45 9.25 4.45 8.75 2.15 1.25 11.89 2.95 11.75 1.25 11.25 4.45 11.48 11.48 2.95 9.25 8.75 9.25 2.95 11.25 1.25 11.75 8.99 2.39 1.25 11.25 1.25 11.25 8.49 3.99 35.00 35.00 35.00 35.00 27.75 27.75 27.75 8.75 11.80 11.80 11.80 11.80 8.90 8.90 5.90 5.90 6.49 10.98 17.98 17.98 2.39 9.25 8.75 2.15 8.75 4.45 8.49 1.69 8.19 8.69 10.98 3.99 11.48 11.48 4.45 8.75 6.49 8.75 8.75 9.25 1.25 4.45 8.49 1.69 9.25 4.45 8.99 1.09 11.25 2.95 11.08 11.08 3.89 10.98 11.25 8.75 11.25 9.25 4.30 4.30 8.75 8.49 3.99 1.69 8.99 8.49 1.69 11.75 11.25 11.89 9.25 2.95 9.25 2.95 8.75 4.45 4.45 8.75 10.98 11.48 8.49 9.25 4.45 11.75 11.89 8.99 8.49 8.75 9.25 8.75 8.75 11.75 11.75 4.45 11.25 11.75 2.50 2.50 8.99 1.69 11.75 2.15 1.25 9.25 8.75 8.90 8.90 9.25 2.95 8.75 11.25 8.90 8.90 11.25 11.75 11.48 1.69 3.39 9.25 2.95 8.99 1.69 8.49 10.98 11.25 2.95 8.99 1.69 8.75 2.15 1.25 8.75 2.95 9.25 2.50 2.50 11.25 1.25 11.75 2.50 2.50 11.25 1.50 8.75 2.95 11.48 11.48 8.75 8.75 2.15 11.75 1.25 9.25 9.25 6.49 11.75 8.49 8.49 1.09 10.98 8.75 1.25 2.15 11.25 1.50 11.25 11.25 8.49 8.49 8.75 1.50 1.25 8.75 2.50 2.50 2.15 7.40 7.40 4.00 9.25 9.39 9.25 11.25 8.90 8.90 11.25 6.00 6.00 6.00 6.00 11.25 11.25 11.25 22.50 22.50 11.48 1.09 8.49 8.49 17.50 17.50 11.25 1.50 9.25 8.75 3.99 8.49 8.75 8.75 8.75 8.75 8.75 11.75 1.50 11.25 11.25 2.95 8.99 10.98 9.25 8.75 4.45 8.49 1.09 2.39 8.75 8.75 11.48 8.99 8.49 8.49 2.39 10.98 8.49 3.99 11.75 4.45 8.75 2.15 1.25 10.98 8.99 11.25 1.50 8.75 2.15 1.25 8.75 9.25 8.75 11.25 1.50 8.75 1.25 4.45 10.98 8.75 2.95 1.25 8.75 2.95 1.25 8.49 8.49 2.39 11.25 1.25 8.75 9.25 8.75 11.89 1.25 8.75 2.15 1.25 8.99 1.09 8.75 4.45 26.25 26.25 26.25 8.75 4.45 11.75 2.95 8.75 8.75 11.75 8.75 11.25 11.25 11.25 4.45 1.25 8.49 8.49 8.49 8.99 8.99 2.39 3.99 8.75 4.45 2.15 9.25 1.25 11.25 11.75 8.75 4.45 11.25 2.15 8.75 8.75 8.75 1.25 11.25 2.15 8.75 5.90 5.90 11.75 1.25 9.25 3.75 3.75 3.75 8.75 1.25 4.45 11.75 4.45 8.75 23.50 23.50 8.75 2.95 8.75 8.75 11.89 4.45 2.95 1.25 8.75 4.45 2.95 1.25 8.75 2.15 1.25 11.75 2.95 8.99 3.39 9.25 9.25 17.50 17.50 2.95 11.89 1.50 11.25 2.95 9.25 11.25 11.25 2.95 8.75 9.25 4.30 4.30 8.75 8.75 11.25 8.75 4.30 4.30 8.75 1.25 2.15 8.49 8.49 3.39 10.98 10.98 2.39 11.25 11.75 11.75 1.25 5.90 5.90 8.75 11.25 9.25 4.45 1.50 3.39 8.99 2.39 11.25 2.15 11.25 11.75 11.75 4.45 11.75 4.45 9.25 8.75 8.49 8.99 8.49 8.99 11.75 8.75 8.49 3.99 3.89 11.08 8.49 8.99 8.49 8.49 8.49 11.25 2.15 17.50 17.50 8.75 2.95 8.49 8.49 10.98 1.09 11.25 2.15 2.95 1.25 8.75 9.25 9.25 9.25 2.95 8.75 2.15 1.25 8.99 3.99 11.75 2.15 8.99 3.39 9.25 8.75 11.25 11.25 4.45 8.75 2.15 1.25 11.75 4.45 9.25 2.95 8.49 8.49 11.25 8.75 4.45 11.25 11.25 11.25 11.25 4.45 8.49 1.69 8.49 3.39 8.75 11.25 9.25 8.75 11.25 11.25 11.75 11.25 11.75 11.25 11.75 21.96 21.96 10.98 1.69 11.48 8.99 8.49 1.69 9.25 2.15 1.50 11.25 1.50 8.75 8.75 2.95 8.49 1.69 8.75 2.95 1.25 11.25 2.15 11.08 8.49 8.49 8.49 11.75 1.25 11.75 8.75 8.75 8.75 4.45 11.25 1.50 23.50 23.50 11.75 6.49 8.75 4.45 6.49 8.75 2.50 2.50 2.15 8.49 2.39 8.75 11.75 4.45 8.99 10.98 9.25 2.95 9.25 9.25 11.75 8.75 8.75 8.75 10.98 11.25 9.25 8.75 8.75 2.15 11.25 2.15 4.45 11.75 8.49 2.39 9.25 1.25 1.25 8.75 2.15 8.49 1.69 11.25 1.50 8.75 8.75 8.49 3.99 8.99 1.09 11.25 1.25 8.49 2.39 8.49 8.75 9.25 11.25 4.45 11.25 11.89 8.99 8.49 8.75 4.45 8.75 11.75 11.75 8.90 8.90 9.39 2.95 8.49 3.99 8.75 2.15 1.25 21.96 21.96 8.49 1.69 8.75 4.45 8.49 8.99 8.49 3.99 8.75 8.75 2.95 8.75 17.50 17.50 9.25 2.95 8.75 6.49 4.30 4.30 8.75 8.75 2.15 1.50 8.49 8.49 2.39 9.25 4.45 6.49 11.75 4.45 10.98 1.69 9.39 9.25 9.25 2.95 8.75 2.15 1.25 11.25 9.25 8.75 11.25 8.75 11.25 2.50 2.50 2.50 2.50 6.00 6.00 6.00 6.00 8.90 8.90 5.90 5.90 11.25 11.25 8.49 10.98 8.75 2.15 1.50 9.25 1.25 1.50 2.15 1.25 8.75 2.95 8.49 3.99 11.25 4.30 4.30 11.75 2.15 18.50 18.50 8.49 2.39 8.75 4.45 11.75 8.99 3.99 9.25 9.25 1.50 8.75 2.95 6.49 11.75 8.49 8.99 8.75 4.45 6.49 22.50 22.50 9.25 2.95 8.49 1.69 10.98 8.75 4.45 11.25 2.95 8.99 8.49 2.39 11.75 6.49 11.25 11.75 2.95 8.99 1.69 8.99 2.18 2.18 1.09 8.99 8.99 1.09 8.99 8.99 8.49 10.98 1.09 11.75 9.25 11.25 11.25 2.15 11.25 8.75 4.45 2.95 11.75 1.50 8.99 10.98 2.39 8.75 2.15 9.25 1.50 8.75 2.15 3.99 8.99 6.49 8.75 8.90 8.90 8.99 3.99 17.50 17.50 11.25 1.25 10.98 9.25 4.45 1.25 3.00 3.00 11.25 4.45 4.45 2.95 9.25 11.25 2.15 11.25 11.25 4.45 2.95 9.25 11.25 1.25 8.75 2.95 1.25 8.75 4.45 11.48 11.48 8.49 2.39 11.25 11.75 2.15 1.50 2.15 8.75 11.25 8.90 8.90 11.25 11.25 1.25 4.45 9.25 9.25 8.75 9.25 8.75 8.75 9.25 8.75 11.75 11.75 8.75 8.75 8.90 8.90 2.95 10.98 8.49 8.49 10.98 8.99 8.99 11.75 17.50 17.50 11.75 3.99 8.49 10.98 1.69 17.50 17.50 8.99 2.39 8.99 2.39 1.25 8.75 2.95 11.75 11.25 17.50 17.50 8.49 8.49 2.39 11.25 1.50 8.75 3.00 3.00 1.25 8.75 4.45 11.75 11.75 4.45 21.96 21.96 8.75 4.45 11.25 9.25 8.99 2.39 9.25 8.75 10.98 8.49 3.99 3.39 11.75 1.50 4.45 9.25 8.75 1.25 11.75 8.75 1.50 8.75 8.75 2.15 1.50 8.75 2.95 8.75 8.75 17.50 17.50 8.75 6.49 4.45 11.25 11.25 4.30 4.30 8.75 11.25 4.45 8.99 2.39 9.25 9.25 9.25 4.45 11.75 11.25 2.95 2.15 11.25 8.75 2.15 1.50 9.25 4.45 10.98 8.99 2.18 2.18 8.75 4.45 1.25 8.99 2.39 4.45 8.75 10.98 11.75 1.50 10.98 8.99 8.49 3.99 8.99 8.49 3.99 8.49 8.49 8.99 11.25 11.25 10.98 10.98 10.98 2.39 3.39 8.75 1.25 2.95 11.75 1.50 10.98 1.69 4.45 8.75 8.75 8.75 8.75 4.45 9.25 8.75 11.25 8.75 3.99 8.99 8.49 11.25 11.25 8.75 4.45 8.75 4.45 1.25 8.75 8.75 1.50 2.15 11.75 11.75 11.75 11.75 11.75 1.50 8.75 9.25 1.25 8.75 2.15 8.99 1.09 4.45 11.25 11.75 2.15 8.75 8.75 1.25 9.25 2.15 11.75 11.25 8.75 11.25 4.45 8.49 1.69 8.75 8.75 8.99 8.49 9.25 11.25 2.95 4.45 11.75 6.49 11.48 8.99 4.36 4.36 4.36 4.36 11.48 8.99 8.49 11.48 8.75 2.15 1.50 8.99 1.69 11.25 1.25 9.25 9.25 8.75 9.25 8.90 8.90 2.15 9.25 10.98 8.49 8.75 9.25 4.30 4.30 9.25 8.75 8.75 2.15 1.25 8.75 1.25 8.75 5.90 5.90 9.25 8.75 9.25 4.45 9.25 11.75 2.50 2.50 9.25 2.15 9.25 1.50 1.25 11.25 2.95 8.75 8.75 8.75 10.98 8.75 8.75 8.75 2.15 1.25 10.98 8.75 2.15 1.50 8.75 2.95 1.25 9.25 9.25 8.49 2.39 8.75 4.45 9.25 8.75 8.75 9.25 8.75 9.25 8.75 8.75 8.75 8.75 9.25 8.75 9.25 9.25 8.75 8.75 8.75 9.25 8.75 9.25 8.75 8.99 8.99 8.75 2.95 1.25 11.75 1.50 11.25 11.25 8.75 1.50 2.15 16.98 16.98 11.75 1.50 8.75 4.30 4.30 1.50 8.75 2.95 1.25 1.25 9.25 4.45 11.25 8.75 4.45 8.75 2.15 1.25 10.98 1.69 8.75 1.25 8.75 11.25 8.75 8.75 8.49 1.69 9.25 11.75 8.49 2.39 9.25 2.95 6.49 8.75 8.75 9.25 8.75 6.78 6.78 17.98 17.98 3.39 11.75 11.25 8.75 4.45 11.75 9.25 8.75 6.49 8.99 2.39 8.75 11.25 11.75 4.45 8.75 2.15 9.25 9.25 9.25 11.89 11.75 11.25 9.25 9.25 8.75 8.75 8.49 1.69 1.09 11.25 1.50 11.25 11.25 11.75 1.50 8.49 8.99 22.50 22.50 8.75 4.30 4.30 8.75 11.25 2.15 11.25 2.95 4.45 11.25 8.49 3.39 2.39 11.75 2.15 11.75 8.99 2.39 8.75 11.75 11.89 1.25 7.50 7.50 7.50 7.50 7.50 11.89 1.09 8.49 2.39 8.75 8.75 8.75 9.25 11.25 8.75 8.90 8.90 9.25 8.75 8.75 11.75 3.00 3.00 1.50 11.25 11.75 8.99 10.98 4.45 8.75 2.15 9.25 11.25 4.45 1.69 10.98 9.25 11.75 9.25 4.45 10.98 3.99 8.49 1.25 9.25 4.45 10.98 8.75 8.75 11.75 11.25 8.49 11.48 4.45 1.25 11.25 8.99 1.09 2.39 11.25 2.15 8.75 4.45 8.49 1.69 10.98 1.69 9.25 4.45 11.25 8.75 11.25 11.75 11.25 22.50 22.50 8.49 2.39 2.50 2.50 8.75 8.75 9.25 9.25 11.25 8.99 1.09 8.99 1.69 11.75 1.25 21.96 21.96 8.75 2.15 1.25 8.75 11.25 9.25 11.25 8.75 8.75 11.25 2.15 8.99 1.09 1.69 8.75 2.15 1.25 8.49 1.09 1.09 1.69 11.48 8.49 8.49 4.78 4.78 9.25 1.25 11.25 11.25 11.75 4.45 11.25 8.99 1.09 11.25 2.15 11.25 9.25 11.75 11.25 11.25 9.25 2.95 11.25 4.45 8.75 2.95 11.25 1.50 10.98 16.98 16.98 18.50 18.50 10.98 3.99 1.09 9.25 9.25 8.75 4.45 17.50 17.50 8.75 4.45 8.75 1.25 4.45 9.25 8.75 8.75 17.50 17.50 4.45 9.39 1.25 2.95 11.25 8.75 8.75 11.25 2.15 8.90 8.90 11.25 11.89 10.98 11.25 4.45 11.25 11.25 8.49 10.98 8.49 3.39 9.25 8.75 2.95 3.00 3.00 9.39 11.75 2.95 1.50 11.25 11.75 8.75 2.15 1.50 8.49 3.39 11.75 1.25 17.50 17.50 11.25 1.25 8.75 2.95 1.25 11.25 11.75 13.35 13.35 13.35 11.25 11.75 11.25 11.25 4.45 11.25 8.49 3.39 9.25 2.95 4.78 4.78 2.39 3.99 8.99 8.99 11.25 8.75 11.25 2.95 4.45 9.25 8.75 4.45 8.49 8.49 10.98 10.98 3.99 11.75 8.75 11.75 4.45 1.50 1.25 8.49 8.49 8.75 8.75 8.75 9.25 8.75 2.95 1.25 11.25 1.50 11.25 4.45 9.25 8.75 8.75 9.25 8.75 4.45 1.50 8.75 8.75 8.49 1.69 8.75 2.15 9.25 1.50 11.25 11.75 2.15 6.49 9.25 9.25 11.25 11.75 11.75 11.75 11.25 8.75 2.15 1.25 11.75 9.25 11.25 8.75 5.90 5.90 8.75 4.45 9.25 9.25 4.45 11.25 4.45 11.25 8.75 2.15 11.89 11.25 8.75 2.95 1.50 8.75 4.30 4.30 8.75 11.25 11.75 11.75 2.15 11.25 8.99 1.09 8.49 8.49 8.49 3.39 8.99 10.98 3.99 11.75 2.15 8.75 4.45 2.50 2.50 11.48 1.09 8.49 8.49 16.98 16.98 3.99 10.98 1.09 8.75 2.95 8.75 8.75 2.95 9.25 11.25 2.15 9.25 4.45 4.45 9.25 11.75 11.75 2.15 9.25 8.75 11.25 6.49 8.75 11.25 2.95 10.98 3.99 1.50 9.25 2.15 8.75 11.25 11.89 4.45 1.50 1.25 8.75 8.75 4.45 11.25 11.75 8.49 1.09 1.09 1.69 8.99 3.39 8.99 1.69 8.49 8.99 3.27 3.27 3.27 8.99 8.99 1.09 10.98 1.69 3.99 8.49 1.09 8.75 11.75 8.75 9.25 8.75 3.39 8.99 8.99 2.39 9.25 8.75 9.25 9.25 8.99 3.99 2.39 8.49 1.09 8.49 8.99 3.39 11.25 1.25 8.99 3.99 8.75 8.90 8.90 6.49 8.75 9.25 11.25 11.25 11.25 1.25 8.75 9.25 4.45 1.25 8.75 1.25 2.15 17.98 17.98 8.99 8.75 2.95 1.25 11.75 1.50 8.75 8.75 11.08 8.99 1.69 8.99 1.69 10.98 3.99 3.39 11.75 2.15 11.75 2.95 8.75 8.75 11.75 11.25 11.75 11.25 4.45 11.25 1.25 2.18 2.18 2.18 2.18 2.39 8.49 8.99 2.39 11.25 8.75 11.75 11.75 11.25 4.45 2.15 8.19 10.58 4.45 9.25 1.09 8.99 11.25 1.50 8.99 3.99 4.45 11.75 2.15 11.25 8.75 4.45 8.75 9.25 6.45 6.45 6.45 8.75 11.25 11.25 8.75 11.75 21.96 21.96 8.99 5.07 5.07 5.07 8.49 9.25 11.25 4.45 3.39 8.49 8.99 8.49 17.50 17.50 22.96 22.96 8.75 11.25 11.89 11.25 8.49 1.69 1.09 8.99 8.99 9.25 8.75 9.25 2.95 8.49 3.99 8.99 8.49 7.17 7.17 7.17 8.99 17.50 17.50 9.25 11.25 1.25 8.99 1.09 8.75 4.45 11.25 2.15 11.75 11.25 11.25 8.75 8.75 4.45 1.25 11.75 11.75 2.50 2.50 8.49 8.99 2.18 2.18 11.25 4.45 11.25 11.75 8.49 8.99 1.69 1.09 8.99 8.99 11.25 6.49 11.25 8.75 4.45 8.99 1.69 11.48 11.75 2.50 2.50 8.49 1.09 1.09 1.69 8.49 2.39 11.75 1.25 8.49 1.69 8.49 1.69 11.75 4.45 8.75 8.75 4.45 8.75 11.25 11.25 8.75 7.98 7.98 8.49 1.09 8.49 3.99 8.49 3.99 8.99 3.99 11.25 4.45 8.49 2.39 8.49 2.39 3.99 8.49 1.25 11.25 4.45 9.25 4.45 1.09 8.99 3.99 11.25 8.90 8.90 9.25 11.25 8.75 11.25 11.25 11.25 11.25 11.25 8.99 8.49 8.75 8.75 4.45 16.98 16.98 11.75 11.25 9.25 4.45 9.25 2.95 8.49 1.69 3.75 3.75 3.75 4.45 9.25 1.50 11.25 11.48 11.25 2.15 8.75 9.39 8.49 3.99 8.19 2.29 11.48 1.69 11.48 3.99 8.49 1.69 9.25 2.95 8.49 1.69 11.25 4.45 9.39 9.25 8.75 8.75 4.45 11.89 4.45 8.75 8.75 8.75 2.15 8.75 3.75 3.75 3.75 9.25 11.25 4.45 6.49 16.98 16.98 18.50 18.50 2.50 2.50 2.95 3.99 8.49 8.19 11.08 6.49 11.75 2.39 8.99 1.09 11.25 4.45 11.25 8.99 1.69 21.96 21.96 2.18 2.18 8.99 8.99 2.39 8.69 1.69 8.90 8.90 2.50 2.50 8.75 8.99 1.09 8.49 8.49 8.75 4.45 17.50 17.50 8.75 9.25 8.49 2.39 8.75 4.45 11.25 11.25 11.75 8.75 8.49 8.49 8.49 8.99 8.75 4.45 11.48 8.75 1.25 2.15 9.25 4.45 11.75 2.15 11.25 8.99 2.39 8.69 8.69 11.75 2.95 11.75 1.50 9.25 4.45 1.50 11.48 8.99 2.39 11.25 11.89 2.15 1.25 11.75 4.45 8.75 8.75 11.25 4.45 11.25 2.15 4.45 8.49 1.09 3.99 11.25 11.25 8.49 2.39 8.99 2.39 11.25 2.15 8.75 2.95 1.25 8.75 11.25 17.50 17.50 11.75 11.75 11.25 11.25 4.45 2.50 2.50 8.75 8.99 8.99 1.69 8.99 1.69 11.25 1.25 11.08 8.69 8.99 1.09 11.25 11.25 2.95 1.25 8.75 1.25 8.75 8.75 2.15 1.25 8.49 3.99 8.49 2.39 8.49 7.17 7.17 7.17 8.75 4.45 11.48 8.75 8.75 11.48 8.75 9.25 8.49 3.99 1.50 11.25 11.25 8.75 8.75 4.45 9.25 4.45 8.75 8.75 4.30 4.30 2.95 8.75 4.50 4.50 4.50 9.25 11.25 4.45 11.25 11.25 8.75 9.25 8.75 2.15 1.25 8.75 2.15 1.25 8.99 8.49 8.75 8.75 1.25 11.75 4.50 4.50 4.50 8.75 8.75 3.99 3.39 8.49 2.39 8.99 1.50 11.25 11.25 8.75 8.75 2.15 8.75 2.15 1.25 21.96 21.96 8.49 1.69 26.07 26.07 26.07 11.75 1.50 8.99 8.99 11.48 9.25 9.25 8.75 8.75 8.75 9.25 8.75 8.75 2.15 1.25 11.89 8.75 11.75 4.45 18.50 18.50 9.25 9.39 8.49 2.39 8.49 1.69 1.09 8.99 8.49 2.18 2.18 11.25 1.25 8.49 3.39 8.49 3.99 11.25 8.75 8.49 1.69 16.98 16.98 9.25 9.25 11.75 1.25 11.25 8.75 8.49 8.49 8.75 1.25 1.25 1.25 11.25 12.98 12.98 11.75 11.75 4.45 11.25 11.75 10.98 8.49 8.49 2.39 9.25 11.25 8.75 2.95 1.50 11.25 2.95 9.25 2.95 9.25 8.75 11.25 8.75 8.75 4.45 11.25 1.25 8.75 2.95 2.50 2.50 9.25 9.25 9.25 6.49 17.50 17.50 8.49 1.69 8.49 3.99 8.75 2.95 8.49 8.99 8.99 1.09 8.75 4.45 1.25 11.25 11.75 11.25 9.25 11.25 1.50 11.25 2.15 10.98 8.75 11.75 2.95 11.25 11.25 9.25 8.75 9.25 8.75 8.75 8.75 1.25 11.25 1.50 2.15 8.75 8.75 11.25 8.75 8.75 11.25 4.45 8.49 8.49 8.49 8.49 8.99 1.69 2.39 1.09 1.09 11.25 2.95 35.25 35.25 35.25 8.75 2.95 1.25 11.25 2.15 9.25 4.45 8.75 8.75 8.75 4.45 1.25 11.89 8.75 2.15 1.25 8.49 1.09 1.09 1.69 8.69 8.69 9.25 2.95 10.98 2.39 22.50 22.50 21.96 21.96 10.98 8.49 1.69 11.75 2.95 8.75 11.25 8.75 9.25 8.75 8.19 10.58 8.75 2.95 1.50 2.50 2.50 9.25 4.45 9.25 11.25 8.69 8.69 3.89 8.69 1.69 4.45 9.25 11.25 4.45 2.15 8.19 8.69 4.45 11.25 1.25 11.25 8.75 11.89 11.75 11.75 9.25 8.75 2.15 1.50 11.75 4.45 3.99 8.99 10.98 2.39 1.25 2.95 8.75 2.95 9.25 9.25 9.25 8.75 2.15 9.25 9.25 3.39 8.49 8.49 2.39 10.98 1.09 1.09 8.49 11.25 1.25 8.99 1.09 8.75 2.15 1.50 3.99 8.49 8.75 2.15 1.50 8.49 10.98 2.18 2.18 8.75 2.15 1.50 4.45 9.25 44.25 44.25 44.25 44.25 44.25 44.25 44.25 44.25 44.25 44.25 44.25 44.25 44.25 44.25 44.25 10.50 10.50 10.50 10.50 10.50 10.50 10.50 6.49 33.75 33.75 33.75 35.00 35.00 35.00 35.00 27.75 27.75 27.75 3.00 3.00 11.25 11.75 10.98 2.39 2.50 2.50 8.75 4.45 16.98 16.98 8.75 6.49 16.98 16.98 17.98 17.98 16.98 16.98 16.98 16.98 8.99 8.99 8.49 9.25 8.75 2.95 11.48 2.39 8.99 2.39 11.25 4.45 8.75 9.25 6.49 26.25 26.25 26.25 8.75 26.25 26.25 26.25 8.75 11.25 11.25 2.15 1.25 11.75 8.75 2.15 1.50 11.25 2.15 8.99 2.39 11.25 11.25 2.15 11.25 11.25 8.75 4.78 4.78 21.96 21.96 8.49 2.39 9.25 2.95 16.98 16.98 8.19 3.89 8.99 1.09 8.99 3.39 9.25 4.45 10.98 10.98 17.50 17.50 11.25 1.25 8.75 11.75 4.45 11.25 11.25 8.99 1.09 10.98 8.49 1.69 11.25 9.25 16.98 16.98 8.75 4.45 11.25 6.49 11.75 9.25 9.25 8.75 4.45 2.50 2.50 8.75 11.75 8.75 9.25 11.75 9.25 8.75 9.25 8.75 11.25 11.75 9.25 8.75 11.75 8.49 1.09 8.49 1.09 1.69 11.25 1.25 8.75 2.15 1.50 8.49 1.69 1.25 8.75 2.95 8.49 3.99 8.49 8.49 8.75 11.25 2.15 1.50 11.75 8.99 1.09 10.98 10.98 11.25 1.25 8.75 4.45 4.45 1.25 11.89 8.99 8.99 11.25 4.45 23.50 23.50 8.49 3.99 9.25 4.45 4.45 9.25 8.75 4.45 8.75 11.75 6.49 17.50 17.50 4.45 8.75 2.95 1.50 8.75 8.75 8.75 4.45 11.25 11.25 11.75 11.25 2.95 11.25 4.45 3.00 3.00 1.25 2.95 9.25 8.99 2.39 6.49 8.75 8.90 8.90 11.48 1.09 10.98 9.25 9.25 11.25 8.75 11.75 11.25 11.25 1.25 9.25 4.45 9.25 6.49 11.75 11.75 8.99 2.39 8.49 8.49 9.25 9.25 1.25 8.75 2.95 11.75 2.15 8.49 8.49 8.69 16.38 16.38 8.19 3.89 2.29 11.75 8.75 8.75 4.45 8.49 8.49 9.25 8.75 6.49 2.95 11.25 11.25 2.15 9.25 11.75 21.96 21.96 8.49 3.39 1.69 8.49 8.75 4.45 8.49 3.99 11.25 8.75 11.25 2.15 11.75 4.45 11.25 9.25 8.75 18.50 18.50 1.50 8.75 2.15 11.48 2.18 2.18 3.99 11.25 1.50 8.99 2.39 11.75 1.50 11.25 6.49 4.45 11.25 8.49 3.99 2.50 2.50 8.75 9.25 3.99 8.99 8.75 6.49 13.52 13.52 13.52 13.52 13.52 13.52 13.52 13.52 16.98 16.98 16.98 16.98 17.98 17.98 16.98 16.98 8.75 8.75 11.25 11.25 8.49 1.09 1.69 1.25 9.25 2.95 8.69 8.19 8.49 2.39 8.49 2.39 10.98 8.99 8.99 1.69 8.49 8.75 8.75 11.25 4.45 4.45 17.50 17.50 8.75 4.45 8.75 2.15 1.50 8.99 1.09 8.75 4.45 8.75 8.75 11.25 4.30 4.30 8.49 1.69 1.09 1.09 8.75 2.15 1.50 8.99 8.49 3.99 8.75 2.15 1.25 9.25 2.95 11.25 4.45 9.25 2.95 3.99 8.99 8.49 8.75 8.75 11.25 9.25 8.75 4.45 11.25 1.25 9.25 11.25 4.45 2.95 10.98 8.75 8.75 18.50 18.50 9.25 9.25 5.00 5.00 5.00 5.00 8.75 2.95 16.98 16.98 11.25 2.95 8.75 2.15 1.50 8.49 2.39 9.25 2.15 1.25 8.19 8.69 8.19 8.19 8.75 2.95 1.25 9.25 2.95 11.25 8.75 11.25 11.25 8.99 1.09 9.25 9.25 4.45 8.49 3.99 2.39 1.09 8.99 8.49 8.75 8.75 11.25 11.75 4.45 2.50 2.50 8.75 8.49 3.39 8.75 9.25 4.45 1.25 11.25 2.15 4.45 2.50 2.50 8.99 3.99 8.75 2.15 11.75 11.75 1.25 8.75 9.39 11.25 9.25 9.25 2.95 9.25 4.45 1.25 9.25 8.75 11.75 1.50 8.75 4.45 8.99 1.09 9.25 2.95 8.99 1.69 8.69 1.69 11.25 4.45 8.75 8.75 4.45 11.25 8.75 2.95 1.50 8.19 8.69 1.09 1.69 8.49 8.75 2.95 1.25 8.49 3.99 10.98 3.39 11.25 11.25 2.15 18.50 18.50 8.49 8.49 11.25 1.50 8.49 2.39 8.99 2.39 11.75 4.45 17.50 17.50 9.25 9.25 8.75 4.45 3.75 3.75 3.75 8.75 4.45 11.75 2.95 1.25 4.45 8.75 1.25 1.50 9.25 11.25 11.25 11.25 9.25 11.25 4.45 8.75 9.25 8.75 8.75 4.45 8.75 1.25 2.15 8.75 8.75 4.30 4.30 8.75 1.25 2.95 9.25 2.95 4.45 11.25 11.25 9.25 9.25 4.50 4.50 4.50 11.75 1.25 11.75 11.75 1.25 1.25 9.25 4.45 11.25 11.75 17.50 17.50 2.15 1.25 11.25 15.00 15.00 15.00 15.00 15.00 15.00 15.00 15.00 15.00 15.00 11.25 4.45 2.95 11.25 2.15 1.25 1.50 8.75 11.25 2.95 11.25 1.25 2.15 11.25 9.25 6.49 1.25 8.75 2.15 8.75 6.49 11.25 1.50 8.75 4.45 8.75 4.45 9.25 9.25 1.25 1.25 8.75 4.50 4.50 4.50 11.25 1.25 1.50 9.25 2.15 11.25 4.45 11.25 4.45 8.75 4.45 9.25 4.45 1.25 11.25 4.45 8.75 4.45 8.75 2.15 8.75 4.45 8.75 11.75 1.50 11.25 4.45 8.75 2.15 1.50 8.75 4.45 8.75 11.75 8.75 8.75 11.25 11.25 1.50 8.75 2.15 11.75 2.15 9.25 2.95 18.50 18.50 1.25 4.45 8.50 8.50 8.50 11.25 11.89 1.25 9.39 4.45 8.75 2.15 1.50 11.75 8.75 9.25 9.25 4.45 1.25 11.25 9.25 2.95 8.75 8.75 2.15 8.75 11.25 11.25 11.25 11.75 11.25 2.15 11.25 8.99 8.99 8.75 9.25 9.25 11.25 8.75 4.45 8.75 1.25 4.45 11.25 1.25 8.75 8.75 11.25 8.75 1.25 1.25 1.25 9.25 11.75 2.15 8.75 4.45 8.75 4.45 11.25 9.25 8.75 9.25 4.45 11.75 4.45 1.25 4.45 11.75 9.25 11.25 2.15 23.50 23.50 9.25 2.15 18.50 18.50 8.75 5.90 5.90 11.89 4.45 8.75 4.45 9.25 2.95 11.25 2.95 11.25 11.25 11.25 2.95 11.75 9.25 9.25 2.95 11.25 2.15 9.25 8.90 8.90 8.75 11.25 11.25 11.25 8.75 2.15 1.25 11.25 1.25 8.75 4.45 1.25 11.25 11.25 11.75 1.25 11.25 11.25 11.25 8.75 8.75 18.50 18.50 11.75 1.25 4.45 9.25 6.49 4.45 8.75 11.25 6.49 11.75 8.75 9.25 11.25 2.15 8.75 4.45 11.25 8.75 9.25 4.45 1.25 1.25 8.75 11.25 11.75 2.15 11.75 4.45 11.75 1.25 11.75 11.75 11.25 4.30 4.30 9.39 9.39 8.75 1.25 9.25 4.45 11.25 1.25 8.75 1.25 2.95 11.25 4.45 8.75 1.50 4.45 4.45 9.25 8.75 2.95 1.25 11.25 2.95 8.75 8.75 8.75 8.75 4.30 4.30 9.25 9.39 4.45 9.25 1.25 22.50 22.50 4.45 2.95 2.15 23.50 23.50 11.75 2.15 1.25 9.25 4.45 11.25 11.75 17.50 17.50 8.75 11.75 11.25 8.75 4.45 11.75 1.50 8.75 8.75 11.75 9.25 11.25 4.45 11.75 9.25 4.45 11.25 8.75 8.75 2.15 1.50 8.75 4.45 9.25 8.75 1.50 1.25 1.25 8.75 2.95 11.25 11.25 1.50 11.75 11.25 2.15 9.25 8.75 11.75 2.95 1.50 8.75 1.25 8.75 11.75 11.25 11.25 11.75 11.25 11.75 8.75 17.80 17.80 17.80 17.80 5.00 5.00 5.00 5.00 5.00 5.00 5.00 5.00 8.75 2.95 1.25 11.25 1.25 2.15 11.25 2.50 2.50 9.25 1.25 11.25 2.95 11.75 2.15 11.25 1.50 8.99 1.99 11.49 8.75 4.45 1.25 8.75 4.45 1.25 1.50 11.75 8.75 8.75 11.25 6.49 11.75 8.75 2.15 1.25 6.49 8.75 4.45 8.75 4.45 8.75 11.25 4.45 6.49 9.25 8.75 1.25 4.45 11.25 8.75 1.50 8.75 1.25 9.25 9.39 4.45 9.25 8.75 4.45 1.25 11.25 11.75 8.75 11.25 9.25 8.75 11.25 2.50 2.50 17.50 17.50 9.25 4.45 11.25 1.25 8.75 4.45 1.50 8.75 1.25 9.39 8.75 8.75 4.45 11.25 1.25 9.25 4.45 11.25 8.75 3.00 3.00 8.75 2.15 1.25 11.25 11.25 4.45 11.25 11.25 8.75 11.75 11.75 11.75 8.75 4.45 1.25 1.50 8.75 4.45 1.25 9.25 8.75 4.45 1.25 11.75 11.25 1.25 11.75 11.25 9.25 2.15 1.50 8.75 4.45 11.75 11.75 11.25 8.75 8.75 '"
      ]
     },
     "execution_count": 207,
     "metadata": {},
     "output_type": "execute_result"
    }
   ],
   "source": [
    "total_revenue"
   ]
  },
  {
   "cell_type": "code",
   "execution_count": null,
   "id": "e8c86c45",
   "metadata": {
    "collapsed": true
   },
   "outputs": [],
   "source": []
  }
 ],
 "metadata": {
  "kernelspec": {
   "display_name": "Python 3 (ipykernel)",
   "language": "python",
   "name": "python3"
  },
  "language_info": {
   "codemirror_mode": {
    "name": "ipython",
    "version": 3
   },
   "file_extension": ".py",
   "mimetype": "text/x-python",
   "name": "python",
   "nbconvert_exporter": "python",
   "pygments_lexer": "ipython3",
   "version": "3.11.4"
  }
 },
 "nbformat": 4,
 "nbformat_minor": 5
}
